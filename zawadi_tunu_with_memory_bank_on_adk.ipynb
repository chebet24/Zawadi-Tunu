{
  "cells": [
    {
      "cell_type": "markdown",
      "metadata": {
        "id": "9WojHih1hvnv"
      },
      "source": [
        "# Get started with Zawadi Tunu Built with Memory Bank on ADK\n",
        "\n",
        "<table align=\"left\">\n",
        "  <td style=\"text-align: center\">\n",
        "    <a href=\"https://colab.research.google.com/github/mwanyumba7/Zawadi-Tunu/blob/main/zawadi_tunu_with_memory_bank_on_adk.ipynb\">\n",
        "      <img width=\"32px\" src=\"https://www.gstatic.com/pantheon/images/bigquery/welcome_page/colab-logo.svg\" alt=\"Google Colaboratory logo\"><br> Open in Colab\n",
        "    </a>\n",
        "  </td>\n",
        "</table>"
      ]
    },
    {
      "cell_type": "markdown",
      "metadata": {
        "id": "qlXbr9YbMyzc"
      },
      "source": [
        "## Overview\n",
        "We will be building an Agent `Zawadi Tunu` which is an agent ispecialized in gift recommendation engine designed to elevate the act of gift-giving, transforming it from a chore into a deeply personalized and meaningful experience. Built as a demonstration of the Agent Development Kit (ADK) for Gemini and the Vertex AI Memory Bank, this agent's core strength lies in its ability to retain and recall nuanced information over time.\n",
        "\n",
        "Instead of generic suggestions, the agent uses its long-term memory to remember key details gleaned from previous conversations: a niece's age and past birthday presents (like the \"red bike\" in the demo), a spouse's stated preference for aisle seats, or a parent's hint about a desired hobby.\n",
        "\n",
        "This tutorial demonstrates how to build ADK agents with Memory, including both `InMemoryMemoryService` and `VertexAiMemoryBankService`.\n",
        "\n",
        "This tutorial will cover:\n",
        "* Comparing `InMemoryMemoryService` vs. `VertexAiMemoryBankService`.\n",
        "* Generating memories with ADK and Agent Engine Memory Bank.\n",
        "* Retrieving memories with ADK and Agent Engine Memory Bank.\n",
        "* Customizing your Memory Bank instance's behavior."
      ]
    },
    {
      "cell_type": "markdown",
      "metadata": {
        "id": "HSSuQi5wS-AY"
      },
      "source": [
        "## Get started"
      ]
    },
    {
      "cell_type": "markdown",
      "metadata": {
        "id": "ngEAiXw8cQRt"
      },
      "source": [
        "### Install Google Gen AI SDK and other required packages\n"
      ]
    },
    {
      "cell_type": "code",
      "execution_count": 4,
      "metadata": {
        "id": "ZNg0utat73eG"
      },
      "outputs": [],
      "source": [
        "%pip install google-adk google-cloud-aiplatform --upgrade --quiet"
      ]
    },
    {
      "cell_type": "markdown",
      "metadata": {
        "id": "bbArJaMNcWVz"
      },
      "source": [
        "### Authenticate your notebook environment (Colab only)\n",
        "\n",
        "If you're running this notebook on Google Colab, run the cell below to authenticate your environment."
      ]
    },
    {
      "cell_type": "code",
      "execution_count": 6,
      "metadata": {
        "id": "oMmt34WM-08o"
      },
      "outputs": [],
      "source": [
        "import sys\n",
        "\n",
        "if \"google.colab\" in sys.modules:\n",
        "    from google.colab import auth\n",
        "\n",
        "    auth.authenticate_user()"
      ]
    },
    {
      "cell_type": "markdown",
      "metadata": {
        "id": "mbeaDydxcdEo"
      },
      "source": [
        "### Set Google Cloud project information\n",
        "\n",
        "To get started using Vertex AI, you must have an existing Google Cloud project and [enable the Vertex AI API](https://console.cloud.google.com/flows/enableapi?apiid=aiplatform.googleapis.com).\n",
        "\n",
        "Learn more about [setting up a project and a development environment](https://cloud.google.com/vertex-ai/docs/start/cloud-environment)."
      ]
    },
    {
      "cell_type": "code",
      "execution_count": 7,
      "metadata": {
        "id": "PKZ_ad_g_AuU"
      },
      "outputs": [],
      "source": [
        "# Use the environment variable if the user doesn't provide Project ID.\n",
        "import os\n",
        "\n",
        "import vertexai\n",
        "\n",
        "# fmt: off\n",
        "PROJECT = \"adkai-475815\"  # @param {type: \"string\", placeholder: \"[your-project-id]\", isTemplate: true}\n",
        "# fmt: on\n",
        "if not PROJECT or PROJECT == \"[your-project-id]\":\n",
        "    PROJECT = str(os.environ.get(\"GOOGLE_CLOUD_PROJECT\"))\n",
        "\n",
        "LOCATION = os.environ.get(\"GOOGLE_CLOUD_REGION\", \"us-central1\")\n",
        "\n",
        "client = vertexai.Client(project=PROJECT, location=LOCATION)\n",
        "\n",
        "# Set environment variables for ADK.\n",
        "os.environ[\"GOOGLE_GENAI_USE_VERTEXAI\"] = \"TRUE\"\n",
        "os.environ[\"GOOGLE_CLOUD_PROJECT\"] = PROJECT\n",
        "os.environ[\"GOOGLE_CLOUD_LOCATION\"] = LOCATION"
      ]
    },
    {
      "cell_type": "markdown",
      "metadata": {
        "id": "b2fe816fc0d0"
      },
      "source": [
        "## (Optional) Set up logging\n",
        "To surface ADK logs in your notebook, you may need to configure the logging level of ADK's logger."
      ]
    },
    {
      "cell_type": "code",
      "execution_count": 9,
      "metadata": {
        "id": "91955e5b44ec"
      },
      "outputs": [],
      "source": [
        "import logging\n",
        "import sys\n",
        "\n",
        "# Set up a general handler for all logs to be printed in your Colab output.\n",
        "# We'll set the overall level to INFO.\n",
        "logging.basicConfig(\n",
        "    level=logging.INFO,\n",
        "    format=\"%(asctime)s - %(name)s - %(levelname)s - %(message)s\",\n",
        "    stream=sys.stdout,\n",
        ")\n",
        "\n",
        "# Get the specific logger used by ADK.\n",
        "adk_logger = logging.getLogger(\"google_adk\")\n",
        "\n",
        "# Set its level to DEBUG to ensure you capture ALL messages from the SDK,\n",
        "# even if the general level is higher (like INFO).\n",
        "adk_logger.setLevel(logging.DEBUG)"
      ]
    },
    {
      "cell_type": "markdown",
      "metadata": {
        "id": "W0n_JRrHNUUX"
      },
      "source": [
        "## Define a simple agent\n",
        "\n",
        "The ADK Runner defines what session service is used by the agent. The session service is responsible for saving the conversation history.\n",
        "\n",
        "In this example, we're using the in-memory session service (`InMemorySessionService`). However, you can use any session service with Memory.\n",
        "\n",
        "If you want to use Google's pre-built Memory tools, you can provide a Memory service to the Runner as well. In this example, we'll start by directly invoking memory so that we can compare different services. So, we're not directly setting `memory_service` in the Runner."
      ]
    },
    {
      "cell_type": "code",
      "execution_count": 10,
      "metadata": {
        "id": "rKxFZmSRAECu"
      },
      "outputs": [],
      "source": [
        "from google.adk.agents import LlmAgent\n",
        "from google.adk.runners import Runner\n",
        "from google.adk.sessions import InMemorySessionService\n",
        "from google.genai.types import Content, Part\n",
        "\n",
        "APP_NAME = \"memory_example_app\"\n",
        "MODEL = \"gemini-2.5-flash\"\n",
        "\n",
        "agent = LlmAgent(\n",
        "    model=MODEL,\n",
        "    name=\"Generic_QA_Agent\",\n",
        "    instruction=\"Answer the user's questions\",\n",
        ")\n",
        "\n",
        "session_service = InMemorySessionService()\n",
        "\n",
        "runner = Runner(agent=agent, app_name=APP_NAME, session_service=session_service)\n",
        "\n",
        "\n",
        "def call_agent(query, session, user_id):\n",
        "    content = Content(role=\"user\", parts=[Part(text=query)])\n",
        "    events = runner.run(user_id=user_id, session_id=session, new_message=content)\n",
        "\n",
        "    for event in events:\n",
        "        if event.is_final_response():\n",
        "            final_response = event.content.parts[0].text\n",
        "            print(\"Agent Response: \", final_response)"
      ]
    },
    {
      "cell_type": "markdown",
      "metadata": {
        "id": "WEAg11vnOyYs"
      },
      "source": [
        "## Introduction to ADK Memory Service\n",
        "ADK memory services offer an interface for creating and searching for memories. The [`BaseMemoryService`](https://github.com/google/adk-python/blob/main/src/google/adk/memory/base_memory_service.py) defines the interface for managing this searchable, long-term knowledge store. Its primary responsibilities are:\n",
        "\n",
        "* Ingesting Information (`add_session_to_memory`): Taking the contents of a (usually completed) Session and adding relevant information to the long-term knowledge store.\n",
        "* Searching Information (`search_memory`): Allowing an agent (typically via a Tool) to query the knowledge store and retrieve relevant snippets or context based on a search query.\n",
        "\n",
        "In this colab, we'll cover two options:\n",
        "\n",
        "* `InMemoryMemoryService`: A in-memory service that allows you to search your conversation history to retrieve the raw dialogue using basic keyword matching.\n",
        "* `VertexAiMemoryBankService`: A remote service that remotely generates memories for \"meaningful\" information from user conversation.\n",
        "\n",
        "\n",
        "You can also interact directly with Memory Bank by using the Agent Engine SDK."
      ]
    },
    {
      "cell_type": "markdown",
      "metadata": {
        "id": "LSZQQAPQWBXs"
      },
      "source": [
        "### `InMemoryMemoryService`\n",
        "\n",
        "[`InMemoryMemoryService`](https://github.com/google/adk-python/blob/main/src/google/adk/memory/in_memory_memory_service.py) persists **all** information in-memory. The events are not condensed, and information is not extracted from them."
      ]
    },
    {
      "cell_type": "code",
      "execution_count": 11,
      "metadata": {
        "id": "HqXCHxi2Cb-n"
      },
      "outputs": [],
      "source": [
        "from google.adk.memory import InMemoryMemoryService\n",
        "\n",
        "in_memory_service = InMemoryMemoryService()"
      ]
    },
    {
      "cell_type": "markdown",
      "metadata": {
        "id": "mTuaUZ1DWG7L"
      },
      "source": [
        "### `VertexAiMemoryBankService`\n",
        "Memory Bank will only persist information that's meaningful for future interactions. [`VertexAiMemoryBankService`](https://github.com/google/adk-python/blob/main/src/google/adk/memory/vertex_ai_memory_bank_service.py) provides a built-in integration between Memory Bank and ADK.\n",
        "\n",
        "To get started with Memory Bank, you need to first create an Agent Engine. This only takes a few seconds.\n",
        "\n",
        "If you don't have a Google Cloud project, you can use [Vertex in Express mode, which only requires an API key](https://cloud.google.com/vertex-ai/generative-ai/docs/agent-engine/memory-bank/set-up#authentication)."
      ]
    },
    {
      "cell_type": "code",
      "execution_count": 12,
      "metadata": {
        "colab": {
          "base_uri": "https://localhost:8080/"
        },
        "id": "rZP-0IVaQ5_N",
        "outputId": "80c55d7c-dc3f-47c4-e20c-c708c0747813"
      },
      "outputs": [
        {
          "output_type": "stream",
          "name": "stderr",
          "text": [
            "INFO:vertexai_genai.agentengines:View progress and logs at https://console.cloud.google.com/logs/query?project=adkai-475815.\n",
            "INFO:vertexai_genai.agentengines:Agent Engine created. To use it in another session:\n",
            "INFO:vertexai_genai.agentengines:agent_engine=client.agent_engines.get('projects/1064971132641/locations/us-central1/reasoningEngines/4350675152132898816')\n"
          ]
        }
      ],
      "source": [
        "import vertexai\n",
        "from google.adk.memory import VertexAiMemoryBankService\n",
        "\n",
        "client = vertexai.Client(project=PROJECT, location=LOCATION)\n",
        "\n",
        "agent_engine = client.agent_engines.create(\n",
        "    config={\n",
        "        \"context_spec\": {\n",
        "            \"memory_bank_config\": {\n",
        "                \"generation_config\": {\n",
        "                    \"model\": f\"projects/{PROJECT}/locations/{LOCATION}/publishers/google/models/gemini-2.5-flash\"\n",
        "                }\n",
        "            }\n",
        "        }\n",
        "    }\n",
        ")\n",
        "\n",
        "memory_bank_service = VertexAiMemoryBankService(\n",
        "    agent_engine_id=agent_engine.api_resource.name.split(\"/\")[-1],\n",
        "    project=PROJECT,\n",
        "    location=LOCATION,\n",
        ")"
      ]
    },
    {
      "cell_type": "markdown",
      "metadata": {
        "id": "N-IrevumRepq"
      },
      "source": [
        "## Generating Memories\n",
        "\n",
        "Memories will be generated from your conversation history stored in the `Session` object. The ADK `add_session_to_memory` method is responsible for triggering memory generation for your memory service, but the exact behavior depends on which service you use:\n",
        "\n",
        "* `InMemoryMemoryService` persists all information, including the raw dialogue.\n",
        "\n",
        "* `VertexAiMemoryBankService` only persists *meaningful* information. Not all conversations will result in generated memories. Additionally, the information will be condensed to individual, self-contained memories.\n",
        "\n",
        "In this example, we create two sessions:\n",
        "1. `chit_chat_session`, which is a conversation that contains events that may not be meaningful for future interactions.\n",
        "2. `recommendations_session`, which is a conversation about looking for birthday presents for a family member. It includes implicit information that may be helpful for future conversations."
      ]
    },
    {
      "cell_type": "code",
      "execution_count": 13,
      "metadata": {
        "colab": {
          "base_uri": "https://localhost:8080/"
        },
        "id": "VfTIuJfFAR2z",
        "outputId": "64a38105-ff3c-4314-be6b-ce8ad3776463"
      },
      "outputs": [
        {
          "output_type": "stream",
          "name": "stderr",
          "text": [
            "INFO:google_adk.google.adk.models.google_llm:Sending out request, model: gemini-2.5-flash, backend: GoogleLLMVariant.VERTEX_AI, stream: False\n",
            "DEBUG:google_adk.google.adk.models.google_llm:\n",
            "LLM Request:\n",
            "-----------------------------------------------------------\n",
            "System Instruction:\n",
            "Answer the user's questions\n",
            "\n",
            "You are an agent. Your internal name is \"Generic_QA_Agent\".\n",
            "-----------------------------------------------------------\n",
            "Contents:\n",
            "{\"parts\":[{\"text\":\"what types of questions do you answer\"}],\"role\":\"user\"}\n",
            "-----------------------------------------------------------\n",
            "Functions:\n",
            "\n",
            "-----------------------------------------------------------\n",
            "\n",
            "INFO:google_adk.google.adk.models.google_llm:Response received from the model.\n",
            "DEBUG:google_adk.google.adk.models.google_llm:\n",
            "LLM Response:\n",
            "-----------------------------------------------------------\n",
            "Text:\n",
            "As an AI, I can answer a wide variety of questions across many domains. Here are some of the types of questions I can help with:\n",
            "\n",
            "*   **Factual Information:** Questions about history, science, geography, current events, famous people, definitions, etc.\n",
            "*   **Explanations and Concepts:** I can explain complex topics, theories, and ideas in a clear and concise manner.\n",
            "*   **How-to Guides/Instructions:** I can provide steps or instructions for various tasks, from cooking to technical procedures.\n",
            "*   **Summarization:** I can summarize articles, documents, or conversations if you provide the text.\n",
            "*   **Creative Writing:** I can generate stories, poems, scripts, song lyrics, or creative text based on your prompts.\n",
            "*   **Language Tasks:** This includes translation, grammar correction, rephrasing sentences, and generating text in different styles.\n",
            "*   **Problem Solving (Information-based):** I can help break down problems, offer potential solutions based on available information, or provide steps for troubleshooting.\n",
            "*   **Coding and Programming:** I can explain code, generate code snippets, debug simple issues, and help understand programming concepts.\n",
            "*   **Comparisons and Recommendations:** I can compare different products, services, or concepts, and offer recommendations based on criteria you provide (though I don't have personal preferences or real-time access to reviews).\n",
            "*   **Brainstorming and Idea Generation:** I can help you brainstorm ideas for projects, names, topics, and more.\n",
            "\n",
            "Essentially, if a question can be answered using general knowledge, logical reasoning, or by generating text, I can likely assist.\n",
            "\n",
            "**What I *cannot* do:**\n",
            "\n",
            "*   **Perform real-world actions:** I can't send emails, make calls, book appointments, or control physical devices.\n",
            "*   **Provide personal opinions or beliefs:** I don't have personal experiences, feelings, or subjective opinions.\n",
            "*   **Offer medical, legal, or financial advice:** Always consult a qualified professional for these areas.\n",
            "*   **Access real-time, private, or proprietary data:** My knowledge cut-off means I don't have up-to-the-minute information on everything, and I don't have access to your personal data or private databases unless specifically integrated.\n",
            "*   **Engage in unethical or harmful tasks:** I am programmed to be helpful and harmless.\n",
            "-----------------------------------------------------------\n",
            "Function calls:\n",
            "\n",
            "-----------------------------------------------------------\n",
            "Raw response:\n",
            "{\"sdk_http_response\":{\"headers\":{\"Content-Type\":\"application/json; charset=UTF-8\",\"Vary\":\"Origin, X-Origin, Referer\",\"Content-Encoding\":\"gzip\",\"Date\":\"Tue, 21 Oct 2025 16:52:03 GMT\",\"Server\":\"scaffolding on HTTPServer2\",\"X-XSS-Protection\":\"0\",\"X-Frame-Options\":\"SAMEORIGIN\",\"X-Content-Type-Options\":\"nosniff\",\"Transfer-Encoding\":\"chunked\"}},\"candidates\":[{\"content\":{\"parts\":[{\"text\":\"As an AI, I can answer a wide variety of questions across many domains. Here are some of the types of questions I can help with:\\n\\n*   **Factual Information:** Questions about history, science, geography, current events, famous people, definitions, etc.\\n*   **Explanations and Concepts:** I can explain complex topics, theories, and ideas in a clear and concise manner.\\n*   **How-to Guides/Instructions:** I can provide steps or instructions for various tasks, from cooking to technical procedures.\\n*   **Summarization:** I can summarize articles, documents, or conversations if you provide the text.\\n*   **Creative Writing:** I can generate stories, poems, scripts, song lyrics, or creative text based on your prompts.\\n*   **Language Tasks:** This includes translation, grammar correction, rephrasing sentences, and generating text in different styles.\\n*   **Problem Solving (Information-based):** I can help break down problems, offer potential solutions based on available information, or provide steps for troubleshooting.\\n*   **Coding and Programming:** I can explain code, generate code snippets, debug simple issues, and help understand programming concepts.\\n*   **Comparisons and Recommendations:** I can compare different products, services, or concepts, and offer recommendations based on criteria you provide (though I don't have personal preferences or real-time access to reviews).\\n*   **Brainstorming and Idea Generation:** I can help you brainstorm ideas for projects, names, topics, and more.\\n\\nEssentially, if a question can be answered using general knowledge, logical reasoning, or by generating text, I can likely assist.\\n\\n**What I *cannot* do:**\\n\\n*   **Perform real-world actions:** I can't send emails, make calls, book appointments, or control physical devices.\\n*   **Provide personal opinions or beliefs:** I don't have personal experiences, feelings, or subjective opinions.\\n*   **Offer medical, legal, or financial advice:** Always consult a qualified professional for these areas.\\n*   **Access real-time, private, or proprietary data:** My knowledge cut-off means I don't have up-to-the-minute information on everything, and I don't have access to your personal data or private databases unless specifically integrated.\\n*   **Engage in unethical or harmful tasks:** I am programmed to be helpful and harmless.\"}],\"role\":\"model\"},\"finish_reason\":\"STOP\",\"avg_logprobs\":-0.5550342238092997}],\"create_time\":\"2025-10-21T16:51:59.237227Z\",\"model_version\":\"gemini-2.5-flash\",\"response_id\":\"L7r3aKu9Duv8698Pl73V0QY\",\"usage_metadata\":{\"candidates_token_count\":498,\"candidates_tokens_details\":[{\"modality\":\"TEXT\",\"token_count\":498}],\"prompt_token_count\":30,\"prompt_tokens_details\":[{\"modality\":\"TEXT\",\"token_count\":30}],\"thoughts_token_count\":247,\"total_token_count\":775,\"traffic_type\":\"ON_DEMAND\"},\"automatic_function_calling_history\":[]}\n",
            "-----------------------------------------------------------\n",
            "\n"
          ]
        },
        {
          "output_type": "stream",
          "name": "stdout",
          "text": [
            "Agent Response:  As an AI, I can answer a wide variety of questions across many domains. Here are some of the types of questions I can help with:\n",
            "\n",
            "*   **Factual Information:** Questions about history, science, geography, current events, famous people, definitions, etc.\n",
            "*   **Explanations and Concepts:** I can explain complex topics, theories, and ideas in a clear and concise manner.\n",
            "*   **How-to Guides/Instructions:** I can provide steps or instructions for various tasks, from cooking to technical procedures.\n",
            "*   **Summarization:** I can summarize articles, documents, or conversations if you provide the text.\n",
            "*   **Creative Writing:** I can generate stories, poems, scripts, song lyrics, or creative text based on your prompts.\n",
            "*   **Language Tasks:** This includes translation, grammar correction, rephrasing sentences, and generating text in different styles.\n",
            "*   **Problem Solving (Information-based):** I can help break down problems, offer potential solutions based on available information, or provide steps for troubleshooting.\n",
            "*   **Coding and Programming:** I can explain code, generate code snippets, debug simple issues, and help understand programming concepts.\n",
            "*   **Comparisons and Recommendations:** I can compare different products, services, or concepts, and offer recommendations based on criteria you provide (though I don't have personal preferences or real-time access to reviews).\n",
            "*   **Brainstorming and Idea Generation:** I can help you brainstorm ideas for projects, names, topics, and more.\n",
            "\n",
            "Essentially, if a question can be answered using general knowledge, logical reasoning, or by generating text, I can likely assist.\n",
            "\n",
            "**What I *cannot* do:**\n",
            "\n",
            "*   **Perform real-world actions:** I can't send emails, make calls, book appointments, or control physical devices.\n",
            "*   **Provide personal opinions or beliefs:** I don't have personal experiences, feelings, or subjective opinions.\n",
            "*   **Offer medical, legal, or financial advice:** Always consult a qualified professional for these areas.\n",
            "*   **Access real-time, private, or proprietary data:** My knowledge cut-off means I don't have up-to-the-minute information on everything, and I don't have access to your personal data or private databases unless specifically integrated.\n",
            "*   **Engage in unethical or harmful tasks:** I am programmed to be helpful and harmless.\n"
          ]
        }
      ],
      "source": [
        "USER_ID = \"My User\"\n",
        "\n",
        "chit_chat_session = await session_service.create_session(\n",
        "    app_name=APP_NAME, user_id=USER_ID\n",
        ")\n",
        "\n",
        "call_agent(\n",
        "    \"what types of questions do you answer\", chit_chat_session.id, user_id=USER_ID\n",
        ")\n",
        "# Refresh session object.\n",
        "chit_chat_session = await session_service.get_session(\n",
        "    app_name=APP_NAME, user_id=USER_ID, session_id=chit_chat_session.id\n",
        ")"
      ]
    },
    {
      "cell_type": "code",
      "execution_count": 14,
      "metadata": {
        "colab": {
          "base_uri": "https://localhost:8080/"
        },
        "id": "hLvyyXRHEEQH",
        "outputId": "ad211b71-f80f-4a0e-dab4-465277b6a59e"
      },
      "outputs": [
        {
          "output_type": "stream",
          "name": "stderr",
          "text": [
            "INFO:google_adk.google.adk.models.google_llm:Sending out request, model: gemini-2.5-flash, backend: GoogleLLMVariant.VERTEX_AI, stream: False\n",
            "DEBUG:google_adk.google.adk.models.google_llm:\n",
            "LLM Request:\n",
            "-----------------------------------------------------------\n",
            "System Instruction:\n",
            "Answer the user's questions\n",
            "\n",
            "You are an agent. Your internal name is \"Generic_QA_Agent\".\n",
            "-----------------------------------------------------------\n",
            "Contents:\n",
            "{\"parts\":[{\"text\":\"I have a three year old niece. What recommendations do you have for birthday presents?\"}],\"role\":\"user\"}\n",
            "-----------------------------------------------------------\n",
            "Functions:\n",
            "\n",
            "-----------------------------------------------------------\n",
            "\n",
            "INFO:google_adk.google.adk.models.google_llm:Response received from the model.\n",
            "DEBUG:google_adk.google.adk.models.google_llm:\n",
            "LLM Response:\n",
            "-----------------------------------------------------------\n",
            "Text:\n",
            "That's wonderful! Three-year-olds are at such a fun age, full of imagination and rapidly developing skills. Here are some birthday present recommendations for your niece, categorized to help you choose:\n",
            "\n",
            "**1. Imaginative Play & Pretend Play:**\n",
            "This is a prime age for make-believe!\n",
            "*   **Play Kitchen or Food Sets:** Little chefs love cooking up imaginary meals. Look for wooden or durable plastic sets.\n",
            "*   **Dress-Up Clothes:** Princess outfits, superhero capes, animal costumes, or everyday \"job\" outfits (doctor, firefighter) can spark endless role-playing.\n",
            "*   **Dollhouse & Figurines:** Simple dollhouses with chunky furniture and figures encourage storytelling.\n",
            "*   **Animal Figures/Farm Sets:** Dinosaurs, farm animals, or zoo animals are great for creating little worlds.\n",
            "*   **Doctor's Kit:** Kids love \"fixing\" their stuffed animals or family members.\n",
            "\n",
            "**2. Building & Construction:**\n",
            "Great for fine motor skills and problem-solving.\n",
            "*   **DUPLO Blocks:** These larger LEGO bricks are perfect for little hands and creativity.\n",
            "*   **Magnetic Tiles (e.g., Magna-Tiles, PicassoTiles):** These are incredibly popular and foster open-ended building, spatial reasoning, and creativity.\n",
            "*   **Wooden Blocks:** Classic and versatile for building towers, houses, or anything they can imagine.\n",
            "\n",
            "**3. Arts & Crafts:**\n",
            "Encourage creativity and fine motor development.\n",
            "*   **Washable Markers, Jumbo Crayons, or Finger Paints:** Look for non-toxic and easily washable options.\n",
            "*   **Play-Doh Sets:** With cutters, rollers, and extruders, Play-Doh provides hours of sensory and creative fun.\n",
            "*   **Large Paper Pad or Tabletop Easel:** Gives them a big canvas for their masterpieces.\n",
            "*   **Sticker Books:** Kids love peeling and sticking!\n",
            "\n",
            "**4. Books:**\n",
            "Foster a love of reading and expand vocabulary.\n",
            "*   **Picture Books:** Choose engaging stories with colorful illustrations.\n",
            "*   **Lift-the-Flap Books:** These add an interactive element that three-year-olds adore.\n",
            "*   **Sound Books:** Books with buttons that make animal sounds or musical tunes.\n",
            "*   **Personalized Books:** A book where your niece is the main character can be very special.\n",
            "\n",
            "**5. Outdoor & Active Play:**\n",
            "Help them burn energy and develop gross motor skills.\n",
            "*   **Tricycle or Balance Bike:** A great precursor to a two-wheeler, balance bikes are fantastic for learning coordination.\n",
            "*   **Scooter (3-Wheel):** Stable and fun for zipping around.\n",
            "*   **Bubble Machine & Solution:** Always a hit, providing endless delight.\n",
            "*   **Sandbox Toys:** If they have a sandbox, new shovels, buckets, and molds are always welcome.\n",
            "\n",
            "**6. Puzzles & Games:**\n",
            "Good for problem-solving and cognitive development.\n",
            "*   **Chunky Wooden Puzzles:** Simple puzzles with 4-12 pieces are perfect for this age.\n",
            "*   **Simple Board Games:** Games like \"Candy Land\" or \"Roll & Play\" are designed for young children and teach turn-taking.\n",
            "*   **Shape Sorters:** Classic toys that help with shape recognition and fine motor skills.\n",
            "\n",
            "**Tips for Choosing:**\n",
            "*   **Consider her current interests:** Does she love animals, princesses, cars, or art?\n",
            "*   **Durability:** Look for toys that can withstand enthusiastic play.\n",
            "*   **Safety:** Ensure toys are age-appropriate and don't have small parts that could be choking hazards.\n",
            "*   **Open-ended Play:** Toys that can be used in multiple ways often have the longest lifespan of interest.\n",
            "\n",
            "I hope this gives you a great starting point for finding the perfect gift!\n",
            "-----------------------------------------------------------\n",
            "Function calls:\n",
            "\n",
            "-----------------------------------------------------------\n",
            "Raw response:\n",
            "{\"sdk_http_response\":{\"headers\":{\"Content-Type\":\"application/json; charset=UTF-8\",\"Vary\":\"Origin, X-Origin, Referer\",\"Content-Encoding\":\"gzip\",\"Date\":\"Tue, 21 Oct 2025 17:18:00 GMT\",\"Server\":\"scaffolding on HTTPServer2\",\"X-XSS-Protection\":\"0\",\"X-Frame-Options\":\"SAMEORIGIN\",\"X-Content-Type-Options\":\"nosniff\",\"Transfer-Encoding\":\"chunked\"}},\"candidates\":[{\"content\":{\"parts\":[{\"text\":\"That's wonderful! Three-year-olds are at such a fun age, full of imagination and rapidly developing skills. Here are some birthday present recommendations for your niece, categorized to help you choose:\\n\\n**1. Imaginative Play & Pretend Play:**\\nThis is a prime age for make-believe!\\n*   **Play Kitchen or Food Sets:** Little chefs love cooking up imaginary meals. Look for wooden or durable plastic sets.\\n*   **Dress-Up Clothes:** Princess outfits, superhero capes, animal costumes, or everyday \\\"job\\\" outfits (doctor, firefighter) can spark endless role-playing.\\n*   **Dollhouse & Figurines:** Simple dollhouses with chunky furniture and figures encourage storytelling.\\n*   **Animal Figures/Farm Sets:** Dinosaurs, farm animals, or zoo animals are great for creating little worlds.\\n*   **Doctor's Kit:** Kids love \\\"fixing\\\" their stuffed animals or family members.\\n\\n**2. Building & Construction:**\\nGreat for fine motor skills and problem-solving.\\n*   **DUPLO Blocks:** These larger LEGO bricks are perfect for little hands and creativity.\\n*   **Magnetic Tiles (e.g., Magna-Tiles, PicassoTiles):** These are incredibly popular and foster open-ended building, spatial reasoning, and creativity.\\n*   **Wooden Blocks:** Classic and versatile for building towers, houses, or anything they can imagine.\\n\\n**3. Arts & Crafts:**\\nEncourage creativity and fine motor development.\\n*   **Washable Markers, Jumbo Crayons, or Finger Paints:** Look for non-toxic and easily washable options.\\n*   **Play-Doh Sets:** With cutters, rollers, and extruders, Play-Doh provides hours of sensory and creative fun.\\n*   **Large Paper Pad or Tabletop Easel:** Gives them a big canvas for their masterpieces.\\n*   **Sticker Books:** Kids love peeling and sticking!\\n\\n**4. Books:**\\nFoster a love of reading and expand vocabulary.\\n*   **Picture Books:** Choose engaging stories with colorful illustrations.\\n*   **Lift-the-Flap Books:** These add an interactive element that three-year-olds adore.\\n*   **Sound Books:** Books with buttons that make animal sounds or musical tunes.\\n*   **Personalized Books:** A book where your niece is the main character can be very special.\\n\\n**5. Outdoor & Active Play:**\\nHelp them burn energy and develop gross motor skills.\\n*   **Tricycle or Balance Bike:** A great precursor to a two-wheeler, balance bikes are fantastic for learning coordination.\\n*   **Scooter (3-Wheel):** Stable and fun for zipping around.\\n*   **Bubble Machine & Solution:** Always a hit, providing endless delight.\\n*   **Sandbox Toys:** If they have a sandbox, new shovels, buckets, and molds are always welcome.\\n\\n**6. Puzzles & Games:**\\nGood for problem-solving and cognitive development.\\n*   **Chunky Wooden Puzzles:** Simple puzzles with 4-12 pieces are perfect for this age.\\n*   **Simple Board Games:** Games like \\\"Candy Land\\\" or \\\"Roll & Play\\\" are designed for young children and teach turn-taking.\\n*   **Shape Sorters:** Classic toys that help with shape recognition and fine motor skills.\\n\\n**Tips for Choosing:**\\n*   **Consider her current interests:** Does she love animals, princesses, cars, or art?\\n*   **Durability:** Look for toys that can withstand enthusiastic play.\\n*   **Safety:** Ensure toys are age-appropriate and don't have small parts that could be choking hazards.\\n*   **Open-ended Play:** Toys that can be used in multiple ways often have the longest lifespan of interest.\\n\\nI hope this gives you a great starting point for finding the perfect gift!\"}],\"role\":\"model\"},\"finish_reason\":\"STOP\",\"avg_logprobs\":-0.47656399146058503}],\"create_time\":\"2025-10-21T17:17:50.950066Z\",\"model_version\":\"gemini-2.5-flash\",\"response_id\":\"PsD3aLL-OdOTmecPtMz1uQk\",\"usage_metadata\":{\"candidates_token_count\":798,\"candidates_tokens_details\":[{\"modality\":\"TEXT\",\"token_count\":798}],\"prompt_token_count\":40,\"prompt_tokens_details\":[{\"modality\":\"TEXT\",\"token_count\":40}],\"thoughts_token_count\":634,\"total_token_count\":1472,\"traffic_type\":\"ON_DEMAND\"},\"automatic_function_calling_history\":[]}\n",
            "-----------------------------------------------------------\n",
            "\n"
          ]
        },
        {
          "output_type": "stream",
          "name": "stdout",
          "text": [
            "Agent Response:  That's wonderful! Three-year-olds are at such a fun age, full of imagination and rapidly developing skills. Here are some birthday present recommendations for your niece, categorized to help you choose:\n",
            "\n",
            "**1. Imaginative Play & Pretend Play:**\n",
            "This is a prime age for make-believe!\n",
            "*   **Play Kitchen or Food Sets:** Little chefs love cooking up imaginary meals. Look for wooden or durable plastic sets.\n",
            "*   **Dress-Up Clothes:** Princess outfits, superhero capes, animal costumes, or everyday \"job\" outfits (doctor, firefighter) can spark endless role-playing.\n",
            "*   **Dollhouse & Figurines:** Simple dollhouses with chunky furniture and figures encourage storytelling.\n",
            "*   **Animal Figures/Farm Sets:** Dinosaurs, farm animals, or zoo animals are great for creating little worlds.\n",
            "*   **Doctor's Kit:** Kids love \"fixing\" their stuffed animals or family members.\n",
            "\n",
            "**2. Building & Construction:**\n",
            "Great for fine motor skills and problem-solving.\n",
            "*   **DUPLO Blocks:** These larger LEGO bricks are perfect for little hands and creativity.\n",
            "*   **Magnetic Tiles (e.g., Magna-Tiles, PicassoTiles):** These are incredibly popular and foster open-ended building, spatial reasoning, and creativity.\n",
            "*   **Wooden Blocks:** Classic and versatile for building towers, houses, or anything they can imagine.\n",
            "\n",
            "**3. Arts & Crafts:**\n",
            "Encourage creativity and fine motor development.\n",
            "*   **Washable Markers, Jumbo Crayons, or Finger Paints:** Look for non-toxic and easily washable options.\n",
            "*   **Play-Doh Sets:** With cutters, rollers, and extruders, Play-Doh provides hours of sensory and creative fun.\n",
            "*   **Large Paper Pad or Tabletop Easel:** Gives them a big canvas for their masterpieces.\n",
            "*   **Sticker Books:** Kids love peeling and sticking!\n",
            "\n",
            "**4. Books:**\n",
            "Foster a love of reading and expand vocabulary.\n",
            "*   **Picture Books:** Choose engaging stories with colorful illustrations.\n",
            "*   **Lift-the-Flap Books:** These add an interactive element that three-year-olds adore.\n",
            "*   **Sound Books:** Books with buttons that make animal sounds or musical tunes.\n",
            "*   **Personalized Books:** A book where your niece is the main character can be very special.\n",
            "\n",
            "**5. Outdoor & Active Play:**\n",
            "Help them burn energy and develop gross motor skills.\n",
            "*   **Tricycle or Balance Bike:** A great precursor to a two-wheeler, balance bikes are fantastic for learning coordination.\n",
            "*   **Scooter (3-Wheel):** Stable and fun for zipping around.\n",
            "*   **Bubble Machine & Solution:** Always a hit, providing endless delight.\n",
            "*   **Sandbox Toys:** If they have a sandbox, new shovels, buckets, and molds are always welcome.\n",
            "\n",
            "**6. Puzzles & Games:**\n",
            "Good for problem-solving and cognitive development.\n",
            "*   **Chunky Wooden Puzzles:** Simple puzzles with 4-12 pieces are perfect for this age.\n",
            "*   **Simple Board Games:** Games like \"Candy Land\" or \"Roll & Play\" are designed for young children and teach turn-taking.\n",
            "*   **Shape Sorters:** Classic toys that help with shape recognition and fine motor skills.\n",
            "\n",
            "**Tips for Choosing:**\n",
            "*   **Consider her current interests:** Does she love animals, princesses, cars, or art?\n",
            "*   **Durability:** Look for toys that can withstand enthusiastic play.\n",
            "*   **Safety:** Ensure toys are age-appropriate and don't have small parts that could be choking hazards.\n",
            "*   **Open-ended Play:** Toys that can be used in multiple ways often have the longest lifespan of interest.\n",
            "\n",
            "I hope this gives you a great starting point for finding the perfect gift!\n"
          ]
        },
        {
          "output_type": "stream",
          "name": "stderr",
          "text": [
            "INFO:google_adk.google.adk.models.google_llm:Sending out request, model: gemini-2.5-flash, backend: GoogleLLMVariant.VERTEX_AI, stream: False\n",
            "DEBUG:google_adk.google.adk.models.google_llm:\n",
            "LLM Request:\n",
            "-----------------------------------------------------------\n",
            "System Instruction:\n",
            "Answer the user's questions\n",
            "\n",
            "You are an agent. Your internal name is \"Generic_QA_Agent\".\n",
            "-----------------------------------------------------------\n",
            "Contents:\n",
            "{\"parts\":[{\"text\":\"I have a three year old niece. What recommendations do you have for birthday presents?\"}],\"role\":\"user\"}\n",
            "{\"parts\":[{\"text\":\"That's wonderful! Three-year-olds are at such a fun age, full of imagination and rapidly developing skills. Here are some birthday present recommendations for your niece, categorized to help you choose:\\n\\n**1. Imaginative Play & Pretend Play:**\\nThis is a prime age for make-believe!\\n*   **Play Kitchen or Food Sets:** Little chefs love cooking up imaginary meals. Look for wooden or durable plastic sets.\\n*   **Dress-Up Clothes:** Princess outfits, superhero capes, animal costumes, or everyday \\\"job\\\" outfits (doctor, firefighter) can spark endless role-playing.\\n*   **Dollhouse & Figurines:** Simple dollhouses with chunky furniture and figures encourage storytelling.\\n*   **Animal Figures/Farm Sets:** Dinosaurs, farm animals, or zoo animals are great for creating little worlds.\\n*   **Doctor's Kit:** Kids love \\\"fixing\\\" their stuffed animals or family members.\\n\\n**2. Building & Construction:**\\nGreat for fine motor skills and problem-solving.\\n*   **DUPLO Blocks:** These larger LEGO bricks are perfect for little hands and creativity.\\n*   **Magnetic Tiles (e.g., Magna-Tiles, PicassoTiles):** These are incredibly popular and foster open-ended building, spatial reasoning, and creativity.\\n*   **Wooden Blocks:** Classic and versatile for building towers, houses, or anything they can imagine.\\n\\n**3. Arts & Crafts:**\\nEncourage creativity and fine motor development.\\n*   **Washable Markers, Jumbo Crayons, or Finger Paints:** Look for non-toxic and easily washable options.\\n*   **Play-Doh Sets:** With cutters, rollers, and extruders, Play-Doh provides hours of sensory and creative fun.\\n*   **Large Paper Pad or Tabletop Easel:** Gives them a big canvas for their masterpieces.\\n*   **Sticker Books:** Kids love peeling and sticking!\\n\\n**4. Books:**\\nFoster a love of reading and expand vocabulary.\\n*   **Picture Books:** Choose engaging stories with colorful illustrations.\\n*   **Lift-the-Flap Books:** These add an interactive element that three-year-olds adore.\\n*   **Sound Books:** Books with buttons that make animal sounds or musical tunes.\\n*   **Personalized Books:** A book where your niece is the main character can be very special.\\n\\n**5. Outdoor & Active Play:**\\nHelp them burn energy and develop gross motor skills.\\n*   **Tricycle or Balance Bike:** A great precursor to a two-wheeler, balance bikes are fantastic for learning coordination.\\n*   **Scooter (3-Wheel):** Stable and fun for zipping around.\\n*   **Bubble Machine & Solution:** Always a hit, providing endless delight.\\n*   **Sandbox Toys:** If they have a sandbox, new shovels, buckets, and molds are always welcome.\\n\\n**6. Puzzles & Games:**\\nGood for problem-solving and cognitive development.\\n*   **Chunky Wooden Puzzles:** Simple puzzles with 4-12 pieces are perfect for this age.\\n*   **Simple Board Games:** Games like \\\"Candy Land\\\" or \\\"Roll & Play\\\" are designed for young children and teach turn-taking.\\n*   **Shape Sorters:** Classic toys that help with shape recognition and fine motor skills.\\n\\n**Tips for Choosing:**\\n*   **Consider her current interests:** Does she love animals, princesses, cars, or art?\\n*   **Durability:** Look for toys that can withstand enthusiastic play.\\n*   **Safety:** Ensure toys are age-appropriate and don't have small parts that could be choking hazards.\\n*   **Open-ended Play:** Toys that can be used in multiple ways often have the longest lifespan of interest.\\n\\nI hope this gives you a great starting point for finding the perfect gift!\"}],\"role\":\"model\"}\n",
            "{\"parts\":[{\"text\":\"I like the idea of a bike. Are there any age appropriate options?\"}],\"role\":\"user\"}\n",
            "-----------------------------------------------------------\n",
            "Functions:\n",
            "\n",
            "-----------------------------------------------------------\n",
            "\n",
            "INFO:google_adk.google.adk.models.google_llm:Response received from the model.\n",
            "DEBUG:google_adk.google.adk.models.google_llm:\n",
            "LLM Response:\n",
            "-----------------------------------------------------------\n",
            "Text:\n",
            "Yes, absolutely! A bike is a fantastic gift for a three-year-old. It promotes gross motor skills, coordination, balance, and confidence, and gets them active outdoors. For a three-year-old, there are a few age-appropriate options, each with its own benefits:\n",
            "\n",
            "---\n",
            "\n",
            "### 1. Balance Bikes (Highly Recommended)\n",
            "\n",
            "*   **What it is:** A balance bike is a two-wheeled bike without pedals or training wheels. Kids push off the ground with their feet to propel themselves forward and glide.\n",
            "*   **Why it's great for 3-year-olds:**\n",
            "    *   **Focus on Balance:** This is the *most effective* way to teach a child to ride a two-wheeled bike. They learn to steer, balance, and lean into turns naturally, without the distraction of pedaling.\n",
            "    *   **Natural Progression:** Children who master a balance bike often transition to a pedal bike (without training wheels) much more quickly and easily, sometimes skipping training wheels entirely.\n",
            "    *   **Confidence Building:** They can put their feet down instantly if they feel unstable, which builds confidence.\n",
            "    *   **Motor Skill Development:** Excellent for developing coordination, agility, and spatial awareness.\n",
            "*   **What to look for:**\n",
            "    *   **Lightweight:** Crucial for easy maneuvering and control.\n",
            "    *   **Adjustable Seat Height:** Make sure your niece can comfortably place her feet flat on the ground with a slight bend in her knees when sitting on the seat. This allows her to push off and stop safely.\n",
            "    *   **Footrest (Optional but nice):** Some balance bikes have a small footrest where kids can place their feet once they start gliding.\n",
            "    *   **Air-filled tires:** Provide better traction and a smoother ride than foam tires.\n",
            "*   **Popular Brands:** Strider, Woom, Puky, Joovy.\n",
            "\n",
            "---\n",
            "\n",
            "### 2. Tricycles\n",
            "\n",
            "*   **What it is:** A three-wheeled cycle with pedals, offering high stability.\n",
            "*   **Why it's good for 3-year-olds:**\n",
            "    *   **Stability:** The three wheels mean it won't tip over easily, which can be reassuring for some children and parents.\n",
            "    *   **Introduces Pedaling:** It allows them to practice the motion of pedaling.\n",
            "    *   **Early Fun:** Many kids enjoy the immediate gratification of being able to pedal and move themselves.\n",
            "*   **Considerations:**\n",
            "    *   **Doesn't Teach Balance:** While it teaches pedaling, it doesn't help with the crucial skill of balancing on two wheels.\n",
            "    *   **Can Be Outgrown Quickly:** Children might outgrow the tricycle's appeal once they want to learn a \"real\" bike.\n",
            "*   **What to look for:**\n",
            "    *   **Sturdiness:** A stable frame is essential.\n",
            "    *   **Parent Push Handle (Optional):** Some tricycles come with a handle so an adult can push and steer, which is great for younger or tired riders.\n",
            "    *   **Footrests:** If it has a push handle, ensure it has footrests for when the child isn't pedaling.\n",
            "\n",
            "---\n",
            "\n",
            "### 3. Small Pedal Bike with Training Wheels\n",
            "\n",
            "*   **What it is:** A traditional two-wheeled bicycle equipped with removable training wheels. For a 3-year-old, this would typically be a **12-inch wheel size**.\n",
            "*   **Why it might be an option:**\n",
            "    *   Some children, especially if they are tall for their age and have good coordination, might be ready for a 12-inch pedal bike.\n",
            "*   **Considerations:**\n",
            "    *   **Training Wheels vs. Balance:** Training wheels teach kids to rely on the wheels for stability, which can hinder the development of natural balance. This often leads to a longer and more challenging transition when the training wheels come off.\n",
            "    *   **Weight:** Pedal bikes, especially inexpensive ones, can be quite heavy for a small child, making them harder to maneuver.\n",
            "*   **What to look for:**\n",
            "    *   **Size:** Ensure her feet can comfortably touch the ground (or at least tip-toes) when seated.\n",
            "    *   **Lightweight Frame:** Look for aluminum frames if possible.\n",
            "    *   **Coaster Brake:** A \"back-pedal\" brake is easiest for this age. Hand brakes are usually too difficult for their small hands to operate effectively.\n",
            "\n",
            "---\n",
            "\n",
            "### **Essential Accessory for ANY Bike Gift:**\n",
            "\n",
            "*   **A Well-Fitting Helmet:** This is non-negotiable for safety. Make sure it meets safety standards (e.g., CPSC in the US) and fits snugly. Let her pick out one she loves!\n",
            "\n",
            "---\n",
            "\n",
            "**Recommendation for a 3-year-old:**\n",
            "\n",
            "If your goal is for her to learn to ride a two-wheeled bike independently down the line, a **balance bike** is by far the best choice. Most kids who start on a balance bike are riding a pedal bike without training wheels by age 4 or 5.\n",
            "\n",
            "If you just want something fun and stable for her to pedal around on, a **tricycle** is also a perfectly valid option.\n",
            "\n",
            "No matter which you choose, it's a gift that encourages outdoor play and active development!\n",
            "-----------------------------------------------------------\n",
            "Function calls:\n",
            "\n",
            "-----------------------------------------------------------\n",
            "Raw response:\n",
            "{\"sdk_http_response\":{\"headers\":{\"Content-Type\":\"application/json; charset=UTF-8\",\"Vary\":\"Origin, X-Origin, Referer\",\"Content-Encoding\":\"gzip\",\"Date\":\"Tue, 21 Oct 2025 17:18:11 GMT\",\"Server\":\"scaffolding on HTTPServer2\",\"X-XSS-Protection\":\"0\",\"X-Frame-Options\":\"SAMEORIGIN\",\"X-Content-Type-Options\":\"nosniff\",\"Transfer-Encoding\":\"chunked\"}},\"candidates\":[{\"content\":{\"parts\":[{\"text\":\"Yes, absolutely! A bike is a fantastic gift for a three-year-old. It promotes gross motor skills, coordination, balance, and confidence, and gets them active outdoors. For a three-year-old, there are a few age-appropriate options, each with its own benefits:\\n\\n---\\n\\n### 1. Balance Bikes (Highly Recommended)\\n\\n*   **What it is:** A balance bike is a two-wheeled bike without pedals or training wheels. Kids push off the ground with their feet to propel themselves forward and glide.\\n*   **Why it's great for 3-year-olds:**\\n    *   **Focus on Balance:** This is the *most effective* way to teach a child to ride a two-wheeled bike. They learn to steer, balance, and lean into turns naturally, without the distraction of pedaling.\\n    *   **Natural Progression:** Children who master a balance bike often transition to a pedal bike (without training wheels) much more quickly and easily, sometimes skipping training wheels entirely.\\n    *   **Confidence Building:** They can put their feet down instantly if they feel unstable, which builds confidence.\\n    *   **Motor Skill Development:** Excellent for developing coordination, agility, and spatial awareness.\\n*   **What to look for:**\\n    *   **Lightweight:** Crucial for easy maneuvering and control.\\n    *   **Adjustable Seat Height:** Make sure your niece can comfortably place her feet flat on the ground with a slight bend in her knees when sitting on the seat. This allows her to push off and stop safely.\\n    *   **Footrest (Optional but nice):** Some balance bikes have a small footrest where kids can place their feet once they start gliding.\\n    *   **Air-filled tires:** Provide better traction and a smoother ride than foam tires.\\n*   **Popular Brands:** Strider, Woom, Puky, Joovy.\\n\\n---\\n\\n### 2. Tricycles\\n\\n*   **What it is:** A three-wheeled cycle with pedals, offering high stability.\\n*   **Why it's good for 3-year-olds:**\\n    *   **Stability:** The three wheels mean it won't tip over easily, which can be reassuring for some children and parents.\\n    *   **Introduces Pedaling:** It allows them to practice the motion of pedaling.\\n    *   **Early Fun:** Many kids enjoy the immediate gratification of being able to pedal and move themselves.\\n*   **Considerations:**\\n    *   **Doesn't Teach Balance:** While it teaches pedaling, it doesn't help with the crucial skill of balancing on two wheels.\\n    *   **Can Be Outgrown Quickly:** Children might outgrow the tricycle's appeal once they want to learn a \\\"real\\\" bike.\\n*   **What to look for:**\\n    *   **Sturdiness:** A stable frame is essential.\\n    *   **Parent Push Handle (Optional):** Some tricycles come with a handle so an adult can push and steer, which is great for younger or tired riders.\\n    *   **Footrests:** If it has a push handle, ensure it has footrests for when the child isn't pedaling.\\n\\n---\\n\\n### 3. Small Pedal Bike with Training Wheels\\n\\n*   **What it is:** A traditional two-wheeled bicycle equipped with removable training wheels. For a 3-year-old, this would typically be a **12-inch wheel size**.\\n*   **Why it might be an option:**\\n    *   Some children, especially if they are tall for their age and have good coordination, might be ready for a 12-inch pedal bike.\\n*   **Considerations:**\\n    *   **Training Wheels vs. Balance:** Training wheels teach kids to rely on the wheels for stability, which can hinder the development of natural balance. This often leads to a longer and more challenging transition when the training wheels come off.\\n    *   **Weight:** Pedal bikes, especially inexpensive ones, can be quite heavy for a small child, making them harder to maneuver.\\n*   **What to look for:**\\n    *   **Size:** Ensure her feet can comfortably touch the ground (or at least tip-toes) when seated.\\n    *   **Lightweight Frame:** Look for aluminum frames if possible.\\n    *   **Coaster Brake:** A \\\"back-pedal\\\" brake is easiest for this age. Hand brakes are usually too difficult for their small hands to operate effectively.\\n\\n---\\n\\n### **Essential Accessory for ANY Bike Gift:**\\n\\n*   **A Well-Fitting Helmet:** This is non-negotiable for safety. Make sure it meets safety standards (e.g., CPSC in the US) and fits snugly. Let her pick out one she loves!\\n\\n---\\n\\n**Recommendation for a 3-year-old:**\\n\\nIf your goal is for her to learn to ride a two-wheeled bike independently down the line, a **balance bike** is by far the best choice. Most kids who start on a balance bike are riding a pedal bike without training wheels by age 4 or 5.\\n\\nIf you just want something fun and stable for her to pedal around on, a **tricycle** is also a perfectly valid option.\\n\\nNo matter which you choose, it's a gift that encourages outdoor play and active development!\"}],\"role\":\"model\"},\"finish_reason\":\"STOP\",\"avg_logprobs\":-0.4190422395689298}],\"create_time\":\"2025-10-21T17:18:01.043733Z\",\"model_version\":\"gemini-2.5-flash\",\"response_id\":\"ScD3aNXVArOVmecPkafkoQw\",\"usage_metadata\":{\"candidates_token_count\":1130,\"candidates_tokens_details\":[{\"modality\":\"TEXT\",\"token_count\":1130}],\"prompt_token_count\":853,\"prompt_tokens_details\":[{\"modality\":\"TEXT\",\"token_count\":853}],\"thoughts_token_count\":476,\"total_token_count\":2459,\"traffic_type\":\"ON_DEMAND\"},\"automatic_function_calling_history\":[]}\n",
            "-----------------------------------------------------------\n",
            "\n"
          ]
        },
        {
          "output_type": "stream",
          "name": "stdout",
          "text": [
            "Agent Response:  Yes, absolutely! A bike is a fantastic gift for a three-year-old. It promotes gross motor skills, coordination, balance, and confidence, and gets them active outdoors. For a three-year-old, there are a few age-appropriate options, each with its own benefits:\n",
            "\n",
            "---\n",
            "\n",
            "### 1. Balance Bikes (Highly Recommended)\n",
            "\n",
            "*   **What it is:** A balance bike is a two-wheeled bike without pedals or training wheels. Kids push off the ground with their feet to propel themselves forward and glide.\n",
            "*   **Why it's great for 3-year-olds:**\n",
            "    *   **Focus on Balance:** This is the *most effective* way to teach a child to ride a two-wheeled bike. They learn to steer, balance, and lean into turns naturally, without the distraction of pedaling.\n",
            "    *   **Natural Progression:** Children who master a balance bike often transition to a pedal bike (without training wheels) much more quickly and easily, sometimes skipping training wheels entirely.\n",
            "    *   **Confidence Building:** They can put their feet down instantly if they feel unstable, which builds confidence.\n",
            "    *   **Motor Skill Development:** Excellent for developing coordination, agility, and spatial awareness.\n",
            "*   **What to look for:**\n",
            "    *   **Lightweight:** Crucial for easy maneuvering and control.\n",
            "    *   **Adjustable Seat Height:** Make sure your niece can comfortably place her feet flat on the ground with a slight bend in her knees when sitting on the seat. This allows her to push off and stop safely.\n",
            "    *   **Footrest (Optional but nice):** Some balance bikes have a small footrest where kids can place their feet once they start gliding.\n",
            "    *   **Air-filled tires:** Provide better traction and a smoother ride than foam tires.\n",
            "*   **Popular Brands:** Strider, Woom, Puky, Joovy.\n",
            "\n",
            "---\n",
            "\n",
            "### 2. Tricycles\n",
            "\n",
            "*   **What it is:** A three-wheeled cycle with pedals, offering high stability.\n",
            "*   **Why it's good for 3-year-olds:**\n",
            "    *   **Stability:** The three wheels mean it won't tip over easily, which can be reassuring for some children and parents.\n",
            "    *   **Introduces Pedaling:** It allows them to practice the motion of pedaling.\n",
            "    *   **Early Fun:** Many kids enjoy the immediate gratification of being able to pedal and move themselves.\n",
            "*   **Considerations:**\n",
            "    *   **Doesn't Teach Balance:** While it teaches pedaling, it doesn't help with the crucial skill of balancing on two wheels.\n",
            "    *   **Can Be Outgrown Quickly:** Children might outgrow the tricycle's appeal once they want to learn a \"real\" bike.\n",
            "*   **What to look for:**\n",
            "    *   **Sturdiness:** A stable frame is essential.\n",
            "    *   **Parent Push Handle (Optional):** Some tricycles come with a handle so an adult can push and steer, which is great for younger or tired riders.\n",
            "    *   **Footrests:** If it has a push handle, ensure it has footrests for when the child isn't pedaling.\n",
            "\n",
            "---\n",
            "\n",
            "### 3. Small Pedal Bike with Training Wheels\n",
            "\n",
            "*   **What it is:** A traditional two-wheeled bicycle equipped with removable training wheels. For a 3-year-old, this would typically be a **12-inch wheel size**.\n",
            "*   **Why it might be an option:**\n",
            "    *   Some children, especially if they are tall for their age and have good coordination, might be ready for a 12-inch pedal bike.\n",
            "*   **Considerations:**\n",
            "    *   **Training Wheels vs. Balance:** Training wheels teach kids to rely on the wheels for stability, which can hinder the development of natural balance. This often leads to a longer and more challenging transition when the training wheels come off.\n",
            "    *   **Weight:** Pedal bikes, especially inexpensive ones, can be quite heavy for a small child, making them harder to maneuver.\n",
            "*   **What to look for:**\n",
            "    *   **Size:** Ensure her feet can comfortably touch the ground (or at least tip-toes) when seated.\n",
            "    *   **Lightweight Frame:** Look for aluminum frames if possible.\n",
            "    *   **Coaster Brake:** A \"back-pedal\" brake is easiest for this age. Hand brakes are usually too difficult for their small hands to operate effectively.\n",
            "\n",
            "---\n",
            "\n",
            "### **Essential Accessory for ANY Bike Gift:**\n",
            "\n",
            "*   **A Well-Fitting Helmet:** This is non-negotiable for safety. Make sure it meets safety standards (e.g., CPSC in the US) and fits snugly. Let her pick out one she loves!\n",
            "\n",
            "---\n",
            "\n",
            "**Recommendation for a 3-year-old:**\n",
            "\n",
            "If your goal is for her to learn to ride a two-wheeled bike independently down the line, a **balance bike** is by far the best choice. Most kids who start on a balance bike are riding a pedal bike without training wheels by age 4 or 5.\n",
            "\n",
            "If you just want something fun and stable for her to pedal around on, a **tricycle** is also a perfectly valid option.\n",
            "\n",
            "No matter which you choose, it's a gift that encourages outdoor play and active development!\n"
          ]
        }
      ],
      "source": [
        "recommendations_session = await session_service.create_session(\n",
        "    app_name=APP_NAME, user_id=USER_ID\n",
        ")\n",
        "\n",
        "call_agent(\n",
        "    \"I have a three year old niece. What recommendations do you have for birthday presents?\",\n",
        "    recommendations_session.id,\n",
        "    user_id=USER_ID,\n",
        ")\n",
        "call_agent(\n",
        "    \"I like the idea of a bike. Are there any age appropriate options?\",\n",
        "    recommendations_session.id,\n",
        "    user_id=USER_ID,\n",
        ")\n",
        "\n",
        "recommendations_session = await session_service.get_session(\n",
        "    app_name=APP_NAME, user_id=USER_ID, session_id=recommendations_session.id\n",
        ")"
      ]
    },
    {
      "cell_type": "markdown",
      "metadata": {
        "id": "0-bWy4LlTjio"
      },
      "source": [
        "### InMemoryMemoryService\n",
        "\n",
        "First, let's see what memories are extracted from the conversation using `InMemoryMemoryService`\n",
        "\n",
        "The memories include the raw dialogue of the conversation."
      ]
    },
    {
      "cell_type": "code",
      "execution_count": 15,
      "metadata": {
        "id": "D6PyuoF7_dz2"
      },
      "outputs": [],
      "source": [
        "await in_memory_service.add_session_to_memory(chit_chat_session)\n",
        "await in_memory_service.add_session_to_memory(recommendations_session)"
      ]
    },
    {
      "cell_type": "code",
      "execution_count": 16,
      "metadata": {
        "colab": {
          "base_uri": "https://localhost:8080/"
        },
        "id": "IP1_NjgjTzO0",
        "outputId": "3d321a28-c4b7-496d-e232-854e90807897"
      },
      "outputs": [
        {
          "output_type": "execute_result",
          "data": {
            "text/plain": [
              "{'memory_example_app/My User': {'bf9c2045-0e95-427d-8d03-ae8627a62cae': [Event(content=Content(\n",
              "     parts=[\n",
              "       Part(\n",
              "         text='what types of questions do you answer'\n",
              "       ),\n",
              "     ],\n",
              "     role='user'\n",
              "   ), grounding_metadata=None, partial=None, turn_complete=None, finish_reason=None, error_code=None, error_message=None, interrupted=None, custom_metadata=None, usage_metadata=None, live_session_resumption_update=None, input_transcription=None, output_transcription=None, avg_logprobs=None, logprobs_result=None, cache_metadata=None, citation_metadata=None, invocation_id='e-e731642f-f285-4106-80e1-09474c12eaef', author='user', actions=EventActions(skip_summarization=None, state_delta={}, artifact_delta={}, transfer_to_agent=None, escalate=None, requested_auth_configs={}, requested_tool_confirmations={}, compaction=None, end_of_agent=None, agent_state=None), long_running_tool_ids=None, branch=None, id='398e93a8-3e9b-4c67-a08e-c505cba8f4e0', timestamp=1761065518.859931),\n",
              "   Event(content=Content(\n",
              "     parts=[\n",
              "       Part(\n",
              "         text=\"\"\"As an AI, I can answer a wide variety of questions across many domains. Here are some of the types of questions I can help with:\n",
              "   \n",
              "   *   **Factual Information:** Questions about history, science, geography, current events, famous people, definitions, etc.\n",
              "   *   **Explanations and Concepts:** I can explain complex topics, theories, and ideas in a clear and concise manner.\n",
              "   *   **How-to Guides/Instructions:** I can provide steps or instructions for various tasks, from cooking to technical procedures.\n",
              "   *   **Summarization:** I can summarize articles, documents, or conversations if you provide the text.\n",
              "   *   **Creative Writing:** I can generate stories, poems, scripts, song lyrics, or creative text based on your prompts.\n",
              "   *   **Language Tasks:** This includes translation, grammar correction, rephrasing sentences, and generating text in different styles.\n",
              "   *   **Problem Solving (Information-based):** I can help break down problems, offer potential solutions based on available information, or provide steps for troubleshooting.\n",
              "   *   **Coding and Programming:** I can explain code, generate code snippets, debug simple issues, and help understand programming concepts.\n",
              "   *   **Comparisons and Recommendations:** I can compare different products, services, or concepts, and offer recommendations based on criteria you provide (though I don't have personal preferences or real-time access to reviews).\n",
              "   *   **Brainstorming and Idea Generation:** I can help you brainstorm ideas for projects, names, topics, and more.\n",
              "   \n",
              "   Essentially, if a question can be answered using general knowledge, logical reasoning, or by generating text, I can likely assist.\n",
              "   \n",
              "   **What I *cannot* do:**\n",
              "   \n",
              "   *   **Perform real-world actions:** I can't send emails, make calls, book appointments, or control physical devices.\n",
              "   *   **Provide personal opinions or beliefs:** I don't have personal experiences, feelings, or subjective opinions.\n",
              "   *   **Offer medical, legal, or financial advice:** Always consult a qualified professional for these areas.\n",
              "   *   **Access real-time, private, or proprietary data:** My knowledge cut-off means I don't have up-to-the-minute information on everything, and I don't have access to your personal data or private databases unless specifically integrated.\n",
              "   *   **Engage in unethical or harmful tasks:** I am programmed to be helpful and harmless.\"\"\"\n",
              "       ),\n",
              "     ],\n",
              "     role='model'\n",
              "   ), grounding_metadata=None, partial=None, turn_complete=None, finish_reason=<FinishReason.STOP: 'STOP'>, error_code=None, error_message=None, interrupted=None, custom_metadata=None, usage_metadata=GenerateContentResponseUsageMetadata(\n",
              "     candidates_token_count=498,\n",
              "     candidates_tokens_details=[\n",
              "       ModalityTokenCount(\n",
              "         modality=<MediaModality.TEXT: 'TEXT'>,\n",
              "         token_count=498\n",
              "       ),\n",
              "     ],\n",
              "     prompt_token_count=30,\n",
              "     prompt_tokens_details=[\n",
              "       ModalityTokenCount(\n",
              "         modality=<MediaModality.TEXT: 'TEXT'>,\n",
              "         token_count=30\n",
              "       ),\n",
              "     ],\n",
              "     thoughts_token_count=247,\n",
              "     total_token_count=775,\n",
              "     traffic_type=<TrafficType.ON_DEMAND: 'ON_DEMAND'>\n",
              "   ), live_session_resumption_update=None, input_transcription=None, output_transcription=None, avg_logprobs=-0.5550342238092997, logprobs_result=None, cache_metadata=None, citation_metadata=None, invocation_id='e-e731642f-f285-4106-80e1-09474c12eaef', author='Generic_QA_Agent', actions=EventActions(skip_summarization=None, state_delta={}, artifact_delta={}, transfer_to_agent=None, escalate=None, requested_auth_configs={}, requested_tool_confirmations={}, compaction=None, end_of_agent=None, agent_state=None), long_running_tool_ids=None, branch=None, id='87c78b0e-d4d5-47f4-b87e-226fac9d11ae', timestamp=1761065518.862016)],\n",
              "  '715d704f-ff81-4ad2-bfea-449b52c3d742': [Event(content=Content(\n",
              "     parts=[\n",
              "       Part(\n",
              "         text='I have a three year old niece. What recommendations do you have for birthday presents?'\n",
              "       ),\n",
              "     ],\n",
              "     role='user'\n",
              "   ), grounding_metadata=None, partial=None, turn_complete=None, finish_reason=None, error_code=None, error_message=None, interrupted=None, custom_metadata=None, usage_metadata=None, live_session_resumption_update=None, input_transcription=None, output_transcription=None, avg_logprobs=None, logprobs_result=None, cache_metadata=None, citation_metadata=None, invocation_id='e-76eb5c49-86c7-4067-9b30-6482e7880367', author='user', actions=EventActions(skip_summarization=None, state_delta={}, artifact_delta={}, transfer_to_agent=None, escalate=None, requested_auth_configs={}, requested_tool_confirmations={}, compaction=None, end_of_agent=None, agent_state=None), long_running_tool_ids=None, branch=None, id='3dbd279b-a068-4f58-a560-30b3a4af24e5', timestamp=1761067070.509678),\n",
              "   Event(content=Content(\n",
              "     parts=[\n",
              "       Part(\n",
              "         text=\"\"\"That's wonderful! Three-year-olds are at such a fun age, full of imagination and rapidly developing skills. Here are some birthday present recommendations for your niece, categorized to help you choose:\n",
              "   \n",
              "   **1. Imaginative Play & Pretend Play:**\n",
              "   This is a prime age for make-believe!\n",
              "   *   **Play Kitchen or Food Sets:** Little chefs love cooking up imaginary meals. Look for wooden or durable plastic sets.\n",
              "   *   **Dress-Up Clothes:** Princess outfits, superhero capes, animal costumes, or everyday \"job\" outfits (doctor, firefighter) can spark endless role-playing.\n",
              "   *   **Dollhouse & Figurines:** Simple dollhouses with chunky furniture and figures encourage storytelling.\n",
              "   *   **Animal Figures/Farm Sets:** Dinosaurs, farm animals, or zoo animals are great for creating little worlds.\n",
              "   *   **Doctor's Kit:** Kids love \"fixing\" their stuffed animals or family members.\n",
              "   \n",
              "   **2. Building & Construction:**\n",
              "   Great for fine motor skills and problem-solving.\n",
              "   *   **DUPLO Blocks:** These larger LEGO bricks are perfect for little hands and creativity.\n",
              "   *   **Magnetic Tiles (e.g., Magna-Tiles, PicassoTiles):** These are incredibly popular and foster open-ended building, spatial reasoning, and creativity.\n",
              "   *   **Wooden Blocks:** Classic and versatile for building towers, houses, or anything they can imagine.\n",
              "   \n",
              "   **3. Arts & Crafts:**\n",
              "   Encourage creativity and fine motor development.\n",
              "   *   **Washable Markers, Jumbo Crayons, or Finger Paints:** Look for non-toxic and easily washable options.\n",
              "   *   **Play-Doh Sets:** With cutters, rollers, and extruders, Play-Doh provides hours of sensory and creative fun.\n",
              "   *   **Large Paper Pad or Tabletop Easel:** Gives them a big canvas for their masterpieces.\n",
              "   *   **Sticker Books:** Kids love peeling and sticking!\n",
              "   \n",
              "   **4. Books:**\n",
              "   Foster a love of reading and expand vocabulary.\n",
              "   *   **Picture Books:** Choose engaging stories with colorful illustrations.\n",
              "   *   **Lift-the-Flap Books:** These add an interactive element that three-year-olds adore.\n",
              "   *   **Sound Books:** Books with buttons that make animal sounds or musical tunes.\n",
              "   *   **Personalized Books:** A book where your niece is the main character can be very special.\n",
              "   \n",
              "   **5. Outdoor & Active Play:**\n",
              "   Help them burn energy and develop gross motor skills.\n",
              "   *   **Tricycle or Balance Bike:** A great precursor to a two-wheeler, balance bikes are fantastic for learning coordination.\n",
              "   *   **Scooter (3-Wheel):** Stable and fun for zipping around.\n",
              "   *   **Bubble Machine & Solution:** Always a hit, providing endless delight.\n",
              "   *   **Sandbox Toys:** If they have a sandbox, new shovels, buckets, and molds are always welcome.\n",
              "   \n",
              "   **6. Puzzles & Games:**\n",
              "   Good for problem-solving and cognitive development.\n",
              "   *   **Chunky Wooden Puzzles:** Simple puzzles with 4-12 pieces are perfect for this age.\n",
              "   *   **Simple Board Games:** Games like \"Candy Land\" or \"Roll & Play\" are designed for young children and teach turn-taking.\n",
              "   *   **Shape Sorters:** Classic toys that help with shape recognition and fine motor skills.\n",
              "   \n",
              "   **Tips for Choosing:**\n",
              "   *   **Consider her current interests:** Does she love animals, princesses, cars, or art?\n",
              "   *   **Durability:** Look for toys that can withstand enthusiastic play.\n",
              "   *   **Safety:** Ensure toys are age-appropriate and don't have small parts that could be choking hazards.\n",
              "   *   **Open-ended Play:** Toys that can be used in multiple ways often have the longest lifespan of interest.\n",
              "   \n",
              "   I hope this gives you a great starting point for finding the perfect gift!\"\"\"\n",
              "       ),\n",
              "     ],\n",
              "     role='model'\n",
              "   ), grounding_metadata=None, partial=None, turn_complete=None, finish_reason=<FinishReason.STOP: 'STOP'>, error_code=None, error_message=None, interrupted=None, custom_metadata=None, usage_metadata=GenerateContentResponseUsageMetadata(\n",
              "     candidates_token_count=798,\n",
              "     candidates_tokens_details=[\n",
              "       ModalityTokenCount(\n",
              "         modality=<MediaModality.TEXT: 'TEXT'>,\n",
              "         token_count=798\n",
              "       ),\n",
              "     ],\n",
              "     prompt_token_count=40,\n",
              "     prompt_tokens_details=[\n",
              "       ModalityTokenCount(\n",
              "         modality=<MediaModality.TEXT: 'TEXT'>,\n",
              "         token_count=40\n",
              "       ),\n",
              "     ],\n",
              "     thoughts_token_count=634,\n",
              "     total_token_count=1472,\n",
              "     traffic_type=<TrafficType.ON_DEMAND: 'ON_DEMAND'>\n",
              "   ), live_session_resumption_update=None, input_transcription=None, output_transcription=None, avg_logprobs=-0.47656399146058503, logprobs_result=None, cache_metadata=None, citation_metadata=None, invocation_id='e-76eb5c49-86c7-4067-9b30-6482e7880367', author='Generic_QA_Agent', actions=EventActions(skip_summarization=None, state_delta={}, artifact_delta={}, transfer_to_agent=None, escalate=None, requested_auth_configs={}, requested_tool_confirmations={}, compaction=None, end_of_agent=None, agent_state=None), long_running_tool_ids=None, branch=None, id='5b1ddf8e-27c1-481e-9b50-58d08b67cb66', timestamp=1761067070.510559),\n",
              "   Event(content=Content(\n",
              "     parts=[\n",
              "       Part(\n",
              "         text='I like the idea of a bike. Are there any age appropriate options?'\n",
              "       ),\n",
              "     ],\n",
              "     role='user'\n",
              "   ), grounding_metadata=None, partial=None, turn_complete=None, finish_reason=None, error_code=None, error_message=None, interrupted=None, custom_metadata=None, usage_metadata=None, live_session_resumption_update=None, input_transcription=None, output_transcription=None, avg_logprobs=None, logprobs_result=None, cache_metadata=None, citation_metadata=None, invocation_id='e-875f1cb8-976e-4e11-9443-129adb7213fc', author='user', actions=EventActions(skip_summarization=None, state_delta={}, artifact_delta={}, transfer_to_agent=None, escalate=None, requested_auth_configs={}, requested_tool_confirmations={}, compaction=None, end_of_agent=None, agent_state=None), long_running_tool_ids=None, branch=None, id='56183074-4a8e-459e-b27d-466832fedb30', timestamp=1761067080.474379),\n",
              "   Event(content=Content(\n",
              "     parts=[\n",
              "       Part(\n",
              "         text=\"\"\"Yes, absolutely! A bike is a fantastic gift for a three-year-old. It promotes gross motor skills, coordination, balance, and confidence, and gets them active outdoors. For a three-year-old, there are a few age-appropriate options, each with its own benefits:\n",
              "   \n",
              "   ---\n",
              "   \n",
              "   ### 1. Balance Bikes (Highly Recommended)\n",
              "   \n",
              "   *   **What it is:** A balance bike is a two-wheeled bike without pedals or training wheels. Kids push off the ground with their feet to propel themselves forward and glide.\n",
              "   *   **Why it's great for 3-year-olds:**\n",
              "       *   **Focus on Balance:** This is the *most effective* way to teach a child to ride a two-wheeled bike. They learn to steer, balance, and lean into turns naturally, without the distraction of pedaling.\n",
              "       *   **Natural Progression:** Children who master a balance bike often transition to a pedal bike (without training wheels) much more quickly and easily, sometimes skipping training wheels entirely.\n",
              "       *   **Confidence Building:** They can put their feet down instantly if they feel unstable, which builds confidence.\n",
              "       *   **Motor Skill Development:** Excellent for developing coordination, agility, and spatial awareness.\n",
              "   *   **What to look for:**\n",
              "       *   **Lightweight:** Crucial for easy maneuvering and control.\n",
              "       *   **Adjustable Seat Height:** Make sure your niece can comfortably place her feet flat on the ground with a slight bend in her knees when sitting on the seat. This allows her to push off and stop safely.\n",
              "       *   **Footrest (Optional but nice):** Some balance bikes have a small footrest where kids can place their feet once they start gliding.\n",
              "       *   **Air-filled tires:** Provide better traction and a smoother ride than foam tires.\n",
              "   *   **Popular Brands:** Strider, Woom, Puky, Joovy.\n",
              "   \n",
              "   ---\n",
              "   \n",
              "   ### 2. Tricycles\n",
              "   \n",
              "   *   **What it is:** A three-wheeled cycle with pedals, offering high stability.\n",
              "   *   **Why it's good for 3-year-olds:**\n",
              "       *   **Stability:** The three wheels mean it won't tip over easily, which can be reassuring for some children and parents.\n",
              "       *   **Introduces Pedaling:** It allows them to practice the motion of pedaling.\n",
              "       *   **Early Fun:** Many kids enjoy the immediate gratification of being able to pedal and move themselves.\n",
              "   *   **Considerations:**\n",
              "       *   **Doesn't Teach Balance:** While it teaches pedaling, it doesn't help with the crucial skill of balancing on two wheels.\n",
              "       *   **Can Be Outgrown Quickly:** Children might outgrow the tricycle's appeal once they want to learn a \"real\" bike.\n",
              "   *   **What to look for:**\n",
              "       *   **Sturdiness:** A stable frame is essential.\n",
              "       *   **Parent Push Handle (Optional):** Some tricycles come with a handle so an adult can push and steer, which is great for younger or tired riders.\n",
              "       *   **Footrests:** If it has a push handle, ensure it has footrests for when the child isn't pedaling.\n",
              "   \n",
              "   ---\n",
              "   \n",
              "   ### 3. Small Pedal Bike with Training Wheels\n",
              "   \n",
              "   *   **What it is:** A traditional two-wheeled bicycle equipped with removable training wheels. For a 3-year-old, this would typically be a **12-inch wheel size**.\n",
              "   *   **Why it might be an option:**\n",
              "       *   Some children, especially if they are tall for their age and have good coordination, might be ready for a 12-inch pedal bike.\n",
              "   *   **Considerations:**\n",
              "       *   **Training Wheels vs. Balance:** Training wheels teach kids to rely on the wheels for stability, which can hinder the development of natural balance. This often leads to a longer and more challenging transition when the training wheels come off.\n",
              "       *   **Weight:** Pedal bikes, especially inexpensive ones, can be quite heavy for a small child, making them harder to maneuver.\n",
              "   *   **What to look for:**\n",
              "       *   **Size:** Ensure her feet can comfortably touch the ground (or at least tip-toes) when seated.\n",
              "       *   **Lightweight Frame:** Look for aluminum frames if possible.\n",
              "       *   **Coaster Brake:** A \"back-pedal\" brake is easiest for this age. Hand brakes are usually too difficult for their small hands to operate effectively.\n",
              "   \n",
              "   ---\n",
              "   \n",
              "   ### **Essential Accessory for ANY Bike Gift:**\n",
              "   \n",
              "   *   **A Well-Fitting Helmet:** This is non-negotiable for safety. Make sure it meets safety standards (e.g., CPSC in the US) and fits snugly. Let her pick out one she loves!\n",
              "   \n",
              "   ---\n",
              "   \n",
              "   **Recommendation for a 3-year-old:**\n",
              "   \n",
              "   If your goal is for her to learn to ride a two-wheeled bike independently down the line, a **balance bike** is by far the best choice. Most kids who start on a balance bike are riding a pedal bike without training wheels by age 4 or 5.\n",
              "   \n",
              "   If you just want something fun and stable for her to pedal around on, a **tricycle** is also a perfectly valid option.\n",
              "   \n",
              "   No matter which you choose, it's a gift that encourages outdoor play and active development!\"\"\"\n",
              "       ),\n",
              "     ],\n",
              "     role='model'\n",
              "   ), grounding_metadata=None, partial=None, turn_complete=None, finish_reason=<FinishReason.STOP: 'STOP'>, error_code=None, error_message=None, interrupted=None, custom_metadata=None, usage_metadata=GenerateContentResponseUsageMetadata(\n",
              "     candidates_token_count=1130,\n",
              "     candidates_tokens_details=[\n",
              "       ModalityTokenCount(\n",
              "         modality=<MediaModality.TEXT: 'TEXT'>,\n",
              "         token_count=1130\n",
              "       ),\n",
              "     ],\n",
              "     prompt_token_count=853,\n",
              "     prompt_tokens_details=[\n",
              "       ModalityTokenCount(\n",
              "         modality=<MediaModality.TEXT: 'TEXT'>,\n",
              "         token_count=853\n",
              "       ),\n",
              "     ],\n",
              "     thoughts_token_count=476,\n",
              "     total_token_count=2459,\n",
              "     traffic_type=<TrafficType.ON_DEMAND: 'ON_DEMAND'>\n",
              "   ), live_session_resumption_update=None, input_transcription=None, output_transcription=None, avg_logprobs=-0.4190422395689298, logprobs_result=None, cache_metadata=None, citation_metadata=None, invocation_id='e-875f1cb8-976e-4e11-9443-129adb7213fc', author='Generic_QA_Agent', actions=EventActions(skip_summarization=None, state_delta={}, artifact_delta={}, transfer_to_agent=None, escalate=None, requested_auth_configs={}, requested_tool_confirmations={}, compaction=None, end_of_agent=None, agent_state=None), long_running_tool_ids=None, branch=None, id='9dcf6bbf-d74c-4175-aa9b-e0b6e938a54e', timestamp=1761067080.477284)]}}"
            ]
          },
          "metadata": {},
          "execution_count": 16
        }
      ],
      "source": [
        "# Peek at the memories.\n",
        "in_memory_service._session_events"
      ]
    },
    {
      "cell_type": "code",
      "execution_count": null,
      "metadata": {
        "colab": {
          "base_uri": "https://localhost:8080/"
        },
        "id": "ZY1cRqfi_4Qz",
        "outputId": "8c202359-7165-4a72-a1cc-e177cb567b83"
      },
      "outputs": [
        {
          "data": {
            "text/plain": [
              "SearchMemoryResponse(memories=[])"
            ]
          },
          "execution_count": 12,
          "metadata": {},
          "output_type": "execute_result"
        }
      ],
      "source": [
        "await in_memory_service.search_memory(app_name=APP_NAME, user_id=USER_ID, query=\"test\")"
      ]
    },
    {
      "cell_type": "code",
      "execution_count": null,
      "metadata": {
        "colab": {
          "base_uri": "https://localhost:8080/"
        },
        "id": "wV2OziabBVt5",
        "outputId": "d20c2d18-f940-4b41-b3d0-ef805977caa0"
      },
      "outputs": [
        {
          "data": {
            "text/plain": [
              "SearchMemoryResponse(memories=[MemoryEntry(content=Content(\n",
              "  parts=[\n",
              "    Part(\n",
              "      text='what types of questions do you answer'\n",
              "    ),\n",
              "  ],\n",
              "  role='user'\n",
              "), author='user', timestamp='2025-10-21T13:47:09.426718'), MemoryEntry(content=Content(\n",
              "  parts=[\n",
              "    Part(\n",
              "      text=\"\"\"As a general-purpose AI, I can answer a wide variety of questions across many domains. Here are some common types of questions I can help with:\n",
              "\n",
              "*   **Factual Questions:** \"What is the capital of France?\" or \"When was the internet invented?\"\n",
              "*   **Definitional Questions:** \"What is quantum mechanics?\" or \"Define 'photosynthesis'.\"\n",
              "*   **Explanatory Questions:** \"How does a car engine work?\" or \"Why do we have different seasons?\"\n",
              "*   **Comparative Questions:** \"What are the differences between a democracy and a republic?\" or \"Compare Python and Java.\"\n",
              "*   **Procedural/Instructional Questions:** \"How do I make a simple résumé?\" or \"What are the steps to bake a chocolate cake?\"\n",
              "*   **Problem-Solving Questions (conceptual):** \"What are some strategies to improve time management?\" or \"Suggest ways to reduce plastic waste.\"\n",
              "*   **Creative/Generative Questions:** \"Write a short story about a talking cat.\" or \"Generate some ideas for a new marketing campaign.\"\n",
              "*   **Summarization Questions:** \"Summarize the main points of the theory of relativity.\"\n",
              "*   **Opinion/Perspective (neutral, generalized):** \"What are some common arguments for and against renewable energy?\" (I don't have personal opinions, but can synthesize common viewpoints.)\n",
              "*   **Hypothetical Scenarios:** \"What might happen if all the ice caps melted?\"\n",
              "\n",
              "Essentially, if it involves information retrieval, explanation, generation of text, or logical reasoning based on the vast amount of text data I was trained on, I can likely assist.\n",
              "\n",
              "However, I cannot:\n",
              "\n",
              "*   **Provide real-time information:** I don't have access to the internet in real-time, so I can't tell you the current weather, today's stock prices, or breaking news. My knowledge cutoff is typically a specific point in time.\n",
              "*   **Perform actions in the real world:** I can't book flights, send emails, or control devices.\n",
              "*   **Access personal or private information:** I don't know who you are, your location, or any personal details unless you provide them in the current conversation.\n",
              "*   **Offer medical, legal, or financial advice:** I can provide general information, but it should not be taken as professional advice. Always consult a qualified professional for such matters.\n",
              "*   **Express personal opinions or feelings:** I am an AI and do not have consciousness, emotions, or personal beliefs.\"\"\"\n",
              "    ),\n",
              "  ],\n",
              "  role='model'\n",
              "), author='Generic_QA_Agent', timestamp='2025-10-21T13:47:09.428100'), MemoryEntry(content=Content(\n",
              "  parts=[\n",
              "    Part(\n",
              "      text='I have a three year old niece. What recommendations do you have for birthday presents?'\n",
              "    ),\n",
              "  ],\n",
              "  role='user'\n",
              "), author='user', timestamp='2025-10-21T13:49:41.284491'), MemoryEntry(content=Content(\n",
              "  parts=[\n",
              "    Part(\n",
              "      text=\"\"\"That's a fun age to buy for! Three-year-olds are bursting with imagination, developing new skills rapidly, and becoming more independent. The best gifts encourage open-ended play, creativity, and learning.\n",
              "\n",
              "Here are some recommendations for your three-year-old niece, categorized to help you choose:\n",
              "\n",
              "**1. Creative & Art Supplies:**\n",
              "\n",
              "*   **Play-Doh Set:** Great for fine motor skills, imagination, and sensory play. Look for sets with tools like cutters, rollers, or simple extruders.\n",
              "*   **Jumbo Crayons, Washable Markers, or Finger Paints:** Large sizes are easier for small hands to grasp. Washable is key for parents! Pair with a large pad of paper or a tabletop easel.\n",
              "*   **Water Wow! Books (Melissa & Doug):** These are fantastic for mess-free \"painting\" with water. The colors magically appear and then disappear as it dries, so they can be used again and again.\n",
              "*   **Simple Craft Kits:** Look for kits with large pieces, like sticker scenes, foam art, or chunky bead stringing sets (with adult supervision).\n",
              "\n",
              "**2. Imaginative & Pretend Play:**\n",
              "\n",
              "*   **Dress-Up Clothes:** A simple set of princess, superhero, doctor, chef, or animal costumes can spark hours of role-playing fun.\n",
              "*   **Play Kitchen & Food:** A classic for a reason! Kids love to mimic adults. Look for wooden or sturdy plastic sets.\n",
              "*   **Doll or Stuffed Animal with Accessories:** A baby doll with a small carrier, bottle, or extra outfit encourages nurturing play.\n",
              "*   **Animal Figures or Vehicle Sets:** A collection of farm animals, zoo animals, construction vehicles, or trains allows for building imaginative worlds.\n",
              "*   **Doctor Kit:** Helps kids understand and process visits to the doctor in a playful way.\n",
              "\n",
              "**3. Building & Construction:**\n",
              "\n",
              "*   **DUPLO Blocks (LEGO Duplo):** Larger than regular LEGOs, they are perfect for small hands to connect and disconnect, building towers, houses, and more.\n",
              "*   **Mega Bloks:** Similar to DUPLO, these large, chunky blocks are easy to handle and encourage creative construction.\n",
              "*   **Wooden Building Blocks:** Timeless and versatile, these blocks can be stacked, sorted, and used in countless ways.\n",
              "\n",
              "**4. Books & Educational Toys:**\n",
              "\n",
              "*   **Picture Books:** Three-year-olds enjoy engaging stories with colorful illustrations. Look for books with rhyming, lift-the-flaps, or interactive elements.\n",
              "*   **Simple Puzzles:** Wooden knob puzzles (shapes, animals), chunky jigsaw puzzles (12-24 pieces), or floor puzzles are great for problem-solving and fine motor skills.\n",
              "*   **Shape Sorters or Stacking Toys:** Reinforce basic concepts like shapes, colors, and sizes.\n",
              "*   **Matching Games:** Simple \"memory\" or matching games with large, colorful cards.\n",
              "\n",
              "**5. Outdoor & Active Play:**\n",
              "\n",
              "*   **Tricycle or Balance Bike:** If she doesn't have one, a tricycle or a balance bike is excellent for gross motor development and getting outdoors.\n",
              "*   **Ball Set:** A soft ball, a bouncy ball, or a set of different sized balls can provide endless fun.\n",
              "*   **Bubble Machine or Giant Bubble Wand:** Who doesn't love bubbles?!\n",
              "*   **Sand Toys:** If she has a sandbox or goes to the beach, a new set of buckets, shovels, and molds is always a hit.\n",
              "\n",
              "**General Tips:**\n",
              "\n",
              "*   **Consider her interests:** Does she love animals? Trucks? Princesses? Dinosaurs? Tailoring the gift to her current fascinations will make it a bigger hit.\n",
              "*   **Ask the parents:** They know best what she already has, what she needs, and if there's anything they'd prefer to avoid (e.g., overly noisy toys).\n",
              "*   **Durability & Safety:** Choose well-made toys that will withstand toddler play and are free from small parts that could be choking hazards.\n",
              "*   **Open-Ended Play:** Toys that can be used in multiple ways and encourage imagination tend to have the longest shelf life.\n",
              "\n",
              "No matter what you choose, the thought and care you put into selecting a gift will surely be appreciated!\"\"\"\n",
              "    ),\n",
              "  ],\n",
              "  role='model'\n",
              "), author='Generic_QA_Agent', timestamp='2025-10-21T13:49:41.285307'), MemoryEntry(content=Content(\n",
              "  parts=[\n",
              "    Part(\n",
              "      text='I like the idea of a bike. Are there any age appropriate options?'\n",
              "    ),\n",
              "  ],\n",
              "  role='user'\n",
              "), author='user', timestamp='2025-10-21T13:49:58.929388'), MemoryEntry(content=Content(\n",
              "  parts=[\n",
              "    Part(\n",
              "      text=\"\"\"That's a fantastic idea! Bikes are wonderful for gross motor development, outdoor play, and building confidence. For a three-year-old, there are definitely age-appropriate options, and the most recommended one for this age is often a **balance bike**.\n",
              "\n",
              "Here's a breakdown of options suitable for a 3-year-old:\n",
              "\n",
              "### 1. Balance Bikes (Highly Recommended)\n",
              "\n",
              "*   **What they are:** Balance bikes are two-wheeled bikes without pedals. Children sit on the seat and propel themselves by pushing off the ground with their feet.\n",
              "*   **Why they're great for 3-year-olds:**\n",
              "    *   **Focus on Balance First:** This is their biggest advantage. Kids learn to balance and steer naturally without the added complexity of pedaling. This makes the transition to a pedal bike much easier later on, often skipping training wheels entirely.\n",
              "    *   **Develops Confidence:** Children feel more in control because their feet are always close to the ground.\n",
              "    *   **Gross Motor Skills:** Excellent for developing coordination, agility, and spatial awareness.\n",
              "    *   **Lightweight:** Most are designed to be light enough for a child to easily maneuver.\n",
              "*   **Key Features to Look For:**\n",
              "    *   **Adjustable Seat and Handlebars:** Essential for ensuring a proper fit and allowing the bike to grow with the child. Her feet should be able to touch the ground flat-footed when seated.\n",
              "    *   **Lightweight Frame:** Easier for her to control and for parents to carry if she gets tired.\n",
              "    *   **Durable Tires:** Air-filled (pneumatic) tires offer better traction and a smoother ride than foam/plastic tires, especially outdoors.\n",
              "    *   **Footrests (Optional):** Some balance bikes have small footrests where children can place their feet once they've mastered gliding.\n",
              "*   **Popular Brands:** Strider, Woom, Cruzee, Banwood, Joovy.\n",
              "\n",
              "### 2. Tricycles\n",
              "\n",
              "*   **What they are:** Three-wheeled bikes that offer a lot of stability.\n",
              "*   **Why they're good for 3-year-olds:**\n",
              "    *   **Stability:** They are very stable, which can be reassuring for hesitant riders.\n",
              "    *   **Early Pedaling Practice:** They allow children to practice pedaling motions before they need to balance.\n",
              "    *   **Often have Parent Push Handles:** Many tricycles for this age come with a handle that parents can use to push and steer, acting like a stroller for a while.\n",
              "*   **Considerations:**\n",
              "    *   **Doesn't Teach Balance:** The main drawback is that they don't help with balance, meaning a child will still need to learn that skill separately when transitioning to a two-wheeled pedal bike.\n",
              "    *   **Can Be Cumbersome:** They can be heavier and less agile than balance bikes.\n",
              "*   **Types:** Look for sturdy models. Some even convert from a push trike to a free-pedal trike.\n",
              "\n",
              "### 3. Bikes with Training Wheels (Less Common for 3-year-olds now)\n",
              "\n",
              "*   **What they are:** Traditional two-wheeled pedal bikes with two small wheels attached to the rear axle for stability.\n",
              "*   **Why they *might* be considered:** Some parents prefer this traditional route.\n",
              "*   **Considerations for a 3-year-old:**\n",
              "    *   **Sizing:** Finding a pedal bike small enough for a 3-year-old can be challenging. A 12-inch wheel size is typically the smallest, and even that might be too large for some 3-year-olds. Her feet need to comfortably reach the pedals and the ground.\n",
              "    *   **Doesn't Teach Balance Well:** Training wheels prop the bike up, preventing the child from learning to balance naturally. This often results in a wobbly, dependent ride.\n",
              "    *   **Can Be Heavier:** Pedal bikes with training wheels are generally heavier than balance bikes.\n",
              "    *   **Less Recommended:** Most experts and parents who have used balance bikes will recommend a balance bike first, as it makes the transition to a pedal bike much smoother and faster without training wheels.\n",
              "\n",
              "### Sizing for a 3-Year-Old\n",
              "\n",
              "The most important measurement for a bike is the **inseam (crotch to floor)**, not the child's age or height.\n",
              "\n",
              "*   **For Balance Bikes:** When seated, her feet should be flat on the ground with a slight bend in the knee. This allows her to push off comfortably and quickly put her feet down.\n",
              "*   **For Pedal Bikes (with or without training wheels):** When seated, her feet should be able to reach the pedals at their lowest point, and she should be able to touch the ground with her toes or balls of her feet.\n",
              "\n",
              "### Don't Forget Safety Gear!\n",
              "\n",
              "No matter which bike you choose, a properly fitting **helmet** is absolutely essential. Make sure it meets safety standards (like CPSC in the US) and fits snugly.\n",
              "\n",
              "**Recommendation:**\n",
              "\n",
              "For a 3-year-old, a **balance bike** is usually the top recommendation by far. It provides the foundational skills she'll need for riding a two-wheeled pedal bike later, builds confidence, and offers great physical activity. You'll likely find she masters it quickly and has a blast gliding around!\"\"\"\n",
              "    ),\n",
              "  ],\n",
              "  role='model'\n",
              "), author='Generic_QA_Agent', timestamp='2025-10-21T13:49:58.930006')])"
            ]
          },
          "execution_count": 13,
          "metadata": {},
          "output_type": "execute_result"
        }
      ],
      "source": [
        "await in_memory_service.search_memory(\n",
        "    app_name=APP_NAME,\n",
        "    user_id=USER_ID,\n",
        "    query=\"what should I get my mom for mother's day\",\n",
        ")"
      ]
    },
    {
      "cell_type": "markdown",
      "metadata": {
        "id": "j8d9R6NMUgyw"
      },
      "source": [
        "### Memory Bank via `VertexAiMemoryBankService`\n",
        "\n",
        "Now, let's use Memory Bank to generate and store memories. Unlike `InMemoryMemoryService`, only content that's meaningful interactions will be persisted. If there's no meaningful content, the `add_session_to_memory` call will be a no-op; memories are not generated.\n",
        "\n",
        "Memory generation happens in the background. It's a non-blocking operation, so `add_session_to_memory` may complete before memories are actually generated in the background. If you want memory generation to be a blocking operation, use the Agent Engine SDK:\n",
        "\n",
        "```\n",
        "client.agent_engines.memories.generate(\n",
        "    ...,\n",
        "    config={\n",
        "        # Default value is True.\n",
        "        \"wait_for_completion\": True\n",
        "    }\n",
        ")\n",
        "```\n",
        "\n",
        "There are two key operations that Memory Bank performs under-the-hood with memory generation:\n",
        "\n",
        "* **Extraction**: Extracts information about the user from their conversations with the agent. Only information that matches at least one of your instance's memory topics will be persisted.\n",
        "* **Consolidation**: Identifies if existing memories with the same scope should be deleted or updated based on the extracted information. Memory Bank checks that new memories are not duplicative or contradictory before merging them with existing memories. If existing memories don't overlap with the new information, a new memory will be created."
      ]
    },
    {
      "cell_type": "markdown",
      "metadata": {
        "id": "HzYBHoUNSZKn"
      },
      "source": [
        "#### ADK `add_session_to_memory`"
      ]
    },
    {
      "cell_type": "code",
      "execution_count": 17,
      "metadata": {
        "colab": {
          "base_uri": "https://localhost:8080/"
        },
        "id": "ytzu349cBdW6",
        "outputId": "b35847f9-8ff6-44eb-acab-8152f2c75f68"
      },
      "outputs": [
        {
          "output_type": "stream",
          "name": "stderr",
          "text": [
            "INFO:google_adk.google.adk.memory.vertex_ai_memory_bank_service:Generate memory response received.\n",
            "DEBUG:google_adk.google.adk.memory.vertex_ai_memory_bank_service:Generate memory response: name='projects/1064971132641/locations/us-central1/reasoningEngines/4350675152132898816/operations/2023558602966433792' metadata={'@type': 'type.googleapis.com/google.cloud.aiplatform.v1beta1.GenerateMemoriesOperationMetadata', 'genericMetadata': {'createTime': '2025-10-21T17:26:32.021769Z', 'updateTime': '2025-10-21T17:26:32.021769Z'}} done=None error=None response=None\n",
            "INFO:google_adk.google.adk.memory.vertex_ai_memory_bank_service:Generate memory response received.\n",
            "DEBUG:google_adk.google.adk.memory.vertex_ai_memory_bank_service:Generate memory response: name='projects/1064971132641/locations/us-central1/reasoningEngines/4350675152132898816/operations/8405159274950426624' metadata={'@type': 'type.googleapis.com/google.cloud.aiplatform.v1beta1.GenerateMemoriesOperationMetadata', 'genericMetadata': {'createTime': '2025-10-21T17:26:32.445077Z', 'updateTime': '2025-10-21T17:26:32.445077Z'}} done=None error=None response=None\n"
          ]
        }
      ],
      "source": [
        "await memory_bank_service.add_session_to_memory(chit_chat_session)\n",
        "await memory_bank_service.add_session_to_memory(recommendations_session)"
      ]
    },
    {
      "cell_type": "markdown",
      "metadata": {
        "id": "E3ihzck53quZ"
      },
      "source": [
        "If you run this immediately after `add_session_to_memory`, there may be no memories printed. `add_session_to_memory` is a non-blocking function and memory generation can take a few seconds to run."
      ]
    },
    {
      "cell_type": "code",
      "execution_count": 18,
      "metadata": {
        "colab": {
          "base_uri": "https://localhost:8080/"
        },
        "id": "3emdHmGhBtMd",
        "outputId": "101dc128-ff1b-489f-8a82-0c39a3f1826f"
      },
      "outputs": [
        {
          "output_type": "stream",
          "name": "stderr",
          "text": [
            "INFO:google_adk.google.adk.memory.vertex_ai_memory_bank_service:Search memory response received.\n",
            "DEBUG:google_adk.google.adk.memory.vertex_ai_memory_bank_service:Retrieved memory: distance=0.9560967066944013 memory=Memory(\n",
            "  create_time=datetime.datetime(2025, 10, 21, 17, 26, 38, 594480, tzinfo=TzInfo(UTC)),\n",
            "  fact='I like the idea of a bike as a birthday present for my niece.',\n",
            "  name='projects/1064971132641/locations/us-central1/reasoningEngines/4350675152132898816/memories/2445643163906342912',\n",
            "  scope={\n",
            "    'app_name': 'memory_example_app',\n",
            "    'user_id': 'My User'\n",
            "  },\n",
            "  update_time=datetime.datetime(2025, 10, 21, 17, 26, 38, 594480, tzinfo=TzInfo(UTC))\n",
            ")\n",
            "DEBUG:google_adk.google.adk.memory.vertex_ai_memory_bank_service:Retrieved memory: distance=1.0732890596992806 memory=Memory(\n",
            "  create_time=datetime.datetime(2025, 10, 21, 17, 26, 38, 594479, tzinfo=TzInfo(UTC)),\n",
            "  fact='I have a three year old niece.',\n",
            "  name='projects/1064971132641/locations/us-central1/reasoningEngines/4350675152132898816/memories/4751486173120036864',\n",
            "  scope={\n",
            "    'app_name': 'memory_example_app',\n",
            "    'user_id': 'My User'\n",
            "  },\n",
            "  update_time=datetime.datetime(2025, 10, 21, 17, 26, 38, 594479, tzinfo=TzInfo(UTC))\n",
            ")\n"
          ]
        },
        {
          "output_type": "execute_result",
          "data": {
            "text/plain": [
              "SearchMemoryResponse(memories=[MemoryEntry(content=Content(\n",
              "  parts=[\n",
              "    Part(\n",
              "      text='I like the idea of a bike as a birthday present for my niece.'\n",
              "    ),\n",
              "  ],\n",
              "  role='user'\n",
              "), author='user', timestamp='2025-10-21T17:26:38.594480+00:00'), MemoryEntry(content=Content(\n",
              "  parts=[\n",
              "    Part(\n",
              "      text='I have a three year old niece.'\n",
              "    ),\n",
              "  ],\n",
              "  role='user'\n",
              "), author='user', timestamp='2025-10-21T17:26:38.594479+00:00')])"
            ]
          },
          "metadata": {},
          "execution_count": 18
        }
      ],
      "source": [
        "await memory_bank_service.search_memory(\n",
        "    app_name=APP_NAME,\n",
        "    user_id=USER_ID,\n",
        "    query=\"What should I get my mom for mother's day\",\n",
        ")"
      ]
    },
    {
      "cell_type": "markdown",
      "metadata": {
        "id": "DtdqszuOUyJ0"
      },
      "source": [
        "#### Agent Engine SDK `GenerateMemories`\n",
        "\n",
        "If I want to interact directly with Memory Bank, I can use the Agent Engine SDK. For example, I can use [`RetrieveMemories`](https://cloud.google.com/vertex-ai/generative-ai/docs/agent-engine/memory-bank/fetch-memories#scope-based) to retrieve my memories with or without similarity search.\n",
        "\n",
        "Memories are isolated by their `scope`, which is an arbitrary dictionary. `VertexAiMemoryBankService` uses the scope keys `app_name` and `user_id`. `app_name` is set by your Runner, and `user_id` is set when creating your `Session`."
      ]
    },
    {
      "cell_type": "code",
      "execution_count": 19,
      "metadata": {
        "colab": {
          "base_uri": "https://localhost:8080/"
        },
        "id": "xXxDASPUG3OK",
        "outputId": "deaa09e7-2265-40c6-a23a-9ea223717500"
      },
      "outputs": [
        {
          "output_type": "execute_result",
          "data": {
            "text/plain": [
              "[RetrieveMemoriesResponseRetrievedMemory(\n",
              "   memory=Memory(\n",
              "     create_time=datetime.datetime(2025, 10, 21, 17, 26, 38, 594479, tzinfo=TzInfo(UTC)),\n",
              "     fact='I have a three year old niece.',\n",
              "     name='projects/1064971132641/locations/us-central1/reasoningEngines/4350675152132898816/memories/4751486173120036864',\n",
              "     scope={\n",
              "       'app_name': 'memory_example_app',\n",
              "       'user_id': 'My User'\n",
              "     },\n",
              "     update_time=datetime.datetime(2025, 10, 21, 17, 26, 38, 594479, tzinfo=TzInfo(UTC))\n",
              "   )\n",
              " ),\n",
              " RetrieveMemoriesResponseRetrievedMemory(\n",
              "   memory=Memory(\n",
              "     create_time=datetime.datetime(2025, 10, 21, 17, 26, 38, 594480, tzinfo=TzInfo(UTC)),\n",
              "     fact='I like the idea of a bike as a birthday present for my niece.',\n",
              "     name='projects/1064971132641/locations/us-central1/reasoningEngines/4350675152132898816/memories/2445643163906342912',\n",
              "     scope={\n",
              "       'app_name': 'memory_example_app',\n",
              "       'user_id': 'My User'\n",
              "     },\n",
              "     update_time=datetime.datetime(2025, 10, 21, 17, 26, 38, 594480, tzinfo=TzInfo(UTC))\n",
              "   )\n",
              " )]"
            ]
          },
          "metadata": {},
          "execution_count": 19
        }
      ],
      "source": [
        "response = client.agent_engines.memories.retrieve(\n",
        "    name=agent_engine.api_resource.name,\n",
        "    scope={\"app_name\": APP_NAME,\n",
        "           \"user_id\": USER_ID},\n",
        ")\n",
        "list(response)"
      ]
    },
    {
      "cell_type": "markdown",
      "metadata": {
        "id": "E-KVnoBHV1G5"
      },
      "source": [
        "You can also use `Retrievememories` to retrieve memories using similarity search."
      ]
    },
    {
      "cell_type": "code",
      "execution_count": 20,
      "metadata": {
        "colab": {
          "base_uri": "https://localhost:8080/"
        },
        "id": "uwH2UgOZVs36",
        "outputId": "bccc3af9-6dd6-4bb6-fee2-5ec0d5d85170"
      },
      "outputs": [
        {
          "output_type": "execute_result",
          "data": {
            "text/plain": [
              "[RetrieveMemoriesResponseRetrievedMemory(\n",
              "   distance=0.6634878027915245,\n",
              "   memory=Memory(\n",
              "     create_time=datetime.datetime(2025, 10, 21, 17, 26, 38, 594480, tzinfo=TzInfo(UTC)),\n",
              "     fact='I like the idea of a bike as a birthday present for my niece.',\n",
              "     name='projects/1064971132641/locations/us-central1/reasoningEngines/4350675152132898816/memories/2445643163906342912',\n",
              "     scope={\n",
              "       'app_name': 'memory_example_app',\n",
              "       'user_id': 'My User'\n",
              "     },\n",
              "     update_time=datetime.datetime(2025, 10, 21, 17, 26, 38, 594480, tzinfo=TzInfo(UTC))\n",
              "   )\n",
              " ),\n",
              " RetrieveMemoriesResponseRetrievedMemory(\n",
              "   distance=0.7445140312261186,\n",
              "   memory=Memory(\n",
              "     create_time=datetime.datetime(2025, 10, 21, 17, 26, 38, 594479, tzinfo=TzInfo(UTC)),\n",
              "     fact='I have a three year old niece.',\n",
              "     name='projects/1064971132641/locations/us-central1/reasoningEngines/4350675152132898816/memories/4751486173120036864',\n",
              "     scope={\n",
              "       'app_name': 'memory_example_app',\n",
              "       'user_id': 'My User'\n",
              "     },\n",
              "     update_time=datetime.datetime(2025, 10, 21, 17, 26, 38, 594479, tzinfo=TzInfo(UTC))\n",
              "   )\n",
              " )]"
            ]
          },
          "metadata": {},
          "execution_count": 20
        }
      ],
      "source": [
        "response = client.agent_engines.memories.retrieve(\n",
        "    name=agent_engine.api_resource.name,\n",
        "    scope={\"app_name\": APP_NAME, \"user_id\": USER_ID},\n",
        "    similarity_search_params={\n",
        "        \"search_query\": \"what should I get my niece for her birthday?\"\n",
        "    },\n",
        ")\n",
        "list(response)"
      ]
    },
    {
      "cell_type": "markdown",
      "metadata": {
        "id": "QWWmfmn7XHNf"
      },
      "source": [
        "Memory Bank uses a process called \"consolidation\" to ensure that we do not upload duplicative or contradictory information for the same scope."
      ]
    },
    {
      "cell_type": "code",
      "execution_count": 21,
      "metadata": {
        "colab": {
          "base_uri": "https://localhost:8080/"
        },
        "id": "gyHYYlxIXGKQ",
        "outputId": "070866b4-f751-44ab-c740-31e06054e3b5"
      },
      "outputs": [
        {
          "output_type": "stream",
          "name": "stdout",
          "text": [
            "***OPERATION RESPONSE***\n",
            "AgentEngineGenerateMemoriesOperation(\n",
            "  done=True,\n",
            "  metadata={\n",
            "    '@type': 'type.googleapis.com/google.cloud.aiplatform.v1beta1.GenerateMemoriesOperationMetadata',\n",
            "    'genericMetadata': {\n",
            "      'createTime': '2025-10-21T17:29:58.121143Z',\n",
            "      'updateTime': '2025-10-21T17:30:08.152123Z'\n",
            "    }\n",
            "  },\n",
            "  name='projects/1064971132641/locations/us-central1/reasoningEngines/4350675152132898816/operations/3250789501424893952',\n",
            "  response=GenerateMemoriesResponse(\n",
            "    generated_memories=[\n",
            "      GenerateMemoriesResponseGeneratedMemory(\n",
            "        action=<GenerateMemoriesResponseGeneratedMemoryAction.UPDATED: 'UPDATED'>,\n",
            "        memory=Memory(\n",
            "          name='projects/1064971132641/locations/us-central1/reasoningEngines/4350675152132898816/memories/2445643163906342912'\n",
            "        )\n",
            "      ),\n",
            "    ]\n",
            "  )\n",
            ")\n",
            "\n",
            "***GENERATED MEMORIES***\n",
            "Memory(\n",
            "  create_time=datetime.datetime(2025, 10, 21, 17, 26, 38, 594480, tzinfo=TzInfo(UTC)),\n",
            "  fact='I like the idea of getting my niece a bike for her third birthday.',\n",
            "  name='projects/1064971132641/locations/us-central1/reasoningEngines/4350675152132898816/memories/2445643163906342912',\n",
            "  scope={\n",
            "    'app_name': 'memory_example_app',\n",
            "    'user_id': 'My User'\n",
            "  },\n",
            "  update_time=datetime.datetime(2025, 10, 21, 17, 30, 8, 39078, tzinfo=TzInfo(UTC))\n",
            ")\n"
          ]
        }
      ],
      "source": [
        "import pprint\n",
        "\n",
        "operation = client.agent_engines.memories.generate(\n",
        "    name=agent_engine.api_resource.name,\n",
        "    scope={\"app_name\": APP_NAME, \"user_id\": USER_ID},\n",
        "    direct_contents_source={\n",
        "        \"events\": [\n",
        "            {\n",
        "                \"content\": {\n",
        "                    \"role\": \"user\",\n",
        "                    \"parts\": [\n",
        "                        {\n",
        "                            \"text\": \"I like the idea of getting my niece a bike for her third birthday\"\n",
        "                        }\n",
        "                    ],\n",
        "                }\n",
        "            }\n",
        "        ]\n",
        "    },\n",
        ")\n",
        "print(\"***OPERATION RESPONSE***\")\n",
        "pprint.pprint(operation)\n",
        "\n",
        "print(\"\\n***GENERATED MEMORIES***\")\n",
        "for generated_memory in operation.response.generated_memories:\n",
        "    pprint.pprint(client.agent_engines.memories.get(name=generated_memory.memory.name))"
      ]
    },
    {
      "cell_type": "markdown",
      "metadata": {
        "id": "FUAJRM8pYiNj"
      },
      "source": [
        "What if your agent extracted memories that you want to combine with your existing memories? You can also use `GenerateMemories` to consolidate pre-extracted facts for the same scope [documenation](https://cloud.google.com/vertex-ai/generative-ai/docs/agent-engine/memory-bank/generate-memories#consolidate-pre-extracted-memories).\n",
        "\n",
        "Memory Bank already contains memories on this topic. So, the relevant existing memories will be updated rather than creating a new, duplicative memory."
      ]
    },
    {
      "cell_type": "code",
      "execution_count": 22,
      "metadata": {
        "colab": {
          "base_uri": "https://localhost:8080/"
        },
        "id": "hVaFGo7RY0zE",
        "outputId": "522f7637-7fa0-4d71-f3b7-4298158d94e0"
      },
      "outputs": [
        {
          "output_type": "stream",
          "name": "stdout",
          "text": [
            "***OPERATION RESPONSE***\n",
            "AgentEngineGenerateMemoriesOperation(\n",
            "  done=True,\n",
            "  metadata={\n",
            "    '@type': 'type.googleapis.com/google.cloud.aiplatform.v1beta1.GenerateMemoriesOperationMetadata',\n",
            "    'genericMetadata': {\n",
            "      'createTime': '2025-10-21T17:39:20.337468Z',\n",
            "      'updateTime': '2025-10-21T17:39:22.255944Z'\n",
            "    }\n",
            "  },\n",
            "  name='projects/1064971132641/locations/us-central1/reasoningEngines/4350675152132898816/operations/2537531910440091648',\n",
            "  response=GenerateMemoriesResponse(\n",
            "    generated_memories=[\n",
            "      GenerateMemoriesResponseGeneratedMemory(\n",
            "        action=<GenerateMemoriesResponseGeneratedMemoryAction.UPDATED: 'UPDATED'>,\n",
            "        memory=Memory(\n",
            "          name='projects/1064971132641/locations/us-central1/reasoningEngines/4350675152132898816/memories/2445643163906342912'\n",
            "        )\n",
            "      ),\n",
            "    ]\n",
            "  )\n",
            ")\n",
            "\n",
            "***GENERATED MEMORIES***\n",
            "Memory(\n",
            "  create_time=datetime.datetime(2025, 10, 21, 17, 26, 38, 594480, tzinfo=TzInfo(UTC)),\n",
            "  fact='I got my niece a red bike for her third birthday.',\n",
            "  name='projects/1064971132641/locations/us-central1/reasoningEngines/4350675152132898816/memories/2445643163906342912',\n",
            "  scope={\n",
            "    'app_name': 'memory_example_app',\n",
            "    'user_id': 'My User'\n",
            "  },\n",
            "  update_time=datetime.datetime(2025, 10, 21, 17, 39, 22, 173802, tzinfo=TzInfo(UTC))\n",
            ")\n"
          ]
        }
      ],
      "source": [
        "operation = client.agent_engines.memories.generate(\n",
        "    name=agent_engine.api_resource.name,\n",
        "    scope={\"app_name\": APP_NAME, \"user_id\": USER_ID},\n",
        "    direct_memories_source={\"direct_memories\": [{\"fact\": \"I got my niece a red bike\"}]},\n",
        ")\n",
        "\n",
        "print(\"***OPERATION RESPONSE***\")\n",
        "pprint.pprint(operation)\n",
        "\n",
        "print(\"\\n***GENERATED MEMORIES***\")\n",
        "for generated_memory in operation.response.generated_memories:\n",
        "    if generated_memory.action != \"DELETED\":\n",
        "        pprint.pprint(\n",
        "            client.agent_engines.memories.get(name=generated_memory.memory.name)\n",
        "        )"
      ]
    },
    {
      "cell_type": "markdown",
      "metadata": {
        "id": "Ql9iDjUO5Mxb"
      },
      "source": [
        "#### Automate with Callbacks\n",
        "\n",
        "To automate the triggering of memory generation, you can implement a callback to generate memories after every turn. See the [`Remember this: Agent state and memory with ADK` blog post](https://cloud.google.com/blog/topics/developers-practitioners/remember-this-agent-state-and-memory-with-adk) for more information."
      ]
    },
    {
      "cell_type": "code",
      "execution_count": 23,
      "metadata": {
        "id": "sq4QSggUAuLu"
      },
      "outputs": [],
      "source": [
        "from google import adk\n",
        "\n",
        "\n",
        "async def auto_save_session_to_memory_callback(callback_context):\n",
        "    # Use the invocation context to access the conversation history that should\n",
        "    # be used as the data source for memory generation.\n",
        "    await memory_bank_service.add_session_to_memory(\n",
        "        callback_context._invocation_context.session\n",
        "    )\n",
        "    print(\"\\n****Triggered memory generation****\\n\")\n",
        "\n",
        "\n",
        "agent = LlmAgent(\n",
        "    model=MODEL,\n",
        "    name=\"Generic_QA_Agent\",\n",
        "    instruction=\"Answer the user's questions\",\n",
        "    tools=[adk.tools.preload_memory_tool.PreloadMemoryTool()],\n",
        "    after_agent_callback=auto_save_session_to_memory_callback,\n",
        ")\n",
        "\n",
        "runner = Runner(\n",
        "    agent=agent,\n",
        "    app_name=APP_NAME,\n",
        "    session_service=session_service,\n",
        "    memory_service=memory_bank_service,\n",
        ")"
      ]
    },
    {
      "cell_type": "code",
      "execution_count": null,
      "metadata": {
        "colab": {
          "base_uri": "https://localhost:8080/"
        },
        "id": "o-oU37SyA5J7",
        "outputId": "76dbbf0e-608a-4445-c5db-5703f89a079e"
      },
      "outputs": [
        {
          "name": "stderr",
          "output_type": "stream",
          "text": [
            "INFO:google_adk.google.adk.memory.vertex_ai_memory_bank_service:Search memory response received.\n",
            "DEBUG:google_adk.google.adk.memory.vertex_ai_memory_bank_service:Retrieved memory: distance=0.8091518668940462 memory=Memory(\n",
            "  create_time=datetime.datetime(2025, 10, 21, 13, 54, 55, 859611, tzinfo=TzInfo(UTC)),\n",
            "  fact='I have a three-year-old niece.',\n",
            "  name='projects/437300234315/locations/us-central1/reasoningEngines/283924688617340928/memories/6773180193344323584',\n",
            "  scope={\n",
            "    'app_name': 'memory_example_app',\n",
            "    'user_id': 'My User'\n",
            "  },\n",
            "  update_time=datetime.datetime(2025, 10, 21, 14, 0, 56, 83625, tzinfo=TzInfo(UTC))\n",
            ")\n",
            "DEBUG:google_adk.google.adk.memory.vertex_ai_memory_bank_service:Retrieved memory: distance=0.8936996259031423 memory=Memory(\n",
            "  create_time=datetime.datetime(2025, 10, 21, 13, 54, 55, 860546, tzinfo=TzInfo(UTC)),\n",
            "  fact='I got my three-year-old niece a red bike for her third birthday.',\n",
            "  name='projects/437300234315/locations/us-central1/reasoningEngines/283924688617340928/memories/4467337184130629632',\n",
            "  scope={\n",
            "    'app_name': 'memory_example_app',\n",
            "    'user_id': 'My User'\n",
            "  },\n",
            "  update_time=datetime.datetime(2025, 10, 21, 14, 15, 56, 19585, tzinfo=TzInfo(UTC))\n",
            ")\n",
            "INFO:google_adk.google.adk.models.google_llm:Sending out request, model: gemini-2.5-flash, backend: GoogleLLMVariant.VERTEX_AI, stream: False\n",
            "DEBUG:google_adk.google.adk.models.google_llm:\n",
            "LLM Request:\n",
            "-----------------------------------------------------------\n",
            "System Instruction:\n",
            "Answer the user's questions\n",
            "\n",
            "You are an agent. Your internal name is \"Generic_QA_Agent\".\n",
            "\n",
            "The following content is from your previous conversations with the user.\n",
            "They may be useful for answering the user's current query.\n",
            "<PAST_CONVERSATIONS>\n",
            "Time: 2025-10-21T14:00:56.083625+00:00\n",
            "user: I have a three-year-old niece.\n",
            "Time: 2025-10-21T14:15:56.019585+00:00\n",
            "user: I got my three-year-old niece a red bike for her third birthday.\n",
            "</PAST_CONVERSATIONS>\n",
            "\n",
            "-----------------------------------------------------------\n",
            "Contents:\n",
            "{\"parts\":[{\"text\":\"What christmas present recommendations do you have for my niece?\"}],\"role\":\"user\"}\n",
            "-----------------------------------------------------------\n",
            "Functions:\n",
            "\n",
            "-----------------------------------------------------------\n",
            "\n",
            "INFO:google_adk.google.adk.models.google_llm:Response received from the model.\n",
            "DEBUG:google_adk.google.adk.models.google_llm:\n",
            "LLM Response:\n",
            "-----------------------------------------------------------\n",
            "Text:\n",
            "Your three-year-old niece sounds like she has a great bike already! For Christmas, you might consider something different to add to her playtime. Here are some recommendations for a three-year-old:\n",
            "\n",
            "1.  **Creative Play:**\n",
            "    *   **Art Supplies:** Large crayons, washable finger paints, chunky paintbrushes, or a simple easel with paper.\n",
            "    *   **Play-Doh Sets:** These are always a hit and encourage fine motor skills and imaginative creation.\n",
            "    *   **Sticker Books:** Reusable sticker books or large activity sticker books can provide hours of fun.\n",
            "\n",
            "2.  **Building & Construction:**\n",
            "    *   **DUPLO or Large Building Blocks:** Perfect for little hands to build towers, houses, and anything they can imagine.\n",
            "    *   **Magnetic Tiles:** These are fantastic for open-ended building and exploring shapes.\n",
            "\n",
            "3.  **Imaginative & Pretend Play:**\n",
            "    *   **Dress-Up Clothes:** A simple costume (like a fairy, princess, doctor, or animal) can spark endless stories.\n",
            "    *   **Play Kitchen Accessories:** If she has a play kitchen, new food items, pots, or pans can refresh her play.\n",
            "    *   **Doll or Stuffed Animal Set:** A new baby doll with accessories (bottle, blanket) or a set of small animal figures.\n",
            "    *   **Puppets:** Hand puppets can encourage storytelling and communication.\n",
            "\n",
            "4.  **Books & Puzzles:**\n",
            "    *   **Picture Books:** Look for engaging stories with colorful illustrations. Interactive books (lift-the-flap, touch-and-feel) are also popular.\n",
            "    *   **Chunky Wooden Puzzles:** Simple 4-6 piece puzzles with knobs are great for developing problem-solving skills.\n",
            "\n",
            "5.  **Musical Instruments:**\n",
            "    *   **Child-friendly instruments:** A toy keyboard, tambourine, or shakers can introduce her to music.\n",
            "\n",
            "Think about what she's currently interested in, whether it's animals, vehicles, princesses, or creating things, and that might help narrow down the perfect gift!\n",
            "-----------------------------------------------------------\n",
            "Function calls:\n",
            "\n",
            "-----------------------------------------------------------\n",
            "Raw response:\n",
            "{\"sdk_http_response\":{\"headers\":{\"Content-Type\":\"application/json; charset=UTF-8\",\"Vary\":\"Origin, X-Origin, Referer\",\"Content-Encoding\":\"gzip\",\"Date\":\"Tue, 21 Oct 2025 14:17:27 GMT\",\"Server\":\"scaffolding on HTTPServer2\",\"X-XSS-Protection\":\"0\",\"X-Frame-Options\":\"SAMEORIGIN\",\"X-Content-Type-Options\":\"nosniff\",\"Transfer-Encoding\":\"chunked\"}},\"candidates\":[{\"content\":{\"parts\":[{\"text\":\"Your three-year-old niece sounds like she has a great bike already! For Christmas, you might consider something different to add to her playtime. Here are some recommendations for a three-year-old:\\n\\n1.  **Creative Play:**\\n    *   **Art Supplies:** Large crayons, washable finger paints, chunky paintbrushes, or a simple easel with paper.\\n    *   **Play-Doh Sets:** These are always a hit and encourage fine motor skills and imaginative creation.\\n    *   **Sticker Books:** Reusable sticker books or large activity sticker books can provide hours of fun.\\n\\n2.  **Building & Construction:**\\n    *   **DUPLO or Large Building Blocks:** Perfect for little hands to build towers, houses, and anything they can imagine.\\n    *   **Magnetic Tiles:** These are fantastic for open-ended building and exploring shapes.\\n\\n3.  **Imaginative & Pretend Play:**\\n    *   **Dress-Up Clothes:** A simple costume (like a fairy, princess, doctor, or animal) can spark endless stories.\\n    *   **Play Kitchen Accessories:** If she has a play kitchen, new food items, pots, or pans can refresh her play.\\n    *   **Doll or Stuffed Animal Set:** A new baby doll with accessories (bottle, blanket) or a set of small animal figures.\\n    *   **Puppets:** Hand puppets can encourage storytelling and communication.\\n\\n4.  **Books & Puzzles:**\\n    *   **Picture Books:** Look for engaging stories with colorful illustrations. Interactive books (lift-the-flap, touch-and-feel) are also popular.\\n    *   **Chunky Wooden Puzzles:** Simple 4-6 piece puzzles with knobs are great for developing problem-solving skills.\\n\\n5.  **Musical Instruments:**\\n    *   **Child-friendly instruments:** A toy keyboard, tambourine, or shakers can introduce her to music.\\n\\nThink about what she's currently interested in, whether it's animals, vehicles, princesses, or creating things, and that might help narrow down the perfect gift!\"}],\"role\":\"model\"},\"finish_reason\":\"STOP\",\"avg_logprobs\":-0.5732456364043771}],\"create_time\":\"2025-10-21T14:17:22.623065Z\",\"model_version\":\"gemini-2.5-flash\",\"response_id\":\"8pX3aNmDJrPQnvgP3Kaf8Ac\",\"usage_metadata\":{\"candidates_token_count\":438,\"candidates_tokens_details\":[{\"modality\":\"TEXT\",\"token_count\":438}],\"prompt_token_count\":183,\"prompt_tokens_details\":[{\"modality\":\"TEXT\",\"token_count\":183}],\"thoughts_token_count\":289,\"total_token_count\":910,\"traffic_type\":\"ON_DEMAND\"},\"automatic_function_calling_history\":[]}\n",
            "-----------------------------------------------------------\n",
            "\n"
          ]
        },
        {
          "name": "stdout",
          "output_type": "stream",
          "text": [
            "Agent Response:  Your three-year-old niece sounds like she has a great bike already! For Christmas, you might consider something different to add to her playtime. Here are some recommendations for a three-year-old:\n",
            "\n",
            "1.  **Creative Play:**\n",
            "    *   **Art Supplies:** Large crayons, washable finger paints, chunky paintbrushes, or a simple easel with paper.\n",
            "    *   **Play-Doh Sets:** These are always a hit and encourage fine motor skills and imaginative creation.\n",
            "    *   **Sticker Books:** Reusable sticker books or large activity sticker books can provide hours of fun.\n",
            "\n",
            "2.  **Building & Construction:**\n",
            "    *   **DUPLO or Large Building Blocks:** Perfect for little hands to build towers, houses, and anything they can imagine.\n",
            "    *   **Magnetic Tiles:** These are fantastic for open-ended building and exploring shapes.\n",
            "\n",
            "3.  **Imaginative & Pretend Play:**\n",
            "    *   **Dress-Up Clothes:** A simple costume (like a fairy, princess, doctor, or animal) can spark endless stories.\n",
            "    *   **Play Kitchen Accessories:** If she has a play kitchen, new food items, pots, or pans can refresh her play.\n",
            "    *   **Doll or Stuffed Animal Set:** A new baby doll with accessories (bottle, blanket) or a set of small animal figures.\n",
            "    *   **Puppets:** Hand puppets can encourage storytelling and communication.\n",
            "\n",
            "4.  **Books & Puzzles:**\n",
            "    *   **Picture Books:** Look for engaging stories with colorful illustrations. Interactive books (lift-the-flap, touch-and-feel) are also popular.\n",
            "    *   **Chunky Wooden Puzzles:** Simple 4-6 piece puzzles with knobs are great for developing problem-solving skills.\n",
            "\n",
            "5.  **Musical Instruments:**\n",
            "    *   **Child-friendly instruments:** A toy keyboard, tambourine, or shakers can introduce her to music.\n",
            "\n",
            "Think about what she's currently interested in, whether it's animals, vehicles, princesses, or creating things, and that might help narrow down the perfect gift!\n"
          ]
        },
        {
          "name": "stderr",
          "output_type": "stream",
          "text": [
            "INFO:google_adk.google.adk.memory.vertex_ai_memory_bank_service:Generate memory response received.\n",
            "DEBUG:google_adk.google.adk.memory.vertex_ai_memory_bank_service:Generate memory response: name='projects/437300234315/locations/us-central1/reasoningEngines/283924688617340928/operations/683016434195890176' metadata={'@type': 'type.googleapis.com/google.cloud.aiplatform.v1beta1.GenerateMemoriesOperationMetadata', 'genericMetadata': {'createTime': '2025-10-21T14:17:29.840373Z', 'updateTime': '2025-10-21T14:17:29.840373Z'}} done=None error=None response=None\n"
          ]
        },
        {
          "name": "stdout",
          "output_type": "stream",
          "text": [
            "\n",
            "****Triggered memory generation****\n",
            "\n"
          ]
        },
        {
          "name": "stderr",
          "output_type": "stream",
          "text": [
            "INFO:google_adk.google.adk.memory.vertex_ai_memory_bank_service:Search memory response received.\n",
            "DEBUG:google_adk.google.adk.memory.vertex_ai_memory_bank_service:Retrieved memory: distance=0.9376007979564559 memory=Memory(\n",
            "  create_time=datetime.datetime(2025, 10, 21, 13, 54, 55, 859611, tzinfo=TzInfo(UTC)),\n",
            "  fact='I have a three-year-old niece.',\n",
            "  name='projects/437300234315/locations/us-central1/reasoningEngines/283924688617340928/memories/6773180193344323584',\n",
            "  scope={\n",
            "    'app_name': 'memory_example_app',\n",
            "    'user_id': 'My User'\n",
            "  },\n",
            "  update_time=datetime.datetime(2025, 10, 21, 14, 0, 56, 83625, tzinfo=TzInfo(UTC))\n",
            ")\n",
            "DEBUG:google_adk.google.adk.memory.vertex_ai_memory_bank_service:Retrieved memory: distance=0.9382428087527607 memory=Memory(\n",
            "  create_time=datetime.datetime(2025, 10, 21, 13, 54, 55, 860546, tzinfo=TzInfo(UTC)),\n",
            "  fact='I got my three-year-old niece a red bike for her third birthday.',\n",
            "  name='projects/437300234315/locations/us-central1/reasoningEngines/283924688617340928/memories/4467337184130629632',\n",
            "  scope={\n",
            "    'app_name': 'memory_example_app',\n",
            "    'user_id': 'My User'\n",
            "  },\n",
            "  update_time=datetime.datetime(2025, 10, 21, 14, 15, 56, 19585, tzinfo=TzInfo(UTC))\n",
            ")\n",
            "INFO:google_adk.google.adk.models.google_llm:Sending out request, model: gemini-2.5-flash, backend: GoogleLLMVariant.VERTEX_AI, stream: False\n",
            "DEBUG:google_adk.google.adk.models.google_llm:\n",
            "LLM Request:\n",
            "-----------------------------------------------------------\n",
            "System Instruction:\n",
            "Answer the user's questions\n",
            "\n",
            "You are an agent. Your internal name is \"Generic_QA_Agent\".\n",
            "\n",
            "The following content is from your previous conversations with the user.\n",
            "They may be useful for answering the user's current query.\n",
            "<PAST_CONVERSATIONS>\n",
            "Time: 2025-10-21T14:00:56.083625+00:00\n",
            "user: I have a three-year-old niece.\n",
            "Time: 2025-10-21T14:15:56.019585+00:00\n",
            "user: I got my three-year-old niece a red bike for her third birthday.\n",
            "</PAST_CONVERSATIONS>\n",
            "\n",
            "-----------------------------------------------------------\n",
            "Contents:\n",
            "{\"parts\":[{\"text\":\"What christmas present recommendations do you have for my niece?\"}],\"role\":\"user\"}\n",
            "{\"parts\":[{\"text\":\"Your three-year-old niece sounds like she has a great bike already! For Christmas, you might consider something different to add to her playtime. Here are some recommendations for a three-year-old:\\n\\n1.  **Creative Play:**\\n    *   **Art Supplies:** Large crayons, washable finger paints, chunky paintbrushes, or a simple easel with paper.\\n    *   **Play-Doh Sets:** These are always a hit and encourage fine motor skills and imaginative creation.\\n    *   **Sticker Books:** Reusable sticker books or large activity sticker books can provide hours of fun.\\n\\n2.  **Building & Construction:**\\n    *   **DUPLO or Large Building Blocks:** Perfect for little hands to build towers, houses, and anything they can imagine.\\n    *   **Magnetic Tiles:** These are fantastic for open-ended building and exploring shapes.\\n\\n3.  **Imaginative & Pretend Play:**\\n    *   **Dress-Up Clothes:** A simple costume (like a fairy, princess, doctor, or animal) can spark endless stories.\\n    *   **Play Kitchen Accessories:** If she has a play kitchen, new food items, pots, or pans can refresh her play.\\n    *   **Doll or Stuffed Animal Set:** A new baby doll with accessories (bottle, blanket) or a set of small animal figures.\\n    *   **Puppets:** Hand puppets can encourage storytelling and communication.\\n\\n4.  **Books & Puzzles:**\\n    *   **Picture Books:** Look for engaging stories with colorful illustrations. Interactive books (lift-the-flap, touch-and-feel) are also popular.\\n    *   **Chunky Wooden Puzzles:** Simple 4-6 piece puzzles with knobs are great for developing problem-solving skills.\\n\\n5.  **Musical Instruments:**\\n    *   **Child-friendly instruments:** A toy keyboard, tambourine, or shakers can introduce her to music.\\n\\nThink about what she's currently interested in, whether it's animals, vehicles, princesses, or creating things, and that might help narrow down the perfect gift!\"}],\"role\":\"model\"}\n",
            "{\"parts\":[{\"text\":\"I think I'll get her a doll. What types are good for her age?\"}],\"role\":\"user\"}\n",
            "-----------------------------------------------------------\n",
            "Functions:\n",
            "\n",
            "-----------------------------------------------------------\n",
            "\n",
            "INFO:google_adk.google.adk.models.google_llm:Response received from the model.\n",
            "DEBUG:google_adk.google.adk.models.google_llm:\n",
            "LLM Response:\n",
            "-----------------------------------------------------------\n",
            "Text:\n",
            "That's a lovely idea! Dolls are wonderful for encouraging imaginative play, nurturing, and developing social-emotional skills in three-year-olds.\n",
            "\n",
            "For a three-year-old, you'll want something that is durable, easy for them to manage, and safe. Here are some types of dolls that are generally great for her age:\n",
            "\n",
            "1.  **Soft-Bodied Baby Dolls:**\n",
            "    *   **Why they're good:** These are often the first choice for this age. They are soft and cuddly, perfect for hugging and comforting. Many come with simple outfits that are easy for little hands to put on and take off (great for developing fine motor skills). They encourage nurturing play, like feeding, rocking, and putting to bed.\n",
            "    *   **Look for:** Dolls with soft, washable bodies and simple, chunky clothing. Brands like Cabbage Patch Kids (the soft-bodied versions), Melissa & Doug, or smaller baby doll lines are popular.\n",
            "\n",
            "2.  **Toddler Dolls (like some \"My First\" dolls):**\n",
            "    *   **Why they're good:** These are often slightly larger than baby dolls but still manageable. They might have a bit more articulation (moveable arms/legs) and a wider range of clothing options. They can be good for slightly more complex pretend play scenarios.\n",
            "    *   **Look for:** Dolls that are still relatively soft, or made from durable, child-friendly plastic. Avoid dolls with tiny accessories or intricate hair that will tangle easily. \"My First Princess\" dolls from brands like Disney often fit this category, as they usually have simpler outfits and fewer small parts than the collector versions.\n",
            "\n",
            "3.  **Doll with Easy-to-Manage Hair:**\n",
            "    *   **Why they're good:** At three, many children enjoy brushing and styling a doll's hair. Look for dolls with rooted hair that isn't too long or fine, making it less prone to tangling and easier for little fingers to brush.\n",
            "    *   **Look for:** Hair that feels thick and securely rooted. Some dolls come with a simple brush.\n",
            "\n",
            "4.  **Simple Rag Dolls:**\n",
            "    *   **Why they're good:** These are classic, timeless, and incredibly cuddly. They are usually very durable, machine washable, and have soft, friendly faces. They are great for quiet play and bedtime snuggles.\n",
            "    *   **Look for:** Well-made rag dolls with embroidered features (no small buttons for eyes, etc.) and sturdy stitching.\n",
            "\n",
            "**Things to consider and avoid:**\n",
            "\n",
            "*   **Size:** Make sure the doll isn't too big or heavy for her to carry comfortably.\n",
            "*   **Small Parts:** Absolutely avoid dolls with tiny shoes, hair accessories, or other small detachable parts that could be a choking hazard. Check age recommendations carefully.\n",
            "*   **Complex Electronics:** While some dolls talk or sing, too many complex features can sometimes limit imaginative play. A simple doll leaves more room for her to create her own stories.\n",
            "*   **Hair Quality:** Avoid dolls with very thin, wispy hair that knots and frizzes instantly, as it can be frustrating for a three-year-old.\n",
            "\n",
            "Many brands like **Corolle, Melissa & Doug, Manhattan Toy Company, HABA,** or even generic **soft baby dolls** you might find at toy stores, offer excellent options for this age group. If you can, opt for a doll with a friendly, welcoming expression.\n",
            "\n",
            "Happy shopping! She'll love whatever you choose.\n",
            "-----------------------------------------------------------\n",
            "Function calls:\n",
            "\n",
            "-----------------------------------------------------------\n",
            "Raw response:\n",
            "{\"sdk_http_response\":{\"headers\":{\"Content-Type\":\"application/json; charset=UTF-8\",\"Vary\":\"Origin, X-Origin, Referer\",\"Content-Encoding\":\"gzip\",\"Date\":\"Tue, 21 Oct 2025 14:17:43 GMT\",\"Server\":\"scaffolding on HTTPServer2\",\"X-XSS-Protection\":\"0\",\"X-Frame-Options\":\"SAMEORIGIN\",\"X-Content-Type-Options\":\"nosniff\",\"Transfer-Encoding\":\"chunked\"}},\"candidates\":[{\"content\":{\"parts\":[{\"text\":\"That's a lovely idea! Dolls are wonderful for encouraging imaginative play, nurturing, and developing social-emotional skills in three-year-olds.\\n\\nFor a three-year-old, you'll want something that is durable, easy for them to manage, and safe. Here are some types of dolls that are generally great for her age:\\n\\n1.  **Soft-Bodied Baby Dolls:**\\n    *   **Why they're good:** These are often the first choice for this age. They are soft and cuddly, perfect for hugging and comforting. Many come with simple outfits that are easy for little hands to put on and take off (great for developing fine motor skills). They encourage nurturing play, like feeding, rocking, and putting to bed.\\n    *   **Look for:** Dolls with soft, washable bodies and simple, chunky clothing. Brands like Cabbage Patch Kids (the soft-bodied versions), Melissa & Doug, or smaller baby doll lines are popular.\\n\\n2.  **Toddler Dolls (like some \\\"My First\\\" dolls):**\\n    *   **Why they're good:** These are often slightly larger than baby dolls but still manageable. They might have a bit more articulation (moveable arms/legs) and a wider range of clothing options. They can be good for slightly more complex pretend play scenarios.\\n    *   **Look for:** Dolls that are still relatively soft, or made from durable, child-friendly plastic. Avoid dolls with tiny accessories or intricate hair that will tangle easily. \\\"My First Princess\\\" dolls from brands like Disney often fit this category, as they usually have simpler outfits and fewer small parts than the collector versions.\\n\\n3.  **Doll with Easy-to-Manage Hair:**\\n    *   **Why they're good:** At three, many children enjoy brushing and styling a doll's hair. Look for dolls with rooted hair that isn't too long or fine, making it less prone to tangling and easier for little fingers to brush.\\n    *   **Look for:** Hair that feels thick and securely rooted. Some dolls come with a simple brush.\\n\\n4.  **Simple Rag Dolls:**\\n    *   **Why they're good:** These are classic, timeless, and incredibly cuddly. They are usually very durable, machine washable, and have soft, friendly faces. They are great for quiet play and bedtime snuggles.\\n    *   **Look for:** Well-made rag dolls with embroidered features (no small buttons for eyes, etc.) and sturdy stitching.\\n\\n**Things to consider and avoid:**\\n\\n*   **Size:** Make sure the doll isn't too big or heavy for her to carry comfortably.\\n*   **Small Parts:** Absolutely avoid dolls with tiny shoes, hair accessories, or other small detachable parts that could be a choking hazard. Check age recommendations carefully.\\n*   **Complex Electronics:** While some dolls talk or sing, too many complex features can sometimes limit imaginative play. A simple doll leaves more room for her to create her own stories.\\n*   **Hair Quality:** Avoid dolls with very thin, wispy hair that knots and frizzes instantly, as it can be frustrating for a three-year-old.\\n\\nMany brands like **Corolle, Melissa & Doug, Manhattan Toy Company, HABA,** or even generic **soft baby dolls** you might find at toy stores, offer excellent options for this age group. If you can, opt for a doll with a friendly, welcoming expression.\\n\\nHappy shopping! She'll love whatever you choose.\"}],\"role\":\"model\"},\"finish_reason\":\"STOP\",\"avg_logprobs\":-0.5814277868101274}],\"create_time\":\"2025-10-21T14:17:34.331377Z\",\"model_version\":\"gemini-2.5-flash\",\"response_id\":\"_pX3aPGcFOXb698PvciY6Ag\",\"usage_metadata\":{\"candidates_token_count\":731,\"candidates_tokens_details\":[{\"modality\":\"TEXT\",\"token_count\":731}],\"prompt_token_count\":639,\"prompt_tokens_details\":[{\"modality\":\"TEXT\",\"token_count\":639}],\"thoughts_token_count\":193,\"total_token_count\":1563,\"traffic_type\":\"ON_DEMAND\"},\"automatic_function_calling_history\":[]}\n",
            "-----------------------------------------------------------\n",
            "\n"
          ]
        },
        {
          "name": "stdout",
          "output_type": "stream",
          "text": [
            "Agent Response:  That's a lovely idea! Dolls are wonderful for encouraging imaginative play, nurturing, and developing social-emotional skills in three-year-olds.\n",
            "\n",
            "For a three-year-old, you'll want something that is durable, easy for them to manage, and safe. Here are some types of dolls that are generally great for her age:\n",
            "\n",
            "1.  **Soft-Bodied Baby Dolls:**\n",
            "    *   **Why they're good:** These are often the first choice for this age. They are soft and cuddly, perfect for hugging and comforting. Many come with simple outfits that are easy for little hands to put on and take off (great for developing fine motor skills). They encourage nurturing play, like feeding, rocking, and putting to bed.\n",
            "    *   **Look for:** Dolls with soft, washable bodies and simple, chunky clothing. Brands like Cabbage Patch Kids (the soft-bodied versions), Melissa & Doug, or smaller baby doll lines are popular.\n",
            "\n",
            "2.  **Toddler Dolls (like some \"My First\" dolls):**\n",
            "    *   **Why they're good:** These are often slightly larger than baby dolls but still manageable. They might have a bit more articulation (moveable arms/legs) and a wider range of clothing options. They can be good for slightly more complex pretend play scenarios.\n",
            "    *   **Look for:** Dolls that are still relatively soft, or made from durable, child-friendly plastic. Avoid dolls with tiny accessories or intricate hair that will tangle easily. \"My First Princess\" dolls from brands like Disney often fit this category, as they usually have simpler outfits and fewer small parts than the collector versions.\n",
            "\n",
            "3.  **Doll with Easy-to-Manage Hair:**\n",
            "    *   **Why they're good:** At three, many children enjoy brushing and styling a doll's hair. Look for dolls with rooted hair that isn't too long or fine, making it less prone to tangling and easier for little fingers to brush.\n",
            "    *   **Look for:** Hair that feels thick and securely rooted. Some dolls come with a simple brush.\n",
            "\n",
            "4.  **Simple Rag Dolls:**\n",
            "    *   **Why they're good:** These are classic, timeless, and incredibly cuddly. They are usually very durable, machine washable, and have soft, friendly faces. They are great for quiet play and bedtime snuggles.\n",
            "    *   **Look for:** Well-made rag dolls with embroidered features (no small buttons for eyes, etc.) and sturdy stitching.\n",
            "\n",
            "**Things to consider and avoid:**\n",
            "\n",
            "*   **Size:** Make sure the doll isn't too big or heavy for her to carry comfortably.\n",
            "*   **Small Parts:** Absolutely avoid dolls with tiny shoes, hair accessories, or other small detachable parts that could be a choking hazard. Check age recommendations carefully.\n",
            "*   **Complex Electronics:** While some dolls talk or sing, too many complex features can sometimes limit imaginative play. A simple doll leaves more room for her to create her own stories.\n",
            "*   **Hair Quality:** Avoid dolls with very thin, wispy hair that knots and frizzes instantly, as it can be frustrating for a three-year-old.\n",
            "\n",
            "Many brands like **Corolle, Melissa & Doug, Manhattan Toy Company, HABA,** or even generic **soft baby dolls** you might find at toy stores, offer excellent options for this age group. If you can, opt for a doll with a friendly, welcoming expression.\n",
            "\n",
            "Happy shopping! She'll love whatever you choose.\n"
          ]
        },
        {
          "name": "stderr",
          "output_type": "stream",
          "text": [
            "INFO:google_adk.google.adk.memory.vertex_ai_memory_bank_service:Generate memory response received.\n",
            "DEBUG:google_adk.google.adk.memory.vertex_ai_memory_bank_service:Generate memory response: name='projects/437300234315/locations/us-central1/reasoningEngines/283924688617340928/operations/4399612026683392000' metadata={'@type': 'type.googleapis.com/google.cloud.aiplatform.v1beta1.GenerateMemoriesOperationMetadata', 'genericMetadata': {'createTime': '2025-10-21T14:17:45.339368Z', 'updateTime': '2025-10-21T14:17:45.339368Z'}} done=None error=None response=None\n"
          ]
        },
        {
          "name": "stdout",
          "output_type": "stream",
          "text": [
            "\n",
            "****Triggered memory generation****\n",
            "\n"
          ]
        }
      ],
      "source": [
        "session = await session_service.create_session(app_name=APP_NAME, user_id=USER_ID)\n",
        "\n",
        "call_agent(\n",
        "    \"What christmas present recommendations do you have for my niece?\",\n",
        "    session.id,\n",
        "    user_id=USER_ID,\n",
        ")\n",
        "\n",
        "call_agent(\n",
        "    \"I think I'll get her a doll. What types are good for her age?\",\n",
        "    session.id,\n",
        "    user_id=USER_ID,\n",
        ")"
      ]
    },
    {
      "cell_type": "code",
      "execution_count": 28,
      "metadata": {
        "colab": {
          "base_uri": "https://localhost:8080/"
        },
        "id": "E9_pkrRUBBSP",
        "outputId": "39e95ba7-ad18-48f6-81a5-e6eb145cf851"
      },
      "outputs": [
        {
          "output_type": "execute_result",
          "data": {
            "text/plain": [
              "[RetrieveMemoriesResponseRetrievedMemory(\n",
              "   distance=0.8010641203181834,\n",
              "   memory=Memory(\n",
              "     create_time=datetime.datetime(2025, 10, 21, 17, 26, 38, 594480, tzinfo=TzInfo(UTC)),\n",
              "     fact='I got my niece a red bike for her third birthday.',\n",
              "     name='projects/1064971132641/locations/us-central1/reasoningEngines/4350675152132898816/memories/2445643163906342912',\n",
              "     scope={\n",
              "       'app_name': 'memory_example_app',\n",
              "       'user_id': 'My User'\n",
              "     },\n",
              "     update_time=datetime.datetime(2025, 10, 21, 17, 39, 22, 173802, tzinfo=TzInfo(UTC))\n",
              "   )\n",
              " ),\n",
              " RetrieveMemoriesResponseRetrievedMemory(\n",
              "   distance=0.8055486423005781,\n",
              "   memory=Memory(\n",
              "     create_time=datetime.datetime(2025, 10, 21, 17, 26, 38, 594479, tzinfo=TzInfo(UTC)),\n",
              "     fact='I have a three year old niece.',\n",
              "     name='projects/1064971132641/locations/us-central1/reasoningEngines/4350675152132898816/memories/4751486173120036864',\n",
              "     scope={\n",
              "       'app_name': 'memory_example_app',\n",
              "       'user_id': 'My User'\n",
              "     },\n",
              "     update_time=datetime.datetime(2025, 10, 21, 17, 26, 38, 594479, tzinfo=TzInfo(UTC))\n",
              "   )\n",
              " )]"
            ]
          },
          "metadata": {},
          "execution_count": 28
        }
      ],
      "source": [
        "response = client.agent_engines.memories.retrieve(\n",
        "    name=agent_engine.api_resource.name,\n",
        "    scope={\"app_name\": APP_NAME, \"user_id\": USER_ID},\n",
        "    similarity_search_params={\n",
        "        \"search_query\": \"What was I thinking about getting my niece for Christmas?\"\n",
        "    },\n",
        ")\n",
        "list(response)"
      ]
    },
    {
      "cell_type": "markdown",
      "metadata": {
        "id": "koK2O-odR36D"
      },
      "source": [
        "The prior example used the entire Session to generate memories. However, this can be costly as the size of the session increases.\n",
        "\n",
        "You can also use callbacks to only save the current turn to Memory Bank. This has the downside, however, where you lose some of the context of the conversation."
      ]
    },
    {
      "cell_type": "code",
      "execution_count": 29,
      "metadata": {
        "id": "F5hWwSvEPaaW"
      },
      "outputs": [],
      "source": [
        "async def auto_save_user_turn_to_memory_callback(callback_context):\n",
        "    last_turn = callback_context._invocation_context.user_content\n",
        "    client.agent_engines.memories.generate(\n",
        "        name=agent_engine.api_resource.name,\n",
        "        scope={\"app_name\": APP_NAME, \"user_id\": USER_ID},\n",
        "        direct_contents_source={\"events\": [{\"content\": last_turn}]},\n",
        "        config={\"wait_for_completion\": False},\n",
        "    )\n",
        "    print(\"\\n****Triggered memory generation****\\n\")\n",
        "\n",
        "\n",
        "agent = LlmAgent(\n",
        "    model=MODEL,\n",
        "    name=\"Generic_QA_Agent\",\n",
        "    instruction=\"Answer the user's questions\",\n",
        "    tools=[adk.tools.preload_memory_tool.PreloadMemoryTool()],\n",
        "    before_agent_callback=auto_save_user_turn_to_memory_callback,\n",
        ")\n",
        "\n",
        "runner = Runner(\n",
        "    agent=agent,\n",
        "    app_name=APP_NAME,\n",
        "    session_service=session_service,\n",
        "    memory_service=memory_bank_service,\n",
        ")"
      ]
    },
    {
      "cell_type": "code",
      "execution_count": 44,
      "metadata": {
        "colab": {
          "base_uri": "https://localhost:8080/"
        },
        "id": "ziRXQsAJPeYl",
        "outputId": "e9858440-5f91-4878-f7d4-0b4bb861202f"
      },
      "outputs": [
        {
          "output_type": "stream",
          "name": "stderr",
          "text": [
            "INFO:google_adk.google.adk.models.google_llm:Sending out request, model: gemini-2.5-flash, backend: GoogleLLMVariant.VERTEX_AI, stream: False\n",
            "DEBUG:google_adk.google.adk.models.google_llm:\n",
            "LLM Request:\n",
            "-----------------------------------------------------------\n",
            "System Instruction:\n",
            "Answer the user's questions\n",
            "\n",
            "You are an agent. Your internal name is \"Generic_QA_Agent\".\n",
            "Here is information that you have about the user:\n",
            "* I have four nieces.\n",
            "* I prefer the aisle seat.\n",
            "-----------------------------------------------------------\n",
            "Contents:\n",
            "{\"parts\":[{\"text\":\"Hi!\"}],\"role\":\"user\"}\n",
            "{\"parts\":[{\"text\":\"Hello! How can I help you today?\"}],\"role\":\"model\"}\n",
            "{\"parts\":[{\"text\":\"What information do you know about me?\"}],\"role\":\"user\"}\n",
            "{\"parts\":[{\"text\":\"I know that you have four nieces.\"}],\"role\":\"model\"}\n",
            "{\"parts\":[{\"text\":\"I think I'll get her a doll. What types are good for her age?\"}],\"role\":\"user\"}\n",
            "-----------------------------------------------------------\n",
            "Functions:\n",
            "\n",
            "-----------------------------------------------------------\n",
            "\n",
            "INFO:google_adk.google.adk.models.google_llm:Response received from the model.\n",
            "DEBUG:google_adk.google.adk.models.google_llm:\n",
            "LLM Response:\n",
            "-----------------------------------------------------------\n",
            "Text:\n",
            "That sounds like a lovely idea! To help me recommend the best types of dolls, could you tell me how old she is? Knowing her age will help me suggest something appropriate and fun for her development stage.\n",
            "-----------------------------------------------------------\n",
            "Function calls:\n",
            "\n",
            "-----------------------------------------------------------\n",
            "Raw response:\n",
            "{\"sdk_http_response\":{\"headers\":{\"Content-Type\":\"application/json; charset=UTF-8\",\"Vary\":\"Origin, X-Origin, Referer\",\"Content-Encoding\":\"gzip\",\"Date\":\"Tue, 21 Oct 2025 17:51:20 GMT\",\"Server\":\"scaffolding on HTTPServer2\",\"X-XSS-Protection\":\"0\",\"X-Frame-Options\":\"SAMEORIGIN\",\"X-Content-Type-Options\":\"nosniff\",\"Transfer-Encoding\":\"chunked\"}},\"candidates\":[{\"content\":{\"parts\":[{\"text\":\"That sounds like a lovely idea! To help me recommend the best types of dolls, could you tell me how old she is? Knowing her age will help me suggest something appropriate and fun for her development stage.\"}],\"role\":\"model\"},\"finish_reason\":\"STOP\",\"avg_logprobs\":-0.8985629308791387}],\"create_time\":\"2025-10-21T17:51:19.300507Z\",\"model_version\":\"gemini-2.5-flash\",\"response_id\":\"F8j3aNurEvWgmecP7--v0Ao\",\"usage_metadata\":{\"candidates_token_count\":42,\"candidates_tokens_details\":[{\"modality\":\"TEXT\",\"token_count\":42}],\"prompt_token_count\":94,\"prompt_tokens_details\":[{\"modality\":\"TEXT\",\"token_count\":94}],\"thoughts_token_count\":71,\"total_token_count\":207,\"traffic_type\":\"ON_DEMAND\"},\"automatic_function_calling_history\":[]}\n",
            "-----------------------------------------------------------\n",
            "\n"
          ]
        },
        {
          "output_type": "stream",
          "name": "stdout",
          "text": [
            "Agent Response:  That sounds like a lovely idea! To help me recommend the best types of dolls, could you tell me how old she is? Knowing her age will help me suggest something appropriate and fun for her development stage.\n"
          ]
        }
      ],
      "source": [
        "call_agent(\n",
        "    \"I think I'll get her a doll. What types are good for her age?\",\n",
        "    session.id,\n",
        "    user_id=USER_ID,\n",
        ")"
      ]
    },
    {
      "cell_type": "markdown",
      "metadata": {
        "id": "rstDOvEhWogm"
      },
      "source": [
        "## Using Memory in your agent\n",
        "\n",
        "Now, let's link our agent to Memory, so that memories can be fetched by your agent and used for inference. This allows your agent to remember information from prior sessions in a new, empty session.\n",
        "\n",
        "You can use ADK's built-in tools to fetch memories and incorporate them in the prompt. When using the built-in tools, it's important to provide both a memory tool when creating your Agent and a memory service when defining your Runner."
      ]
    },
    {
      "cell_type": "markdown",
      "metadata": {
        "id": "yOiYWk7GZlyN"
      },
      "source": [
        "### `adk.PreloadMemoryTool`\n",
        "The `PreloadMemoryTool` always retrieves memories at the start of each turn and includes the memories in the system instruction.\n",
        "\n",
        "Under the hood, it invokes `memory_service.search_memory` for the given User and App Name. Memory is invoked before the LLM is called, so there will not be an associated tool call logged for memory.\n",
        "\n",
        "We're going to use a [callback](https://google.github.io/adk-docs/callbacks/) to print out the System Instructions. Since we use `before_model_callback`, the callback executes right before the model is called.\n",
        "\n",
        "<img src=\"https://google.github.io/adk-docs/assets/callback_flow.png\">"
      ]
    },
    {
      "cell_type": "code",
      "execution_count": 31,
      "metadata": {
        "id": "l1ENgxmkWnVl"
      },
      "outputs": [],
      "source": [
        "from google import adk\n",
        "\n",
        "\n",
        "def log_system_instructions(callback_context, llm_request):\n",
        "    \"\"\"A callback to print the LLM request.\"\"\"\n",
        "    print(\n",
        "        f\"\\n*System Instruction*:\\n{llm_request.config.system_instruction}\\n*********\\n\"\n",
        "    )\n",
        "\n",
        "\n",
        "agent = LlmAgent(\n",
        "    model=MODEL,\n",
        "    name=\"Generic_QA_Agent\",\n",
        "    instruction=\"Answer the user's questions\",\n",
        "    tools=[adk.tools.preload_memory_tool.PreloadMemoryTool()],\n",
        "    before_model_callback=log_system_instructions,\n",
        ")\n",
        "\n",
        "runner = Runner(\n",
        "    agent=agent,\n",
        "    app_name=APP_NAME,\n",
        "    session_service=session_service,\n",
        "    memory_service=memory_bank_service,\n",
        ")"
      ]
    },
    {
      "cell_type": "markdown",
      "metadata": {
        "id": "r0g7dxD0aG_H"
      },
      "source": [
        "This conversation uses a new session, so it doesn't have access to the user's conversation history without using memory.\n",
        "\n",
        "Since we're using `PreloadMemoryTool`, the retrieved memories will be appended to the System Instructions."
      ]
    },
    {
      "cell_type": "code",
      "execution_count": 45,
      "metadata": {
        "colab": {
          "base_uri": "https://localhost:8080/"
        },
        "id": "2FD9VV_4Hqja",
        "outputId": "00f6180e-f27d-4283-f85a-f8cd44b34329"
      },
      "outputs": [
        {
          "output_type": "stream",
          "name": "stderr",
          "text": [
            "INFO:google_adk.google.adk.models.google_llm:Sending out request, model: gemini-2.5-flash, backend: GoogleLLMVariant.VERTEX_AI, stream: False\n",
            "DEBUG:google_adk.google.adk.models.google_llm:\n",
            "LLM Request:\n",
            "-----------------------------------------------------------\n",
            "System Instruction:\n",
            "Answer the user's questions\n",
            "\n",
            "You are an agent. Your internal name is \"Generic_QA_Agent\".\n",
            "Here is information that you have about the user:\n",
            "* I have four nieces.\n",
            "* I prefer the aisle seat.\n",
            "-----------------------------------------------------------\n",
            "Contents:\n",
            "{\"parts\":[{\"text\":\"Can you remind me what I got my niece for her christmas?\"}],\"role\":\"user\"}\n",
            "-----------------------------------------------------------\n",
            "Functions:\n",
            "\n",
            "-----------------------------------------------------------\n",
            "\n",
            "INFO:google_adk.google.adk.models.google_llm:Response received from the model.\n",
            "DEBUG:google_adk.google.adk.models.google_llm:\n",
            "LLM Response:\n",
            "-----------------------------------------------------------\n",
            "Text:\n",
            "I'm sorry, I don't have access to your personal gift history or what you've purchased for your nieces. I can't remind you what you got her for Christmas.\n",
            "-----------------------------------------------------------\n",
            "Function calls:\n",
            "\n",
            "-----------------------------------------------------------\n",
            "Raw response:\n",
            "{\"sdk_http_response\":{\"headers\":{\"Content-Type\":\"application/json; charset=UTF-8\",\"Vary\":\"Origin, X-Origin, Referer\",\"Content-Encoding\":\"gzip\",\"Date\":\"Tue, 21 Oct 2025 17:57:22 GMT\",\"Server\":\"scaffolding on HTTPServer2\",\"X-XSS-Protection\":\"0\",\"X-Frame-Options\":\"SAMEORIGIN\",\"X-Content-Type-Options\":\"nosniff\",\"Transfer-Encoding\":\"chunked\"}},\"candidates\":[{\"content\":{\"parts\":[{\"text\":\"I'm sorry, I don't have access to your personal gift history or what you've purchased for your nieces. I can't remind you what you got her for Christmas.\"}],\"role\":\"model\"},\"finish_reason\":\"STOP\",\"avg_logprobs\":-0.903270036746294}],\"create_time\":\"2025-10-21T17:57:21.702222Z\",\"model_version\":\"gemini-2.5-flash\",\"response_id\":\"gcn3aI7uKoDwmecPnPO00Ag\",\"usage_metadata\":{\"candidates_token_count\":39,\"candidates_tokens_details\":[{\"modality\":\"TEXT\",\"token_count\":39}],\"prompt_token_count\":62,\"prompt_tokens_details\":[{\"modality\":\"TEXT\",\"token_count\":62}],\"thoughts_token_count\":88,\"total_token_count\":189,\"traffic_type\":\"ON_DEMAND\"},\"automatic_function_calling_history\":[]}\n",
            "-----------------------------------------------------------\n",
            "\n"
          ]
        },
        {
          "output_type": "stream",
          "name": "stdout",
          "text": [
            "Agent Response:  I'm sorry, I don't have access to your personal gift history or what you've purchased for your nieces. I can't remind you what you got her for Christmas.\n"
          ]
        }
      ],
      "source": [
        "session = await session_service.create_session(app_name=APP_NAME, user_id=USER_ID)\n",
        "\n",
        "call_agent(\n",
        "    \"Can you remind me what I got my niece for her christmas?\",\n",
        "    session.id,\n",
        "    user_id=USER_ID,\n",
        ")"
      ]
    },
    {
      "cell_type": "markdown",
      "metadata": {
        "id": "TSpv-aGuaG4g"
      },
      "source": [
        "### adk.LoadMemoryTool\n",
        "\n",
        "Now, let's use `LoadMemoryTool`. Unlike `PreloadMemoryTool`, this tool acts like a standard tool. Your agent needs to decide whether the tool should be invoked."
      ]
    },
    {
      "cell_type": "code",
      "execution_count": 33,
      "metadata": {
        "id": "aIbplEW0ZlRR"
      },
      "outputs": [],
      "source": [
        "from google import adk\n",
        "\n",
        "\n",
        "def log_tool_call(tool, args, tool_response, **kwargs):\n",
        "    \"\"\"A callback to print the LLM request.\"\"\"\n",
        "    print(f\"\\n*Tool*:\\n{tool}\")\n",
        "    print(f\"\\n*Tool call*:\\n{args}\")\n",
        "    print(f\"\\n*Tool response*:\\n{tool_response}\\n*********\\n\")\n",
        "\n",
        "\n",
        "agent = LlmAgent(\n",
        "    model=MODEL,\n",
        "    name=\"Generic_QA_Agent\",\n",
        "    instruction=\"Answer the user's questions\",\n",
        "    tools=[adk.tools.load_memory_tool.LoadMemoryTool()],\n",
        "    before_model_callback=log_system_instructions,\n",
        "    after_tool_callback=log_tool_call,\n",
        ")\n",
        "\n",
        "runner = Runner(\n",
        "    agent=agent,\n",
        "    app_name=APP_NAME,\n",
        "    session_service=session_service,\n",
        "    memory_service=memory_bank_service,\n",
        ")"
      ]
    },
    {
      "cell_type": "code",
      "execution_count": 34,
      "metadata": {
        "colab": {
          "base_uri": "https://localhost:8080/"
        },
        "id": "u2LLB98aZssb",
        "outputId": "72aaa0ea-dd73-4c31-f992-942d4d90a87e"
      },
      "outputs": [
        {
          "output_type": "stream",
          "name": "stdout",
          "text": [
            "\n",
            "*System Instruction*:\n",
            "Answer the user's questions\n",
            "\n",
            "You are an agent. Your internal name is \"Generic_QA_Agent\".\n",
            "\n",
            "\n",
            "You have memory. You can use it to answer questions. If any questions need\n",
            "you to look up the memory, you should call load_memory function with a query.\n",
            "\n",
            "*********\n",
            "\n"
          ]
        },
        {
          "output_type": "stream",
          "name": "stderr",
          "text": [
            "INFO:google_adk.google.adk.models.google_llm:Sending out request, model: gemini-2.5-flash, backend: GoogleLLMVariant.VERTEX_AI, stream: False\n",
            "DEBUG:google_adk.google.adk.models.google_llm:\n",
            "LLM Request:\n",
            "-----------------------------------------------------------\n",
            "System Instruction:\n",
            "Answer the user's questions\n",
            "\n",
            "You are an agent. Your internal name is \"Generic_QA_Agent\".\n",
            "\n",
            "\n",
            "You have memory. You can use it to answer questions. If any questions need\n",
            "you to look up the memory, you should call load_memory function with a query.\n",
            "\n",
            "-----------------------------------------------------------\n",
            "Contents:\n",
            "{\"parts\":[{\"text\":\"Can you remind me what I got my niece for her christmas?\"}],\"role\":\"user\"}\n",
            "-----------------------------------------------------------\n",
            "Functions:\n",
            "load_memory: {'query': {'type': <Type.STRING: 'STRING'>}} \n",
            "-----------------------------------------------------------\n",
            "\n",
            "INFO:google_adk.google.adk.models.google_llm:Response received from the model.\n",
            "WARNING:google_genai.types:Warning: there are non-text parts in the response: ['thought_signature', 'function_call'], returning concatenated text result from text parts. Check the full candidates.content.parts accessor to get the full model response.\n",
            "DEBUG:google_adk.google.adk.models.google_llm:\n",
            "LLM Response:\n",
            "-----------------------------------------------------------\n",
            "Text:\n",
            "None\n",
            "-----------------------------------------------------------\n",
            "Function calls:\n",
            "name: load_memory, args: {'query': 'niece Christmas gift'}\n",
            "-----------------------------------------------------------\n",
            "Raw response:\n",
            "{\"sdk_http_response\":{\"headers\":{\"Content-Type\":\"application/json; charset=UTF-8\",\"Vary\":\"Origin, X-Origin, Referer\",\"Content-Encoding\":\"gzip\",\"Date\":\"Tue, 21 Oct 2025 17:41:33 GMT\",\"Server\":\"scaffolding on HTTPServer2\",\"X-XSS-Protection\":\"0\",\"X-Frame-Options\":\"SAMEORIGIN\",\"X-Content-Type-Options\":\"nosniff\",\"Transfer-Encoding\":\"chunked\"}},\"candidates\":[{\"content\":{\"parts\":[{\"thought_signature\":\"CpkDAePx_14Z_HHg6Wbih-JwjHD6Lqcf9CDJlrKuqYnKLrPDDsNL7ktEVIj6TxMI7cTpyoarR-B2wt6xG55Qd90WaNYS9OOnR6IDSBiDXXVjqpUyQjPdS4YeulI2ip1oj95OqNEihe8iTw1WyftcjIhXRLoV18qseusXWLkJV8NlLT_J-g5DhPznQl2UAjjO5q83ul8u2wa3WlzU8rt1dlXlY2jkQ9rlAA71dS8V_lGlOFBIIpJtpHLCPoAJ_kOrQUA8iEC2H9JrIE0dPYpgXNdgsuOEMBFiUq8G5ysCbeX2_yzariXNwDYz0E5GHYXSagvVh7M2FxLvs8F79CnEr0JWuBlw6zeawLI_Bi_j9hik1rYoZX7TPA_tVXwY7g4FtNn270QokE43cgPKyE5GCFjdk1msPXfsdBr1hNHSqcL75tyL3VazCFq_HTg-aBYiuXDvV3Qk-zDF-5xNdpS3hrw7CCzpOESezvyY5uo9cCrEiNYo1-CNscFWD7CIu_Mh0yfBbVQqCz3aUAK4i1hbnkqJ1pqLor7Tiqx3UA==\",\"function_call\":{\"args\":{\"query\":\"niece Christmas gift\"},\"name\":\"load_memory\"}}],\"role\":\"model\"},\"finish_reason\":\"STOP\",\"avg_logprobs\":-2.0380380153656006}],\"create_time\":\"2025-10-21T17:41:32.867543Z\",\"model_version\":\"gemini-2.5-flash\",\"response_id\":\"zMX3aNf5NMugmecPn4qbqAk\",\"usage_metadata\":{\"candidates_token_count\":8,\"candidates_tokens_details\":[{\"modality\":\"TEXT\",\"token_count\":8}],\"prompt_token_count\":114,\"prompt_tokens_details\":[{\"modality\":\"TEXT\",\"token_count\":114}],\"thoughts_token_count\":83,\"total_token_count\":205,\"traffic_type\":\"ON_DEMAND\"},\"automatic_function_calling_history\":[]}\n",
            "-----------------------------------------------------------\n",
            "\n",
            "INFO:google_adk.google.adk.memory.vertex_ai_memory_bank_service:Search memory response received.\n",
            "DEBUG:google_adk.google.adk.memory.vertex_ai_memory_bank_service:Retrieved memory: distance=0.761451478675921 memory=Memory(\n",
            "  create_time=datetime.datetime(2025, 10, 21, 17, 26, 38, 594479, tzinfo=TzInfo(UTC)),\n",
            "  fact='I have a three year old niece.',\n",
            "  name='projects/1064971132641/locations/us-central1/reasoningEngines/4350675152132898816/memories/4751486173120036864',\n",
            "  scope={\n",
            "    'app_name': 'memory_example_app',\n",
            "    'user_id': 'My User'\n",
            "  },\n",
            "  update_time=datetime.datetime(2025, 10, 21, 17, 26, 38, 594479, tzinfo=TzInfo(UTC))\n",
            ")\n",
            "DEBUG:google_adk.google.adk.memory.vertex_ai_memory_bank_service:Retrieved memory: distance=0.8187130548426224 memory=Memory(\n",
            "  create_time=datetime.datetime(2025, 10, 21, 17, 26, 38, 594480, tzinfo=TzInfo(UTC)),\n",
            "  fact='I got my niece a red bike for her third birthday.',\n",
            "  name='projects/1064971132641/locations/us-central1/reasoningEngines/4350675152132898816/memories/2445643163906342912',\n",
            "  scope={\n",
            "    'app_name': 'memory_example_app',\n",
            "    'user_id': 'My User'\n",
            "  },\n",
            "  update_time=datetime.datetime(2025, 10, 21, 17, 39, 22, 173802, tzinfo=TzInfo(UTC))\n",
            ")\n"
          ]
        },
        {
          "output_type": "stream",
          "name": "stdout",
          "text": [
            "\n",
            "*Tool*:\n",
            "<google.adk.tools.load_memory_tool.LoadMemoryTool object at 0x7facaa98a540>\n",
            "\n",
            "*Tool call*:\n",
            "{'query': 'niece Christmas gift'}\n",
            "\n",
            "*Tool response*:\n",
            "memories=[MemoryEntry(content=Content(\n",
            "  parts=[\n",
            "    Part(\n",
            "      text='I have a three year old niece.'\n",
            "    ),\n",
            "  ],\n",
            "  role='user'\n",
            "), author='user', timestamp='2025-10-21T17:26:38.594479+00:00'), MemoryEntry(content=Content(\n",
            "  parts=[\n",
            "    Part(\n",
            "      text='I got my niece a red bike for her third birthday.'\n",
            "    ),\n",
            "  ],\n",
            "  role='user'\n",
            "), author='user', timestamp='2025-10-21T17:39:22.173802+00:00')]\n",
            "*********\n",
            "\n",
            "\n",
            "*System Instruction*:\n",
            "Answer the user's questions\n",
            "\n",
            "You are an agent. Your internal name is \"Generic_QA_Agent\".\n",
            "\n",
            "\n",
            "You have memory. You can use it to answer questions. If any questions need\n",
            "you to look up the memory, you should call load_memory function with a query.\n",
            "\n",
            "*********\n",
            "\n"
          ]
        },
        {
          "output_type": "stream",
          "name": "stderr",
          "text": [
            "INFO:google_adk.google.adk.models.google_llm:Sending out request, model: gemini-2.5-flash, backend: GoogleLLMVariant.VERTEX_AI, stream: False\n",
            "DEBUG:google_adk.google.adk.models.google_llm:\n",
            "LLM Request:\n",
            "-----------------------------------------------------------\n",
            "System Instruction:\n",
            "Answer the user's questions\n",
            "\n",
            "You are an agent. Your internal name is \"Generic_QA_Agent\".\n",
            "\n",
            "\n",
            "You have memory. You can use it to answer questions. If any questions need\n",
            "you to look up the memory, you should call load_memory function with a query.\n",
            "\n",
            "-----------------------------------------------------------\n",
            "Contents:\n",
            "{\"parts\":[{\"text\":\"Can you remind me what I got my niece for her christmas?\"}],\"role\":\"user\"}\n",
            "{\"parts\":[{\"thought_signature\":\"CpkDAePx_14Z_HHg6Wbih-JwjHD6Lqcf9CDJlrKuqYnKLrPDDsNL7ktEVIj6TxMI7cTpyoarR-B2wt6xG55Qd90WaNYS9OOnR6IDSBiDXXVjqpUyQjPdS4YeulI2ip1oj95OqNEihe8iTw1WyftcjIhXRLoV18qseusXWLkJV8NlLT_J-g5DhPznQl2UAjjO5q83ul8u2wa3WlzU8rt1dlXlY2jkQ9rlAA71dS8V_lGlOFBIIpJtpHLCPoAJ_kOrQUA8iEC2H9JrIE0dPYpgXNdgsuOEMBFiUq8G5ysCbeX2_yzariXNwDYz0E5GHYXSagvVh7M2FxLvs8F79CnEr0JWuBlw6zeawLI_Bi_j9hik1rYoZX7TPA_tVXwY7g4FtNn270QokE43cgPKyE5GCFjdk1msPXfsdBr1hNHSqcL75tyL3VazCFq_HTg-aBYiuXDvV3Qk-zDF-5xNdpS3hrw7CCzpOESezvyY5uo9cCrEiNYo1-CNscFWD7CIu_Mh0yfBbVQqCz3aUAK4i1hbnkqJ1pqLor7Tiqx3UA==\",\"function_call\":{\"args\":{\"query\":\"niece Christmas gift\"},\"name\":\"load_memory\"}}],\"role\":\"model\"}\n",
            "{\"parts\":[{\"function_response\":{\"name\":\"load_memory\",\"response\":{\"result\":{\"memories\":[{\"content\":{\"parts\":[{\"text\":\"I have a three year old niece.\"}],\"role\":\"user\"},\"author\":\"user\",\"timestamp\":\"2025-10-21T17:26:38.594479+00:00\"},{\"content\":{\"parts\":[{\"text\":\"I got my niece a red bike for her third birthday.\"}],\"role\":\"user\"},\"author\":\"user\",\"timestamp\":\"2025-10-21T17:39:22.173802+00:00\"}]}}}}],\"role\":\"user\"}\n",
            "-----------------------------------------------------------\n",
            "Functions:\n",
            "load_memory: {'query': {'type': <Type.STRING: 'STRING'>}} \n",
            "-----------------------------------------------------------\n",
            "\n",
            "INFO:google_adk.google.adk.models.google_llm:Response received from the model.\n",
            "WARNING:google_genai.types:Warning: there are non-text parts in the response: ['thought_signature'], returning concatenated text result from text parts. Check the full candidates.content.parts accessor to get the full model response.\n",
            "DEBUG:google_adk.google.adk.models.google_llm:\n",
            "LLM Response:\n",
            "-----------------------------------------------------------\n",
            "Text:\n",
            "I couldn't find any information about what you got your niece for Christmas. I can see that you got her a red bike for her third birthday.\n",
            "-----------------------------------------------------------\n",
            "Function calls:\n",
            "\n",
            "-----------------------------------------------------------\n",
            "Raw response:\n",
            "{\"sdk_http_response\":{\"headers\":{\"Content-Type\":\"application/json; charset=UTF-8\",\"Vary\":\"Origin, X-Origin, Referer\",\"Content-Encoding\":\"gzip\",\"Date\":\"Tue, 21 Oct 2025 17:41:35 GMT\",\"Server\":\"scaffolding on HTTPServer2\",\"X-XSS-Protection\":\"0\",\"X-Frame-Options\":\"SAMEORIGIN\",\"X-Content-Type-Options\":\"nosniff\",\"Transfer-Encoding\":\"chunked\"}},\"candidates\":[{\"content\":{\"parts\":[{\"thought_signature\":\"CtcDAePx_14w-8Y-SrgzgFz2srYuDYKVpqPTlcbY_HUCVawo5VOcxy-SR132Z0cSNz0_lGktnG_nGetz7HSjoBscBDPEtKyqLy9VTI8T0SrEEhsiH-Q-CldtNG9o--97y3WnNbJV1RBI0WAoUq0H3ZKRvAymFJrVwsK1BR09knPzf8hVij1XdOChQrXa2cqmWk_xgPDhTXkw5zIq7LJc_EtA_2aGRkMBNiePXUgfTNylPo93T66yrvGxxrA-s9Ozf_XLEGKFBsOSogO473EVKBXXoz7dNLZopbhmDDGOsMiXsbHh-bOxly5sh3PqlK9tO6Ji53TgXZqDwnxTLTkUmnbsLRllXVapCfnEfDIQELJviLff5dj0MlC95TWMTMZk7l1t68ugTeflJh-Is7sTKsfGNzng1rIk-dzIeLAPg7r5JhvoQRF7Xu0hBYn0F_oUSaAPFFgohe8Hz6Z66f0n6tFEq-fTZSj_wgqrBzZgThwWGvdO_gBOe5PgbfrfLCmXcLepgKcf7MaLJqLN10bPueANwjCI_LNG1UsN1GJ6DHJxTAkVo2_s5i75l-S_qeCGx8pvETYPe97MRmVh2HizOBB3YFukf2VybaIwiyrfz8vpOoWvqY7IeZhJ\",\"text\":\"I couldn't find any information about what you got your niece for Christmas. I can see that you got her a red bike for her third birthday.\"}],\"role\":\"model\"},\"finish_reason\":\"STOP\",\"avg_logprobs\":-0.5309819867534022}],\"create_time\":\"2025-10-21T17:41:34.760959Z\",\"model_version\":\"gemini-2.5-flash\",\"response_id\":\"zsX3aP-4LveImecP7OSlkQk\",\"usage_metadata\":{\"candidates_token_count\":31,\"candidates_tokens_details\":[{\"modality\":\"TEXT\",\"token_count\":31}],\"prompt_token_count\":227,\"prompt_tokens_details\":[{\"modality\":\"TEXT\",\"token_count\":308}],\"thoughts_token_count\":98,\"total_token_count\":356,\"traffic_type\":\"ON_DEMAND\"},\"automatic_function_calling_history\":[]}\n",
            "-----------------------------------------------------------\n",
            "\n"
          ]
        },
        {
          "output_type": "stream",
          "name": "stdout",
          "text": [
            "Agent Response:  I couldn't find any information about what you got your niece for Christmas. I can see that you got her a red bike for her third birthday.\n"
          ]
        }
      ],
      "source": [
        "session = await session_service.create_session(app_name=APP_NAME, user_id=USER_ID)\n",
        "\n",
        "call_agent(\n",
        "    \"Can you remind me what I got my niece for her christmas?\",\n",
        "    session.id,\n",
        "    user_id=USER_ID,\n",
        ")"
      ]
    },
    {
      "cell_type": "markdown",
      "metadata": {
        "id": "9uGnTDQO42tf"
      },
      "source": [
        "If the agent decides that Memory is not helpful for a given query, the Memory tool will not be invoked."
      ]
    },
    {
      "cell_type": "code",
      "execution_count": 35,
      "metadata": {
        "colab": {
          "base_uri": "https://localhost:8080/"
        },
        "id": "Pmm3SJOsd288",
        "outputId": "607f6c74-3b92-4f64-e9e4-2af2c26cf4cd"
      },
      "outputs": [
        {
          "output_type": "stream",
          "name": "stdout",
          "text": [
            "\n",
            "*System Instruction*:\n",
            "Answer the user's questions\n",
            "\n",
            "You are an agent. Your internal name is \"Generic_QA_Agent\".\n",
            "\n",
            "\n",
            "You have memory. You can use it to answer questions. If any questions need\n",
            "you to look up the memory, you should call load_memory function with a query.\n",
            "\n",
            "*********\n",
            "\n"
          ]
        },
        {
          "output_type": "stream",
          "name": "stderr",
          "text": [
            "INFO:google_adk.google.adk.models.google_llm:Sending out request, model: gemini-2.5-flash, backend: GoogleLLMVariant.VERTEX_AI, stream: False\n",
            "DEBUG:google_adk.google.adk.models.google_llm:\n",
            "LLM Request:\n",
            "-----------------------------------------------------------\n",
            "System Instruction:\n",
            "Answer the user's questions\n",
            "\n",
            "You are an agent. Your internal name is \"Generic_QA_Agent\".\n",
            "\n",
            "\n",
            "You have memory. You can use it to answer questions. If any questions need\n",
            "you to look up the memory, you should call load_memory function with a query.\n",
            "\n",
            "-----------------------------------------------------------\n",
            "Contents:\n",
            "{\"parts\":[{\"text\":\"Hi!\"}],\"role\":\"user\"}\n",
            "-----------------------------------------------------------\n",
            "Functions:\n",
            "load_memory: {'query': {'type': <Type.STRING: 'STRING'>}} \n",
            "-----------------------------------------------------------\n",
            "\n",
            "INFO:google_adk.google.adk.models.google_llm:Response received from the model.\n",
            "WARNING:google_genai.types:Warning: there are non-text parts in the response: ['thought_signature'], returning concatenated text result from text parts. Check the full candidates.content.parts accessor to get the full model response.\n",
            "DEBUG:google_adk.google.adk.models.google_llm:\n",
            "LLM Response:\n",
            "-----------------------------------------------------------\n",
            "Text:\n",
            "Hello! How can I help you today?\n",
            "-----------------------------------------------------------\n",
            "Function calls:\n",
            "\n",
            "-----------------------------------------------------------\n",
            "Raw response:\n",
            "{\"sdk_http_response\":{\"headers\":{\"Content-Type\":\"application/json; charset=UTF-8\",\"Vary\":\"Origin, X-Origin, Referer\",\"Content-Encoding\":\"gzip\",\"Date\":\"Tue, 21 Oct 2025 17:41:37 GMT\",\"Server\":\"scaffolding on HTTPServer2\",\"X-XSS-Protection\":\"0\",\"X-Frame-Options\":\"SAMEORIGIN\",\"X-Content-Type-Options\":\"nosniff\",\"Transfer-Encoding\":\"chunked\"}},\"candidates\":[{\"content\":{\"parts\":[{\"thought_signature\":\"Cq8BAePx_17tQ3mRHgAab5x1AigaiTVUspK1BVuubE6YaReW_I36n1g_t-SYOPCaLME8jkq9CvWSZjdfYvy8yDWtcN9FUPzyHcSzCNk58aF1FFQRU1pV5n9FwbgBbNjwbuYBVu3QXe-ELxIZtkhkas1oSrqlCmF8xqO8FKI2QosyngMtAHFAUuYZr1LOfEPlT9xfDCxL-7utwgItUbnifhjXyQRc2QO0A-RKsA8yimKd0A==\",\"text\":\"Hello! How can I help you today?\"}],\"role\":\"model\"},\"finish_reason\":\"STOP\",\"avg_logprobs\":-0.9937056435479058}],\"create_time\":\"2025-10-21T17:41:36.504594Z\",\"model_version\":\"gemini-2.5-flash\",\"response_id\":\"0MX3aJLmHpqdmecPpd3H0Qk\",\"usage_metadata\":{\"candidates_token_count\":9,\"candidates_tokens_details\":[{\"modality\":\"TEXT\",\"token_count\":9}],\"prompt_token_count\":103,\"prompt_tokens_details\":[{\"modality\":\"TEXT\",\"token_count\":103}],\"thoughts_token_count\":32,\"total_token_count\":144,\"traffic_type\":\"ON_DEMAND\"},\"automatic_function_calling_history\":[]}\n",
            "-----------------------------------------------------------\n",
            "\n"
          ]
        },
        {
          "output_type": "stream",
          "name": "stdout",
          "text": [
            "Agent Response:  Hello! How can I help you today?\n"
          ]
        }
      ],
      "source": [
        "session = await session_service.create_session(app_name=APP_NAME, user_id=USER_ID)\n",
        "\n",
        "call_agent(\"Hi!\", session.id, user_id=USER_ID)"
      ]
    },
    {
      "cell_type": "markdown",
      "metadata": {
        "id": "-M6GeiZzAox6"
      },
      "source": [
        "### Custom callback to retrieve memories\n",
        "\n",
        "If you want more control over how memories are retrieved, you can create your own custom callback.\n",
        "\n",
        "For example, you can use the Agent Engine SDK within the callback to retrieve memories without similarity search. This is lower latency than using similarity search.\n",
        "\n",
        "You can also customize your `scope` rather than using the default \"app_name\" and \"user_id\" scope keys used by ADK's memory service."
      ]
    },
    {
      "cell_type": "code",
      "execution_count": 36,
      "metadata": {
        "id": "TUc_jTzr5QSm"
      },
      "outputs": [],
      "source": [
        "def retrieve_memories_callback(callback_context, llm_request):\n",
        "    user_id = callback_context._invocation_context.user_id\n",
        "\n",
        "    response = client.agent_engines.memories.retrieve(\n",
        "        name=agent_engine.api_resource.name,\n",
        "        # Unlike the ADK Memory Service, this does not use App Name in the scope.\n",
        "        scope={\"user_id\": user_id},\n",
        "    )\n",
        "    memories = [f\"* {memory.memory.fact}\" for memory in list(response)]\n",
        "    if not memories:\n",
        "        # No memories to add to System Instructions.\n",
        "        return\n",
        "    # Append formatted memories to the System Instructions\n",
        "    llm_request.config.system_instruction += (\n",
        "        \"\\nHere is information that you have about the user:\\n\"\n",
        "    )\n",
        "    llm_request.config.system_instruction += \"\\n\".join(memories)\n",
        "\n",
        "\n",
        "def log_tool_call(tool, args, tool_response, **kwargs):\n",
        "    \"\"\"A callback to print the LLM request.\"\"\"\n",
        "    print(f\"\\n*Tool*:\\n{tool}\")\n",
        "    print(f\"\\n*Tool call*:\\n{args}\")\n",
        "    print(f\"\\n*Tool response*:\\n{log_tool_call}\\n*********\\n\")\n",
        "\n",
        "\n",
        "agent = LlmAgent(\n",
        "    model=MODEL,\n",
        "    name=\"Generic_QA_Agent\",\n",
        "    instruction=\"Answer the user's questions\",\n",
        "    before_model_callback=retrieve_memories_callback,\n",
        ")\n",
        "\n",
        "runner = Runner(\n",
        "    agent=agent,\n",
        "    app_name=APP_NAME,\n",
        "    session_service=session_service,\n",
        "    memory_service=memory_bank_service,\n",
        ")"
      ]
    },
    {
      "cell_type": "markdown",
      "metadata": {
        "id": "hPHr71m4_hiJ"
      },
      "source": [
        "Since we're using a different scope than the ADK Memory Service, we don't have access to the prior memories. Memories are isolated by their scope dictionary."
      ]
    },
    {
      "cell_type": "code",
      "execution_count": 37,
      "metadata": {
        "colab": {
          "base_uri": "https://localhost:8080/"
        },
        "id": "0zV-bZtz51E6",
        "outputId": "8d69ad19-df97-4c27-c7f1-ab690327e29a"
      },
      "outputs": [
        {
          "output_type": "stream",
          "name": "stderr",
          "text": [
            "INFO:google_adk.google.adk.models.google_llm:Sending out request, model: gemini-2.5-flash, backend: GoogleLLMVariant.VERTEX_AI, stream: False\n",
            "DEBUG:google_adk.google.adk.models.google_llm:\n",
            "LLM Request:\n",
            "-----------------------------------------------------------\n",
            "System Instruction:\n",
            "Answer the user's questions\n",
            "\n",
            "You are an agent. Your internal name is \"Generic_QA_Agent\".\n",
            "-----------------------------------------------------------\n",
            "Contents:\n",
            "{\"parts\":[{\"text\":\"Hi!\"}],\"role\":\"user\"}\n",
            "-----------------------------------------------------------\n",
            "Functions:\n",
            "\n",
            "-----------------------------------------------------------\n",
            "\n",
            "INFO:google_adk.google.adk.models.google_llm:Response received from the model.\n",
            "DEBUG:google_adk.google.adk.models.google_llm:\n",
            "LLM Response:\n",
            "-----------------------------------------------------------\n",
            "Text:\n",
            "Hello! How can I help you today?\n",
            "-----------------------------------------------------------\n",
            "Function calls:\n",
            "\n",
            "-----------------------------------------------------------\n",
            "Raw response:\n",
            "{\"sdk_http_response\":{\"headers\":{\"Content-Type\":\"application/json; charset=UTF-8\",\"Vary\":\"Origin, X-Origin, Referer\",\"Content-Encoding\":\"gzip\",\"Date\":\"Tue, 21 Oct 2025 17:41:38 GMT\",\"Server\":\"scaffolding on HTTPServer2\",\"X-XSS-Protection\":\"0\",\"X-Frame-Options\":\"SAMEORIGIN\",\"X-Content-Type-Options\":\"nosniff\",\"Transfer-Encoding\":\"chunked\"}},\"candidates\":[{\"content\":{\"parts\":[{\"text\":\"Hello! How can I help you today?\"}],\"role\":\"model\"},\"finish_reason\":\"STOP\",\"avg_logprobs\":-0.314761930041843}],\"create_time\":\"2025-10-21T17:41:37.668395Z\",\"model_version\":\"gemini-2.5-flash\",\"response_id\":\"0cX3aOvlKJqdmecPpd3H0Qk\",\"usage_metadata\":{\"candidates_token_count\":9,\"candidates_tokens_details\":[{\"modality\":\"TEXT\",\"token_count\":9}],\"prompt_token_count\":25,\"prompt_tokens_details\":[{\"modality\":\"TEXT\",\"token_count\":25}],\"thoughts_token_count\":16,\"total_token_count\":50,\"traffic_type\":\"ON_DEMAND\"},\"automatic_function_calling_history\":[]}\n",
            "-----------------------------------------------------------\n",
            "\n"
          ]
        },
        {
          "output_type": "stream",
          "name": "stdout",
          "text": [
            "Agent Response:  Hello! How can I help you today?\n"
          ]
        }
      ],
      "source": [
        "session = await session_service.create_session(app_name=APP_NAME, user_id=USER_ID)\n",
        "\n",
        "call_agent(\"Hi!\", session.id, user_id=USER_ID)"
      ]
    },
    {
      "cell_type": "markdown",
      "metadata": {
        "id": "F-RoQ0UF_s5v"
      },
      "source": [
        "Let's first generate memories for our new scope."
      ]
    },
    {
      "cell_type": "code",
      "execution_count": 38,
      "metadata": {
        "colab": {
          "base_uri": "https://localhost:8080/"
        },
        "id": "3PjiIK2L_r43",
        "outputId": "4f5bb162-18e5-4171-d432-345efa7102c1"
      },
      "outputs": [
        {
          "output_type": "execute_result",
          "data": {
            "text/plain": [
              "AgentEngineGenerateMemoriesOperation(\n",
              "  done=True,\n",
              "  metadata={\n",
              "    '@type': 'type.googleapis.com/google.cloud.aiplatform.v1beta1.GenerateMemoriesOperationMetadata',\n",
              "    'genericMetadata': {\n",
              "      'createTime': '2025-10-21T17:41:38.150342Z',\n",
              "      'updateTime': '2025-10-21T17:41:39.347524Z'\n",
              "    }\n",
              "  },\n",
              "  name='projects/1064971132641/locations/us-central1/reasoningEngines/4350675152132898816/operations/2886560881561305088',\n",
              "  response=GenerateMemoriesResponse(\n",
              "    generated_memories=[\n",
              "      GenerateMemoriesResponseGeneratedMemory(\n",
              "        action=<GenerateMemoriesResponseGeneratedMemoryAction.CREATED: 'CREATED'>,\n",
              "        memory=Memory(\n",
              "          name='projects/1064971132641/locations/us-central1/reasoningEngines/4350675152132898816/memories/8099912496070000640'\n",
              "        )\n",
              "      ),\n",
              "    ]\n",
              "  )\n",
              ")"
            ]
          },
          "metadata": {},
          "execution_count": 38
        }
      ],
      "source": [
        "client.agent_engines.memories.generate(\n",
        "    scope={\"user_id\": USER_ID},\n",
        "    name=agent_engine.api_resource.name,\n",
        "    direct_contents_source={\n",
        "        \"events\": [\n",
        "            {\"content\": {\"role\": \"user\", \"parts\": [{\"text\": \"I have four nieces!\"}]}}\n",
        "        ]\n",
        "    },\n",
        ")"
      ]
    },
    {
      "cell_type": "code",
      "execution_count": 39,
      "metadata": {
        "colab": {
          "base_uri": "https://localhost:8080/"
        },
        "id": "fTzgPdtU_9Qd",
        "outputId": "489ff571-88b9-4e7c-dae0-394b84dce84f"
      },
      "outputs": [
        {
          "output_type": "stream",
          "name": "stderr",
          "text": [
            "INFO:google_adk.google.adk.models.google_llm:Sending out request, model: gemini-2.5-flash, backend: GoogleLLMVariant.VERTEX_AI, stream: False\n",
            "DEBUG:google_adk.google.adk.models.google_llm:\n",
            "LLM Request:\n",
            "-----------------------------------------------------------\n",
            "System Instruction:\n",
            "Answer the user's questions\n",
            "\n",
            "You are an agent. Your internal name is \"Generic_QA_Agent\".\n",
            "Here is information that you have about the user:\n",
            "* I have four nieces.\n",
            "-----------------------------------------------------------\n",
            "Contents:\n",
            "{\"parts\":[{\"text\":\"Hi!\"}],\"role\":\"user\"}\n",
            "{\"parts\":[{\"text\":\"Hello! How can I help you today?\"}],\"role\":\"model\"}\n",
            "{\"parts\":[{\"text\":\"What information do you know about me?\"}],\"role\":\"user\"}\n",
            "-----------------------------------------------------------\n",
            "Functions:\n",
            "\n",
            "-----------------------------------------------------------\n",
            "\n",
            "INFO:google_adk.google.adk.models.google_llm:Response received from the model.\n",
            "DEBUG:google_adk.google.adk.models.google_llm:\n",
            "LLM Response:\n",
            "-----------------------------------------------------------\n",
            "Text:\n",
            "I know that you have four nieces.\n",
            "-----------------------------------------------------------\n",
            "Function calls:\n",
            "\n",
            "-----------------------------------------------------------\n",
            "Raw response:\n",
            "{\"sdk_http_response\":{\"headers\":{\"Content-Type\":\"application/json; charset=UTF-8\",\"Vary\":\"Origin, X-Origin, Referer\",\"Content-Encoding\":\"gzip\",\"Date\":\"Tue, 21 Oct 2025 17:41:40 GMT\",\"Server\":\"scaffolding on HTTPServer2\",\"X-XSS-Protection\":\"0\",\"X-Frame-Options\":\"SAMEORIGIN\",\"X-Content-Type-Options\":\"nosniff\",\"Transfer-Encoding\":\"chunked\"}},\"candidates\":[{\"content\":{\"parts\":[{\"text\":\"I know that you have four nieces.\"}],\"role\":\"model\"},\"finish_reason\":\"STOP\",\"avg_logprobs\":-1.4045145511627197}],\"create_time\":\"2025-10-21T17:41:40.280647Z\",\"model_version\":\"gemini-2.5-flash\",\"response_id\":\"1MX3aMeQEdOTmecPtMz1uQk\",\"usage_metadata\":{\"candidates_token_count\":8,\"candidates_tokens_details\":[{\"modality\":\"TEXT\",\"token_count\":8}],\"prompt_token_count\":60,\"prompt_tokens_details\":[{\"modality\":\"TEXT\",\"token_count\":60}],\"thoughts_token_count\":31,\"total_token_count\":99,\"traffic_type\":\"ON_DEMAND\"},\"automatic_function_calling_history\":[]}\n",
            "-----------------------------------------------------------\n",
            "\n"
          ]
        },
        {
          "output_type": "stream",
          "name": "stdout",
          "text": [
            "Agent Response:  I know that you have four nieces.\n"
          ]
        }
      ],
      "source": [
        "call_agent(\"What information do you know about me?\", session.id, user_id=USER_ID)"
      ]
    },
    {
      "cell_type": "markdown",
      "metadata": {
        "id": "SAw7Dax-biQW"
      },
      "source": [
        "## Customize your Memory Bank's behavior\n",
        "\n",
        "So far, we've used Memory Bank with it's default settings. Now, let's customize some configurations. The configuration is set when creating or updating your Agent Engine."
      ]
    },
    {
      "cell_type": "markdown",
      "metadata": {
        "id": "6nIKVog-sitb"
      },
      "source": [
        "### Customizing Memory Extraction\n",
        "\n",
        "By default, Memory Bank considers memories that fit the following topics to be meaningful:\n",
        "\n",
        "* **Personal information (`USER_PERSONAL_INFO`)**: Significant personal information about the user, like names, relationships, hobbies, and important dates. For example, \"I work at Google\" or \"My wedding anniversary is on December 31\".\n",
        "* **User preferences (`USER_PREFERENCES`)**: Stated or implied likes, dislikes, preferred styles, or patterns. For example, \"I prefer the middle seat.\"\n",
        "* **Key conversation events and task outcomes (`KEY_CONVERSATION_DETAILS`)**: Important milestones or conclusions within the dialogue. For example, \"I booked plane tickets for a round trip between JFK and SFO. I leave on June 1, 2025 and return on June 7, 2025.\"\n",
        "* **Explicit remember / forget instructions (`EXPLICIT_INSTRUCTIONS`)**: Information that the user explicitly asks the agent to remember or forget. For example, if the user says \"Remember that I primarily use Python,\" Memory Bank generates a memory such as \"I primarily use Python.\"\n",
        "\n",
        "These are managed topics where Memory Bank manages their definition. If you want to use a subset of these topics or use custom topics, you can provide a \"CustomizationConfig\" to customize what information Memory Bank should consider meaningful to persist."
      ]
    },
    {
      "cell_type": "markdown",
      "metadata": {
        "id": "G2pwuUddXf59"
      },
      "source": [
        "#### Managed Topics\n",
        "\n",
        "We're going to update our Memory Bank to only extract user preferences.\n",
        "\n",
        "This will take affect for all requests to Memory Bank, regardless of whether you use ADK or Agent Engine SDK."
      ]
    },
    {
      "cell_type": "code",
      "execution_count": 40,
      "metadata": {
        "colab": {
          "base_uri": "https://localhost:8080/"
        },
        "id": "6qc7x-1tXWS_",
        "outputId": "55c123c4-0383-4d97-e6a5-1be78f0ca821"
      },
      "outputs": [
        {
          "output_type": "stream",
          "name": "stderr",
          "text": [
            "INFO:vertexai_genai.agentengines:View progress and logs at https://console.cloud.google.com/logs/query?project=adkai-475815.\n",
            "INFO:vertexai_genai.agentengines:Agent Engine updated. To use it in another session:\n",
            "INFO:vertexai_genai.agentengines:agent_engine=client.agent_engines.get('projects/1064971132641/locations/us-central1/reasoningEngines/4350675152132898816')\n"
          ]
        },
        {
          "output_type": "execute_result",
          "data": {
            "text/plain": [
              "AgentEngine(api_resource.name='projects/1064971132641/locations/us-central1/reasoningEngines/4350675152132898816')"
            ]
          },
          "metadata": {},
          "execution_count": 40
        }
      ],
      "source": [
        "user_preferences_config = {\n",
        "    \"scope_keys\": [\"user_id\"],\n",
        "    \"memory_topics\": [\n",
        "        {\"managed_memory_topic\": {\"managed_topic_enum\": \"USER_PREFERENCES\"}}\n",
        "    ],\n",
        "}\n",
        "\n",
        "\n",
        "client.agent_engines.update(\n",
        "    name=agent_engine.api_resource.name,\n",
        "    config={\n",
        "        \"context_spec\": {\n",
        "            \"memory_bank_config\": {\n",
        "                \"customization_configs\": [user_preferences_config],\n",
        "            }\n",
        "        }\n",
        "    },\n",
        ")"
      ]
    },
    {
      "cell_type": "markdown",
      "metadata": {
        "id": "t3RNGsTmYI74"
      },
      "source": [
        "Memories that fit the `USER_PREFERENCES` category will be persisted."
      ]
    },
    {
      "cell_type": "code",
      "execution_count": 41,
      "metadata": {
        "colab": {
          "base_uri": "https://localhost:8080/"
        },
        "id": "g_efAhHIYGEC",
        "outputId": "64b2ba5b-c81b-420d-bf69-3d125776b515"
      },
      "outputs": [
        {
          "output_type": "execute_result",
          "data": {
            "text/plain": [
              "AgentEngineGenerateMemoriesOperation(\n",
              "  done=True,\n",
              "  metadata={\n",
              "    '@type': 'type.googleapis.com/google.cloud.aiplatform.v1beta1.GenerateMemoriesOperationMetadata',\n",
              "    'genericMetadata': {\n",
              "      'createTime': '2025-10-21T17:41:41.181972Z',\n",
              "      'updateTime': '2025-10-21T17:41:43.872480Z'\n",
              "    }\n",
              "  },\n",
              "  name='projects/1064971132641/locations/us-central1/reasoningEngines/4350675152132898816/operations/8786276393416654848',\n",
              "  response=GenerateMemoriesResponse(\n",
              "    generated_memories=[\n",
              "      GenerateMemoriesResponseGeneratedMemory(\n",
              "        action=<GenerateMemoriesResponseGeneratedMemoryAction.CREATED: 'CREATED'>,\n",
              "        memory=Memory(\n",
              "          name='projects/1064971132641/locations/us-central1/reasoningEngines/4350675152132898816/memories/3812485650813288448'\n",
              "        )\n",
              "      ),\n",
              "    ]\n",
              "  )\n",
              ")"
            ]
          },
          "metadata": {},
          "execution_count": 41
        }
      ],
      "source": [
        "client.agent_engines.memories.generate(\n",
        "    scope={\"user_id\": USER_ID},\n",
        "    name=agent_engine.api_resource.name,\n",
        "    direct_contents_source={\n",
        "        \"events\": [\n",
        "            {\n",
        "                \"content\": {\n",
        "                    \"role\": \"user\",\n",
        "                    \"parts\": [{\"text\": \"I prefer the aisle seat\"}],\n",
        "                }\n",
        "            }\n",
        "        ]\n",
        "    },\n",
        ")"
      ]
    },
    {
      "cell_type": "markdown",
      "metadata": {
        "id": "0W7oEz7KYOks"
      },
      "source": [
        "Memories that don't fit `USER_PREFERENCES` won't be persisted."
      ]
    },
    {
      "cell_type": "code",
      "execution_count": 42,
      "metadata": {
        "colab": {
          "base_uri": "https://localhost:8080/"
        },
        "id": "V9sQPIGQYTr0",
        "outputId": "f643a62e-c5f8-47f1-c1dc-be0c9862c04c"
      },
      "outputs": [
        {
          "output_type": "execute_result",
          "data": {
            "text/plain": [
              "AgentEngineGenerateMemoriesOperation(\n",
              "  done=True,\n",
              "  metadata={\n",
              "    '@type': 'type.googleapis.com/google.cloud.aiplatform.v1beta1.GenerateMemoriesOperationMetadata',\n",
              "    'genericMetadata': {\n",
              "      'createTime': '2025-10-21T17:41:44.096789Z',\n",
              "      'updateTime': '2025-10-21T17:41:45.405477Z'\n",
              "    }\n",
              "  },\n",
              "  name='projects/1064971132641/locations/us-central1/reasoningEngines/4350675152132898816/operations/4039482386168152064'\n",
              ")"
            ]
          },
          "metadata": {},
          "execution_count": 42
        }
      ],
      "source": [
        "client.agent_engines.memories.generate(\n",
        "    scope={\"user_id\": USER_ID},\n",
        "    name=agent_engine.api_resource.name,\n",
        "    direct_contents_source={\n",
        "        \"events\": [\n",
        "            {\n",
        "                \"content\": {\n",
        "                    \"role\": \"user\",\n",
        "                    \"parts\": [{\"text\": \"I'm going to get my niece a red bike\"}],\n",
        "                }\n",
        "            }\n",
        "        ]\n",
        "    },\n",
        ")"
      ]
    },
    {
      "cell_type": "markdown",
      "metadata": {
        "id": "SodYXQQrXMqD"
      },
      "source": [
        "#### Custom Topics\n",
        "Alternatively, you can define your own custom topics where you define your own labels, descriptions, and examples."
      ]
    },
    {
      "cell_type": "code",
      "execution_count": 43,
      "metadata": {
        "colab": {
          "base_uri": "https://localhost:8080/",
          "height": 418
        },
        "id": "o-W0cxdqsjRi",
        "outputId": "75e527b6-4728-4cb6-d145-d0feed65934b"
      },
      "outputs": [
        {
          "output_type": "error",
          "ename": "ModuleNotFoundError",
          "evalue": "No module named 'vertexai.types'",
          "traceback": [
            "\u001b[0;31m---------------------------------------------------------------------------\u001b[0m",
            "\u001b[0;31mModuleNotFoundError\u001b[0m                       Traceback (most recent call last)",
            "\u001b[0;32m/tmp/ipython-input-4069965263.py\u001b[0m in \u001b[0;36m<cell line: 0>\u001b[0;34m()\u001b[0m\n\u001b[0;32m----> 1\u001b[0;31m \u001b[0;32mfrom\u001b[0m \u001b[0mvertexai\u001b[0m\u001b[0;34m.\u001b[0m\u001b[0mtypes\u001b[0m \u001b[0;32mimport\u001b[0m \u001b[0mMemoryBankCustomizationConfig\u001b[0m \u001b[0;32mas\u001b[0m \u001b[0mCustomizationConfig\u001b[0m\u001b[0;34m\u001b[0m\u001b[0;34m\u001b[0m\u001b[0m\n\u001b[0m\u001b[1;32m      2\u001b[0m from vertexai.types import (\n\u001b[1;32m      3\u001b[0m     \u001b[0mMemoryBankCustomizationConfigGenerateMemoriesExample\u001b[0m \u001b[0;32mas\u001b[0m \u001b[0mGenerateMemoriesExample\u001b[0m\u001b[0;34m,\u001b[0m\u001b[0;34m\u001b[0m\u001b[0;34m\u001b[0m\u001b[0m\n\u001b[1;32m      4\u001b[0m )\n\u001b[1;32m      5\u001b[0m from vertexai.types import (\n",
            "\u001b[0;31mModuleNotFoundError\u001b[0m: No module named 'vertexai.types'",
            "",
            "\u001b[0;31m---------------------------------------------------------------------------\u001b[0;32m\nNOTE: If your import is failing due to a missing package, you can\nmanually install dependencies using either !pip or !apt.\n\nTo view examples of installing some common dependencies, click the\n\"Open Examples\" button below.\n\u001b[0;31m---------------------------------------------------------------------------\u001b[0m\n"
          ],
          "errorDetails": {
            "actions": [
              {
                "action": "open_url",
                "actionText": "Open Examples",
                "url": "/notebooks/snippets/importing_libraries.ipynb"
              }
            ]
          }
        }
      ],
      "source": [
        "from vertexai.types import MemoryBankCustomizationConfig as CustomizationConfig\n",
        "from vertexai.types import (\n",
        "    MemoryBankCustomizationConfigGenerateMemoriesExample as GenerateMemoriesExample,\n",
        ")\n",
        "from vertexai.types import (\n",
        "    MemoryBankCustomizationConfigGenerateMemoriesExampleConversationSource as ConversationSource,\n",
        ")\n",
        "from vertexai.types import (\n",
        "    MemoryBankCustomizationConfigGenerateMemoriesExampleConversationSourceEvent as ConversationSourceEvent,\n",
        ")\n",
        "from vertexai.types import (\n",
        "    MemoryBankCustomizationConfigGenerateMemoriesExampleGeneratedMemory as ExampleGeneratedMemory,\n",
        ")\n",
        "from vertexai.types import MemoryBankCustomizationConfigMemoryTopic as MemoryTopic\n",
        "from vertexai.types import (\n",
        "    MemoryBankCustomizationConfigMemoryTopicCustomMemoryTopic as CustomMemoryTopic,\n",
        ")\n",
        "\n",
        "memory_topic = MemoryTopic(\n",
        "    custom_memory_topic=CustomMemoryTopic(\n",
        "        label=\"business_feedback\",\n",
        "        description=\"\"\"Specific user feedback about their experience at\n",
        "the coffee shop. This includes opinions on drinks, food, pastries, ambiance,\n",
        "staff friendliness, service speed, cleanliness, and any suggestions for\n",
        "improvement.\"\"\",\n",
        "    )\n",
        ")\n",
        "\n",
        "\n",
        "example = GenerateMemoriesExample(\n",
        "    conversation_source=ConversationSource(\n",
        "        events=[\n",
        "            ConversationSourceEvent(\n",
        "                content=Content(\n",
        "                    role=\"model\",\n",
        "                    parts=[\n",
        "                        Part(\n",
        "                            text=\"Welcome back to The Daily Grind! We'd love to hear your feedback on your visit.\"\n",
        "                        )\n",
        "                    ],\n",
        "                )\n",
        "            ),\n",
        "            ConversationSourceEvent(\n",
        "                content=Content(\n",
        "                    role=\"user\",\n",
        "                    parts=[\n",
        "                        Part(\n",
        "                            text=\"Hey. The drip coffee was a bit lukewarm today, which was a bummer. Also, the music was way too loud, I could barely hear my friend.\"\n",
        "                        )\n",
        "                    ],\n",
        "                )\n",
        "            ),\n",
        "        ]\n",
        "    ),\n",
        "    generated_memories=[\n",
        "        ExampleGeneratedMemory(\n",
        "            fact=\"The user reported that the drip coffee was lukewarm.\"\n",
        "        ),\n",
        "        ExampleGeneratedMemory(\n",
        "            fact=\"The user felt the music in the shop was too loud.\"\n",
        "        ),\n",
        "    ],\n",
        ")\n",
        "\n",
        "noop_example = GenerateMemoriesExample(\n",
        "    conversation_source=ConversationSource(\n",
        "        events=[\n",
        "            ConversationSourceEvent(\n",
        "                content=Content(\n",
        "                    role=\"model\",\n",
        "                    parts=[\n",
        "                        Part(\n",
        "                            text=\"Welcome back to The Daily Grind! We'd love to hear your feedback on your visit.\"\n",
        "                        )\n",
        "                    ],\n",
        "                )\n",
        "            ),\n",
        "            ConversationSourceEvent(\n",
        "                content=Content(\n",
        "                    role=\"user\", parts=[Part(text=\"Thanks for the coffee!\")]\n",
        "                )\n",
        "            ),\n",
        "        ]\n",
        "    ),\n",
        "    generated_memories=[],\n",
        ")\n",
        "\n",
        "client.agent_engines.update(\n",
        "    name=agent_engine.api_resource.name,\n",
        "    config={\n",
        "        \"context_spec\": {\n",
        "            \"memory_bank_config\": {\n",
        "                \"customization_configs\": [\n",
        "                    CustomizationConfig(\n",
        "                        memory_topics=[memory_topic],\n",
        "                        generate_memories_examples=[example, noop_example],\n",
        "                    )\n",
        "                ],\n",
        "            }\n",
        "        }\n",
        "    },\n",
        ")"
      ]
    },
    {
      "cell_type": "code",
      "execution_count": null,
      "metadata": {
        "id": "XE783Z_TDHC_"
      },
      "outputs": [],
      "source": [
        "client.agent_engines.memories.generate(\n",
        "    scope={\"user_id\": \"123\"},\n",
        "    name=agent_engine.api_resource.name,\n",
        "    direct_contents_source={\n",
        "        \"events\": [\n",
        "            {\n",
        "                \"content\": {\n",
        "                    \"role\": \"user\",\n",
        "                    \"parts\": [{\"text\": \"I prefer the aisle seat\"}],\n",
        "                }\n",
        "            }\n",
        "        ]\n",
        "    },\n",
        ")"
      ]
    },
    {
      "cell_type": "code",
      "execution_count": null,
      "metadata": {
        "id": "u1j8iPHBdg6n"
      },
      "outputs": [],
      "source": [
        "import vertexai\n",
        "\n",
        "client.agent_engines.memories.generate(\n",
        "    scope={\"user_id\": \"123\"},\n",
        "    name=agent_engine.api_resource.name,\n",
        "    direct_contents_source={\n",
        "        \"events\": [\n",
        "            {\n",
        "                \"content\": {\n",
        "                    \"role\": \"user\",\n",
        "                    \"parts\": [{\"text\": \"You should have almond milk\"}],\n",
        "                }\n",
        "            }\n",
        "        ]\n",
        "    },\n",
        ")"
      ]
    },
    {
      "cell_type": "code",
      "execution_count": null,
      "metadata": {
        "id": "DJ7v62dIePo9"
      },
      "outputs": [],
      "source": [
        "list(\n",
        "    client.agent_engines.memories.retrieve(\n",
        "        name=agent_engine.api_resource.name, scope={\"user_id\": \"123\"}\n",
        "    )\n",
        ")"
      ]
    },
    {
      "cell_type": "markdown",
      "metadata": {
        "id": "KVPXrs2GS_ZJ"
      },
      "source": [
        "### Dynamic TTL\n",
        "\n",
        "You can also configure Memory Bank to automatically set the TTL for any generated or manually created (or updated) memories."
      ]
    },
    {
      "cell_type": "markdown",
      "metadata": {
        "id": "Dtf5AcltTV2I"
      },
      "source": [
        "#### Default TTL\n",
        "\n",
        "Default TTL applies to all operations that create or update a Memory."
      ]
    },
    {
      "cell_type": "code",
      "execution_count": null,
      "metadata": {
        "colab": {
          "base_uri": "https://localhost:8080/"
        },
        "id": "vQZKHD-TS-qD",
        "outputId": "d350f8cd-7830-4027-c161-9d167e8ba01d"
      },
      "outputs": [
        {
          "name": "stderr",
          "output_type": "stream",
          "text": [
            "INFO:vertexai_genai.agentengines:View progress and logs at https://console.cloud.google.com/logs/query?project=unstacked-x-bwai.\n",
            "INFO:vertexai_genai.agentengines:Agent Engine updated. To use it in another session:\n",
            "INFO:vertexai_genai.agentengines:agent_engine=client.agent_engines.get('projects/437300234315/locations/us-central1/reasoningEngines/283924688617340928')\n"
          ]
        },
        {
          "data": {
            "text/plain": [
              "AgentEngine(api_resource.name='projects/437300234315/locations/us-central1/reasoningEngines/283924688617340928')"
            ]
          },
          "execution_count": 47,
          "metadata": {},
          "output_type": "execute_result"
        }
      ],
      "source": [
        "client.agent_engines.update(\n",
        "    name=agent_engine.api_resource.name,\n",
        "    config={\n",
        "        \"context_spec\": {\n",
        "            \"memory_bank_config\": {\n",
        "                \"ttl_config\": {\n",
        "                    # 30 days\n",
        "                    \"default_ttl\": f\"{60 * 60 * 24 * 30}s\"\n",
        "                }\n",
        "            }\n",
        "        }\n",
        "    },\n",
        ")"
      ]
    },
    {
      "cell_type": "code",
      "execution_count": null,
      "metadata": {
        "colab": {
          "base_uri": "https://localhost:8080/"
        },
        "id": "vICeAqPyCaT0",
        "outputId": "9c6645ec-30b1-4945-f1cc-4bd69a601800"
      },
      "outputs": [
        {
          "data": {
            "text/plain": [
              "Memory(\n",
              "  create_time=datetime.datetime(2025, 10, 21, 14, 36, 9, 601480, tzinfo=TzInfo(UTC)),\n",
              "  expire_time=datetime.datetime(2025, 11, 20, 14, 42, 56, 299370, tzinfo=TzInfo(UTC)),\n",
              "  fact='I have four nieces.',\n",
              "  name='projects/437300234315/locations/us-central1/reasoningEngines/283924688617340928/memories/2531211556826382336',\n",
              "  scope={\n",
              "    'user_id': 'My User'\n",
              "  },\n",
              "  update_time=datetime.datetime(2025, 10, 21, 14, 42, 56, 302588, tzinfo=TzInfo(UTC))\n",
              ")"
            ]
          },
          "execution_count": 48,
          "metadata": {},
          "output_type": "execute_result"
        }
      ],
      "source": [
        "response = client.agent_engines.memories.generate(\n",
        "    scope={\"user_id\": USER_ID},\n",
        "    name=agent_engine.api_resource.name,\n",
        "    direct_contents_source={\n",
        "        \"events\": [\n",
        "            {\"content\": {\"role\": \"user\", \"parts\": [{\"text\": \"I have four nieces!\"}]}}\n",
        "        ]\n",
        "    },\n",
        "    config={\"wait_for_completion\": True},\n",
        ")\n",
        "\n",
        "client.agent_engines.memories.get(\n",
        "    name=response.response.generated_memories[0].memory.name\n",
        ")"
      ]
    },
    {
      "cell_type": "markdown",
      "metadata": {
        "id": "Oa0A4ogWT8BM"
      },
      "source": [
        "#### Granular TTL\n",
        "\n",
        "The TTL is calculated based on which operation created or updated the Memory. If not set for a given operation, then the operation won't update the Memory's expiration time.\n",
        "\n",
        "Parameters include:\n",
        " * `create_ttl`: Applies to Memories created with CreateMemory operations\n",
        " * `generate_created_ttl`: Applies to Memories created with GenerateMemories\n",
        " * `generate_updated_ttl`: Applies to Memories updated with GenerateMemories"
      ]
    },
    {
      "cell_type": "code",
      "execution_count": null,
      "metadata": {
        "colab": {
          "base_uri": "https://localhost:8080/"
        },
        "id": "3g02gtyrT7fG",
        "outputId": "4efaa174-1c5a-4931-b8da-16c3b8302c02"
      },
      "outputs": [
        {
          "name": "stderr",
          "output_type": "stream",
          "text": [
            "INFO:vertexai_genai.agentengines:View progress and logs at https://console.cloud.google.com/logs/query?project=unstacked-x-bwai.\n",
            "INFO:vertexai_genai.agentengines:Agent Engine updated. To use it in another session:\n",
            "INFO:vertexai_genai.agentengines:agent_engine=client.agent_engines.get('projects/437300234315/locations/us-central1/reasoningEngines/283924688617340928')\n"
          ]
        },
        {
          "data": {
            "text/plain": [
              "AgentEngine(api_resource.name='projects/437300234315/locations/us-central1/reasoningEngines/283924688617340928')"
            ]
          },
          "execution_count": 49,
          "metadata": {},
          "output_type": "execute_result"
        }
      ],
      "source": [
        "client.agent_engines.update(\n",
        "    name=agent_engine.api_resource.name,\n",
        "    config={\n",
        "        \"context_spec\": {\n",
        "            \"memory_bank_config\": {\n",
        "                \"ttl_config\": {\n",
        "                    \"granular_ttl_config\": {\n",
        "                        # 365 days\n",
        "                        \"generate_created_ttl\": f\"{24 * 60 * 60 * 365}s\",\n",
        "                    }\n",
        "                }\n",
        "            }\n",
        "        }\n",
        "    },\n",
        ")"
      ]
    },
    {
      "cell_type": "code",
      "execution_count": null,
      "metadata": {
        "colab": {
          "base_uri": "https://localhost:8080/"
        },
        "id": "dT3ffaBksw99",
        "outputId": "a604a853-23e7-485f-80cf-84bf2775f9ae"
      },
      "outputs": [
        {
          "data": {
            "text/plain": [
              "Memory(\n",
              "  create_time=datetime.datetime(2025, 10, 21, 14, 44, 34, 692040, tzinfo=TzInfo(UTC)),\n",
              "  expire_time=datetime.datetime(2026, 10, 21, 14, 44, 34, 685971, tzinfo=TzInfo(UTC)),\n",
              "  fact='I work at Zindua School.',\n",
              "  name='projects/437300234315/locations/us-central1/reasoningEngines/283924688617340928/memories/8151703891784761344',\n",
              "  scope={\n",
              "    'user_id': 'My User'\n",
              "  },\n",
              "  update_time=datetime.datetime(2025, 10, 21, 14, 44, 34, 692040, tzinfo=TzInfo(UTC))\n",
              ")"
            ]
          },
          "execution_count": 50,
          "metadata": {},
          "output_type": "execute_result"
        }
      ],
      "source": [
        "response = client.agent_engines.memories.generate(\n",
        "    scope={\"user_id\": USER_ID},\n",
        "    name=agent_engine.api_resource.name,\n",
        "    direct_contents_source={\n",
        "        \"events\": [\n",
        "            {\n",
        "                \"content\": {\n",
        "                    \"role\": \"user\",\n",
        "                    \"parts\": [{\"text\": \"Remember that I work at Zindua School!\"}],\n",
        "                }\n",
        "            }\n",
        "        ]\n",
        "    },\n",
        ")\n",
        "\n",
        "client.agent_engines.memories.get(\n",
        "    name=response.response.generated_memories[0].memory.name\n",
        ")"
      ]
    },
    {
      "cell_type": "code",
      "execution_count": null,
      "metadata": {
        "colab": {
          "base_uri": "https://localhost:8080/"
        },
        "id": "O6UGzBpCTpHB",
        "outputId": "cbf21a20-dcb0-48a9-9939-34bf2ea53be2"
      },
      "outputs": [
        {
          "data": {
            "text/plain": [
              "Memory(\n",
              "  create_time=datetime.datetime(2025, 10, 21, 14, 45, 10, 120194, tzinfo=TzInfo(UTC)),\n",
              "  expire_time=datetime.datetime(2026, 10, 21, 14, 45, 10, 114376, tzinfo=TzInfo(UTC)),\n",
              "  fact='I work at Google.',\n",
              "  name='projects/437300234315/locations/us-central1/reasoningEngines/283924688617340928/memories/6224163251270189056',\n",
              "  scope={\n",
              "    'user_id': 'My User'\n",
              "  },\n",
              "  update_time=datetime.datetime(2025, 10, 21, 14, 45, 10, 120194, tzinfo=TzInfo(UTC))\n",
              ")"
            ]
          },
          "execution_count": 51,
          "metadata": {},
          "output_type": "execute_result"
        }
      ],
      "source": [
        "response = client.agent_engines.memories.generate(\n",
        "    scope={\"user_id\": USER_ID},\n",
        "    name=agent_engine.api_resource.name,\n",
        "    direct_contents_source={\n",
        "        \"events\": [\n",
        "            {\"content\": {\"role\": \"user\", \"parts\": [{\"text\": \"I work at Google!\"}]}}\n",
        "        ]\n",
        "    },\n",
        ")\n",
        "\n",
        "client.agent_engines.memories.get(\n",
        "    name=response.response.generated_memories[0].memory.name\n",
        ")"
      ]
    },
    {
      "cell_type": "markdown",
      "metadata": {
        "id": "a678c7a2bf29"
      },
      "source": [
        "## Cleaning up\n",
        "\n",
        "It's always a best practice in cloud development to clean up resources you no longer need to avoid incurring unexpected costs. This final cell deletes the AgentEngine resources we created throughout this tutorial."
      ]
    },
    {
      "cell_type": "code",
      "execution_count": null,
      "metadata": {
        "id": "10fe83835935"
      },
      "outputs": [],
      "source": [
        "delete_agent_engines = True\n",
        "\n",
        "agent_engine_name = agent_engine.api_resource.name\n",
        "\n",
        "if delete_agent_engines:\n",
        "    # Delete agent engine\n",
        "    client.agent_engines.delete(name=agent_engine_name, force=True)"
      ]
    }
  ],
  "metadata": {
    "colab": {
      "provenance": []
    },
    "kernelspec": {
      "display_name": "Python 3",
      "name": "python3"
    }
  },
  "nbformat": 4,
  "nbformat_minor": 0
}